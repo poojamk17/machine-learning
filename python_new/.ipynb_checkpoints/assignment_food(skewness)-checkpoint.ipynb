{
 "cells": [
  {
   "cell_type": "markdown",
   "metadata": {},
   "source": [
    "#### importing all neccessary lib and read the data file"
   ]
  },
  {
   "cell_type": "code",
   "execution_count": 24,
   "metadata": {},
   "outputs": [
    {
     "data": {
      "text/html": [
       "<div>\n",
       "<style scoped>\n",
       "    .dataframe tbody tr th:only-of-type {\n",
       "        vertical-align: middle;\n",
       "    }\n",
       "\n",
       "    .dataframe tbody tr th {\n",
       "        vertical-align: top;\n",
       "    }\n",
       "\n",
       "    .dataframe thead th {\n",
       "        text-align: right;\n",
       "    }\n",
       "</style>\n",
       "<table border=\"1\" class=\"dataframe\">\n",
       "  <thead>\n",
       "    <tr style=\"text-align: right;\">\n",
       "      <th></th>\n",
       "      <th>Country</th>\n",
       "      <th>Real_coffee</th>\n",
       "      <th>Instant_coffee</th>\n",
       "      <th>Tea</th>\n",
       "      <th>Sweetener</th>\n",
       "      <th>Biscuits</th>\n",
       "      <th>Powder_soup</th>\n",
       "      <th>Tin_soup</th>\n",
       "      <th>Potatoes</th>\n",
       "      <th>Frozen_fish</th>\n",
       "      <th>...</th>\n",
       "      <th>Apples</th>\n",
       "      <th>Oranges</th>\n",
       "      <th>Tinned_fruit</th>\n",
       "      <th>Jam</th>\n",
       "      <th>Garlic</th>\n",
       "      <th>Butter</th>\n",
       "      <th>Margarine</th>\n",
       "      <th>Olive_oil</th>\n",
       "      <th>Yoghurt</th>\n",
       "      <th>Crisp_bread</th>\n",
       "    </tr>\n",
       "  </thead>\n",
       "  <tbody>\n",
       "    <tr>\n",
       "      <th>0</th>\n",
       "      <td>Germany</td>\n",
       "      <td>90</td>\n",
       "      <td>49</td>\n",
       "      <td>88</td>\n",
       "      <td>19.0</td>\n",
       "      <td>57.0</td>\n",
       "      <td>51</td>\n",
       "      <td>19</td>\n",
       "      <td>21</td>\n",
       "      <td>27</td>\n",
       "      <td>...</td>\n",
       "      <td>81</td>\n",
       "      <td>75</td>\n",
       "      <td>44</td>\n",
       "      <td>71</td>\n",
       "      <td>22</td>\n",
       "      <td>91</td>\n",
       "      <td>85</td>\n",
       "      <td>74</td>\n",
       "      <td>30.0</td>\n",
       "      <td>26</td>\n",
       "    </tr>\n",
       "    <tr>\n",
       "      <th>1</th>\n",
       "      <td>Italy</td>\n",
       "      <td>82</td>\n",
       "      <td>10</td>\n",
       "      <td>60</td>\n",
       "      <td>2.0</td>\n",
       "      <td>55.0</td>\n",
       "      <td>41</td>\n",
       "      <td>3</td>\n",
       "      <td>2</td>\n",
       "      <td>4</td>\n",
       "      <td>...</td>\n",
       "      <td>67</td>\n",
       "      <td>71</td>\n",
       "      <td>9</td>\n",
       "      <td>46</td>\n",
       "      <td>80</td>\n",
       "      <td>66</td>\n",
       "      <td>24</td>\n",
       "      <td>94</td>\n",
       "      <td>5.0</td>\n",
       "      <td>18</td>\n",
       "    </tr>\n",
       "    <tr>\n",
       "      <th>2</th>\n",
       "      <td>France</td>\n",
       "      <td>88</td>\n",
       "      <td>42</td>\n",
       "      <td>63</td>\n",
       "      <td>4.0</td>\n",
       "      <td>76.0</td>\n",
       "      <td>53</td>\n",
       "      <td>11</td>\n",
       "      <td>23</td>\n",
       "      <td>11</td>\n",
       "      <td>...</td>\n",
       "      <td>87</td>\n",
       "      <td>84</td>\n",
       "      <td>40</td>\n",
       "      <td>45</td>\n",
       "      <td>88</td>\n",
       "      <td>94</td>\n",
       "      <td>47</td>\n",
       "      <td>36</td>\n",
       "      <td>57.0</td>\n",
       "      <td>3</td>\n",
       "    </tr>\n",
       "    <tr>\n",
       "      <th>3</th>\n",
       "      <td>Holland</td>\n",
       "      <td>96</td>\n",
       "      <td>62</td>\n",
       "      <td>98</td>\n",
       "      <td>32.0</td>\n",
       "      <td>62.0</td>\n",
       "      <td>67</td>\n",
       "      <td>43</td>\n",
       "      <td>7</td>\n",
       "      <td>14</td>\n",
       "      <td>...</td>\n",
       "      <td>83</td>\n",
       "      <td>89</td>\n",
       "      <td>61</td>\n",
       "      <td>81</td>\n",
       "      <td>15</td>\n",
       "      <td>31</td>\n",
       "      <td>97</td>\n",
       "      <td>13</td>\n",
       "      <td>53.0</td>\n",
       "      <td>15</td>\n",
       "    </tr>\n",
       "    <tr>\n",
       "      <th>4</th>\n",
       "      <td>Belgium</td>\n",
       "      <td>94</td>\n",
       "      <td>38</td>\n",
       "      <td>48</td>\n",
       "      <td>11.0</td>\n",
       "      <td>74.0</td>\n",
       "      <td>37</td>\n",
       "      <td>23</td>\n",
       "      <td>9</td>\n",
       "      <td>13</td>\n",
       "      <td>...</td>\n",
       "      <td>76</td>\n",
       "      <td>76</td>\n",
       "      <td>42</td>\n",
       "      <td>57</td>\n",
       "      <td>29</td>\n",
       "      <td>84</td>\n",
       "      <td>80</td>\n",
       "      <td>83</td>\n",
       "      <td>20.0</td>\n",
       "      <td>5</td>\n",
       "    </tr>\n",
       "    <tr>\n",
       "      <th>5</th>\n",
       "      <td>Luxembourg</td>\n",
       "      <td>97</td>\n",
       "      <td>61</td>\n",
       "      <td>86</td>\n",
       "      <td>28.0</td>\n",
       "      <td>79.0</td>\n",
       "      <td>73</td>\n",
       "      <td>12</td>\n",
       "      <td>7</td>\n",
       "      <td>26</td>\n",
       "      <td>...</td>\n",
       "      <td>85</td>\n",
       "      <td>94</td>\n",
       "      <td>83</td>\n",
       "      <td>20</td>\n",
       "      <td>91</td>\n",
       "      <td>94</td>\n",
       "      <td>94</td>\n",
       "      <td>84</td>\n",
       "      <td>31.0</td>\n",
       "      <td>24</td>\n",
       "    </tr>\n",
       "    <tr>\n",
       "      <th>6</th>\n",
       "      <td>England</td>\n",
       "      <td>27</td>\n",
       "      <td>86</td>\n",
       "      <td>99</td>\n",
       "      <td>22.0</td>\n",
       "      <td>91.0</td>\n",
       "      <td>55</td>\n",
       "      <td>76</td>\n",
       "      <td>17</td>\n",
       "      <td>20</td>\n",
       "      <td>...</td>\n",
       "      <td>76</td>\n",
       "      <td>68</td>\n",
       "      <td>89</td>\n",
       "      <td>91</td>\n",
       "      <td>11</td>\n",
       "      <td>95</td>\n",
       "      <td>94</td>\n",
       "      <td>57</td>\n",
       "      <td>11.0</td>\n",
       "      <td>28</td>\n",
       "    </tr>\n",
       "    <tr>\n",
       "      <th>7</th>\n",
       "      <td>Portugal</td>\n",
       "      <td>72</td>\n",
       "      <td>26</td>\n",
       "      <td>77</td>\n",
       "      <td>2.0</td>\n",
       "      <td>22.0</td>\n",
       "      <td>34</td>\n",
       "      <td>1</td>\n",
       "      <td>5</td>\n",
       "      <td>20</td>\n",
       "      <td>...</td>\n",
       "      <td>22</td>\n",
       "      <td>51</td>\n",
       "      <td>8</td>\n",
       "      <td>16</td>\n",
       "      <td>89</td>\n",
       "      <td>65</td>\n",
       "      <td>78</td>\n",
       "      <td>92</td>\n",
       "      <td>6.0</td>\n",
       "      <td>9</td>\n",
       "    </tr>\n",
       "    <tr>\n",
       "      <th>8</th>\n",
       "      <td>Austria</td>\n",
       "      <td>55</td>\n",
       "      <td>31</td>\n",
       "      <td>61</td>\n",
       "      <td>15.0</td>\n",
       "      <td>29.0</td>\n",
       "      <td>33</td>\n",
       "      <td>1</td>\n",
       "      <td>5</td>\n",
       "      <td>15</td>\n",
       "      <td>...</td>\n",
       "      <td>49</td>\n",
       "      <td>42</td>\n",
       "      <td>14</td>\n",
       "      <td>41</td>\n",
       "      <td>51</td>\n",
       "      <td>51</td>\n",
       "      <td>72</td>\n",
       "      <td>28</td>\n",
       "      <td>13.0</td>\n",
       "      <td>11</td>\n",
       "    </tr>\n",
       "    <tr>\n",
       "      <th>9</th>\n",
       "      <td>Switzerland</td>\n",
       "      <td>73</td>\n",
       "      <td>72</td>\n",
       "      <td>85</td>\n",
       "      <td>25.0</td>\n",
       "      <td>31.0</td>\n",
       "      <td>69</td>\n",
       "      <td>10</td>\n",
       "      <td>17</td>\n",
       "      <td>19</td>\n",
       "      <td>...</td>\n",
       "      <td>79</td>\n",
       "      <td>70</td>\n",
       "      <td>46</td>\n",
       "      <td>61</td>\n",
       "      <td>64</td>\n",
       "      <td>82</td>\n",
       "      <td>48</td>\n",
       "      <td>61</td>\n",
       "      <td>48.0</td>\n",
       "      <td>30</td>\n",
       "    </tr>\n",
       "    <tr>\n",
       "      <th>10</th>\n",
       "      <td>Sweden</td>\n",
       "      <td>97</td>\n",
       "      <td>13</td>\n",
       "      <td>93</td>\n",
       "      <td>31.0</td>\n",
       "      <td>NaN</td>\n",
       "      <td>43</td>\n",
       "      <td>43</td>\n",
       "      <td>39</td>\n",
       "      <td>54</td>\n",
       "      <td>...</td>\n",
       "      <td>56</td>\n",
       "      <td>78</td>\n",
       "      <td>53</td>\n",
       "      <td>75</td>\n",
       "      <td>9</td>\n",
       "      <td>68</td>\n",
       "      <td>32</td>\n",
       "      <td>48</td>\n",
       "      <td>2.0</td>\n",
       "      <td>93</td>\n",
       "    </tr>\n",
       "    <tr>\n",
       "      <th>11</th>\n",
       "      <td>Denmark</td>\n",
       "      <td>96</td>\n",
       "      <td>17</td>\n",
       "      <td>92</td>\n",
       "      <td>35.0</td>\n",
       "      <td>66.0</td>\n",
       "      <td>32</td>\n",
       "      <td>17</td>\n",
       "      <td>11</td>\n",
       "      <td>51</td>\n",
       "      <td>...</td>\n",
       "      <td>81</td>\n",
       "      <td>72</td>\n",
       "      <td>50</td>\n",
       "      <td>64</td>\n",
       "      <td>11</td>\n",
       "      <td>92</td>\n",
       "      <td>91</td>\n",
       "      <td>30</td>\n",
       "      <td>11.0</td>\n",
       "      <td>34</td>\n",
       "    </tr>\n",
       "    <tr>\n",
       "      <th>12</th>\n",
       "      <td>Norway</td>\n",
       "      <td>92</td>\n",
       "      <td>17</td>\n",
       "      <td>83</td>\n",
       "      <td>13.0</td>\n",
       "      <td>62.0</td>\n",
       "      <td>51</td>\n",
       "      <td>4</td>\n",
       "      <td>17</td>\n",
       "      <td>30</td>\n",
       "      <td>...</td>\n",
       "      <td>61</td>\n",
       "      <td>72</td>\n",
       "      <td>34</td>\n",
       "      <td>51</td>\n",
       "      <td>11</td>\n",
       "      <td>63</td>\n",
       "      <td>94</td>\n",
       "      <td>28</td>\n",
       "      <td>2.0</td>\n",
       "      <td>62</td>\n",
       "    </tr>\n",
       "    <tr>\n",
       "      <th>13</th>\n",
       "      <td>Finland</td>\n",
       "      <td>98</td>\n",
       "      <td>12</td>\n",
       "      <td>84</td>\n",
       "      <td>20.0</td>\n",
       "      <td>64.0</td>\n",
       "      <td>27</td>\n",
       "      <td>10</td>\n",
       "      <td>8</td>\n",
       "      <td>18</td>\n",
       "      <td>...</td>\n",
       "      <td>50</td>\n",
       "      <td>57</td>\n",
       "      <td>22</td>\n",
       "      <td>37</td>\n",
       "      <td>15</td>\n",
       "      <td>96</td>\n",
       "      <td>94</td>\n",
       "      <td>17</td>\n",
       "      <td>NaN</td>\n",
       "      <td>64</td>\n",
       "    </tr>\n",
       "    <tr>\n",
       "      <th>14</th>\n",
       "      <td>Spain</td>\n",
       "      <td>70</td>\n",
       "      <td>40</td>\n",
       "      <td>40</td>\n",
       "      <td>NaN</td>\n",
       "      <td>62.0</td>\n",
       "      <td>43</td>\n",
       "      <td>2</td>\n",
       "      <td>14</td>\n",
       "      <td>23</td>\n",
       "      <td>...</td>\n",
       "      <td>59</td>\n",
       "      <td>77</td>\n",
       "      <td>30</td>\n",
       "      <td>38</td>\n",
       "      <td>86</td>\n",
       "      <td>44</td>\n",
       "      <td>51</td>\n",
       "      <td>91</td>\n",
       "      <td>16.0</td>\n",
       "      <td>13</td>\n",
       "    </tr>\n",
       "    <tr>\n",
       "      <th>15</th>\n",
       "      <td>Ireland</td>\n",
       "      <td>30</td>\n",
       "      <td>52</td>\n",
       "      <td>99</td>\n",
       "      <td>11.0</td>\n",
       "      <td>80.0</td>\n",
       "      <td>75</td>\n",
       "      <td>18</td>\n",
       "      <td>2</td>\n",
       "      <td>5</td>\n",
       "      <td>...</td>\n",
       "      <td>57</td>\n",
       "      <td>52</td>\n",
       "      <td>46</td>\n",
       "      <td>89</td>\n",
       "      <td>5</td>\n",
       "      <td>97</td>\n",
       "      <td>25</td>\n",
       "      <td>31</td>\n",
       "      <td>3.0</td>\n",
       "      <td>9</td>\n",
       "    </tr>\n",
       "  </tbody>\n",
       "</table>\n",
       "<p>16 rows × 21 columns</p>\n",
       "</div>"
      ],
      "text/plain": [
       "        Country  Real_coffee  Instant_coffee  Tea  Sweetener  Biscuits  \\\n",
       "0       Germany           90              49   88       19.0      57.0   \n",
       "1         Italy           82              10   60        2.0      55.0   \n",
       "2        France           88              42   63        4.0      76.0   \n",
       "3       Holland           96              62   98       32.0      62.0   \n",
       "4       Belgium           94              38   48       11.0      74.0   \n",
       "5    Luxembourg           97              61   86       28.0      79.0   \n",
       "6       England           27              86   99       22.0      91.0   \n",
       "7      Portugal           72              26   77        2.0      22.0   \n",
       "8       Austria           55              31   61       15.0      29.0   \n",
       "9   Switzerland           73              72   85       25.0      31.0   \n",
       "10       Sweden           97              13   93       31.0       NaN   \n",
       "11      Denmark           96              17   92       35.0      66.0   \n",
       "12       Norway           92              17   83       13.0      62.0   \n",
       "13      Finland           98              12   84       20.0      64.0   \n",
       "14        Spain           70              40   40        NaN      62.0   \n",
       "15      Ireland           30              52   99       11.0      80.0   \n",
       "\n",
       "    Powder_soup  Tin_soup  Potatoes  Frozen_fish  ...  Apples  Oranges  \\\n",
       "0            51        19        21           27  ...      81       75   \n",
       "1            41         3         2            4  ...      67       71   \n",
       "2            53        11        23           11  ...      87       84   \n",
       "3            67        43         7           14  ...      83       89   \n",
       "4            37        23         9           13  ...      76       76   \n",
       "5            73        12         7           26  ...      85       94   \n",
       "6            55        76        17           20  ...      76       68   \n",
       "7            34         1         5           20  ...      22       51   \n",
       "8            33         1         5           15  ...      49       42   \n",
       "9            69        10        17           19  ...      79       70   \n",
       "10           43        43        39           54  ...      56       78   \n",
       "11           32        17        11           51  ...      81       72   \n",
       "12           51         4        17           30  ...      61       72   \n",
       "13           27        10         8           18  ...      50       57   \n",
       "14           43         2        14           23  ...      59       77   \n",
       "15           75        18         2            5  ...      57       52   \n",
       "\n",
       "    Tinned_fruit  Jam  Garlic  Butter  Margarine  Olive_oil  Yoghurt  \\\n",
       "0             44   71      22      91         85         74     30.0   \n",
       "1              9   46      80      66         24         94      5.0   \n",
       "2             40   45      88      94         47         36     57.0   \n",
       "3             61   81      15      31         97         13     53.0   \n",
       "4             42   57      29      84         80         83     20.0   \n",
       "5             83   20      91      94         94         84     31.0   \n",
       "6             89   91      11      95         94         57     11.0   \n",
       "7              8   16      89      65         78         92      6.0   \n",
       "8             14   41      51      51         72         28     13.0   \n",
       "9             46   61      64      82         48         61     48.0   \n",
       "10            53   75       9      68         32         48      2.0   \n",
       "11            50   64      11      92         91         30     11.0   \n",
       "12            34   51      11      63         94         28      2.0   \n",
       "13            22   37      15      96         94         17      NaN   \n",
       "14            30   38      86      44         51         91     16.0   \n",
       "15            46   89       5      97         25         31      3.0   \n",
       "\n",
       "    Crisp_bread  \n",
       "0            26  \n",
       "1            18  \n",
       "2             3  \n",
       "3            15  \n",
       "4             5  \n",
       "5            24  \n",
       "6            28  \n",
       "7             9  \n",
       "8            11  \n",
       "9            30  \n",
       "10           93  \n",
       "11           34  \n",
       "12           62  \n",
       "13           64  \n",
       "14           13  \n",
       "15            9  \n",
       "\n",
       "[16 rows x 21 columns]"
      ]
     },
     "execution_count": 24,
     "metadata": {},
     "output_type": "execute_result"
    }
   ],
   "source": [
    "import pandas as pd\n",
    "import numpy as np\n",
    "import matplotlib.pyplot as plt\n",
    "from scipy import stats as st #skew,kurtosis,iqr\n",
    "import seaborn as sns # boxplot\n",
    "df=pd.read_csv('food-consumption.csv')\n",
    "df"
   ]
  },
  {
   "cell_type": "markdown",
   "metadata": {},
   "source": [
    "#### getting info about data"
   ]
  },
  {
   "cell_type": "code",
   "execution_count": 25,
   "metadata": {},
   "outputs": [
    {
     "name": "stdout",
     "output_type": "stream",
     "text": [
      "<class 'pandas.core.frame.DataFrame'>\n",
      "RangeIndex: 16 entries, 0 to 15\n",
      "Data columns (total 21 columns):\n",
      "Country           16 non-null object\n",
      "Real_coffee       16 non-null int64\n",
      "Instant_coffee    16 non-null int64\n",
      "Tea               16 non-null int64\n",
      "Sweetener         15 non-null float64\n",
      "Biscuits          15 non-null float64\n",
      "Powder_soup       16 non-null int64\n",
      "Tin_soup          16 non-null int64\n",
      "Potatoes          16 non-null int64\n",
      "Frozen_fish       16 non-null int64\n",
      "Frozen_veggies    16 non-null int64\n",
      "Apples            16 non-null int64\n",
      "Oranges           16 non-null int64\n",
      "Tinned_fruit      16 non-null int64\n",
      "Jam               16 non-null int64\n",
      "Garlic            16 non-null int64\n",
      "Butter            16 non-null int64\n",
      "Margarine         16 non-null int64\n",
      "Olive_oil         16 non-null int64\n",
      "Yoghurt           15 non-null float64\n",
      "Crisp_bread       16 non-null int64\n",
      "dtypes: float64(3), int64(17), object(1)\n",
      "memory usage: 2.7+ KB\n"
     ]
    }
   ],
   "source": [
    "df.info()"
   ]
  },
  {
   "cell_type": "markdown",
   "metadata": {},
   "source": [
    "#### checking whether any null value is there or not with each column"
   ]
  },
  {
   "cell_type": "code",
   "execution_count": 26,
   "metadata": {},
   "outputs": [
    {
     "data": {
      "text/plain": [
       "Country           0\n",
       "Real_coffee       0\n",
       "Instant_coffee    0\n",
       "Tea               0\n",
       "Sweetener         1\n",
       "Biscuits          1\n",
       "Powder_soup       0\n",
       "Tin_soup          0\n",
       "Potatoes          0\n",
       "Frozen_fish       0\n",
       "Frozen_veggies    0\n",
       "Apples            0\n",
       "Oranges           0\n",
       "Tinned_fruit      0\n",
       "Jam               0\n",
       "Garlic            0\n",
       "Butter            0\n",
       "Margarine         0\n",
       "Olive_oil         0\n",
       "Yoghurt           1\n",
       "Crisp_bread       0\n",
       "dtype: int64"
      ]
     },
     "execution_count": 26,
     "metadata": {},
     "output_type": "execute_result"
    }
   ],
   "source": [
    "df.isnull().sum()"
   ]
  },
  {
   "cell_type": "markdown",
   "metadata": {},
   "source": [
    "### replacing all the null value with 'ffill' for further operation"
   ]
  },
  {
   "cell_type": "code",
   "execution_count": 27,
   "metadata": {},
   "outputs": [],
   "source": [
    "df['Sweetener'].fillna(method='ffill',inplace=True)"
   ]
  },
  {
   "cell_type": "code",
   "execution_count": 28,
   "metadata": {},
   "outputs": [],
   "source": [
    "df['Biscuits'].fillna(method='ffill',inplace=True)"
   ]
  },
  {
   "cell_type": "code",
   "execution_count": 29,
   "metadata": {},
   "outputs": [],
   "source": [
    "df['Yoghurt'].fillna(method='ffill',inplace=True)"
   ]
  },
  {
   "cell_type": "code",
   "execution_count": 30,
   "metadata": {},
   "outputs": [
    {
     "data": {
      "text/plain": [
       "Country           0\n",
       "Real_coffee       0\n",
       "Instant_coffee    0\n",
       "Tea               0\n",
       "Sweetener         0\n",
       "Biscuits          0\n",
       "Powder_soup       0\n",
       "Tin_soup          0\n",
       "Potatoes          0\n",
       "Frozen_fish       0\n",
       "Frozen_veggies    0\n",
       "Apples            0\n",
       "Oranges           0\n",
       "Tinned_fruit      0\n",
       "Jam               0\n",
       "Garlic            0\n",
       "Butter            0\n",
       "Margarine         0\n",
       "Olive_oil         0\n",
       "Yoghurt           0\n",
       "Crisp_bread       0\n",
       "dtype: int64"
      ]
     },
     "execution_count": 30,
     "metadata": {},
     "output_type": "execute_result"
    }
   ],
   "source": [
    "df.isnull().sum()"
   ]
  },
  {
   "cell_type": "markdown",
   "metadata": {},
   "source": [
    "### describe the data which as numeric data"
   ]
  },
  {
   "cell_type": "code",
   "execution_count": 36,
   "metadata": {},
   "outputs": [
    {
     "data": {
      "text/html": [
       "<div>\n",
       "<style scoped>\n",
       "    .dataframe tbody tr th:only-of-type {\n",
       "        vertical-align: middle;\n",
       "    }\n",
       "\n",
       "    .dataframe tbody tr th {\n",
       "        vertical-align: top;\n",
       "    }\n",
       "\n",
       "    .dataframe thead th {\n",
       "        text-align: right;\n",
       "    }\n",
       "</style>\n",
       "<table border=\"1\" class=\"dataframe\">\n",
       "  <thead>\n",
       "    <tr style=\"text-align: right;\">\n",
       "      <th></th>\n",
       "      <th>Real_coffee</th>\n",
       "      <th>Instant_coffee</th>\n",
       "      <th>Tea</th>\n",
       "      <th>Sweetener</th>\n",
       "      <th>Biscuits</th>\n",
       "      <th>Powder_soup</th>\n",
       "      <th>Tin_soup</th>\n",
       "      <th>Potatoes</th>\n",
       "      <th>Frozen_fish</th>\n",
       "      <th>Frozen_veggies</th>\n",
       "      <th>Apples</th>\n",
       "      <th>Oranges</th>\n",
       "      <th>Tinned_fruit</th>\n",
       "      <th>Jam</th>\n",
       "      <th>Garlic</th>\n",
       "      <th>Butter</th>\n",
       "      <th>Margarine</th>\n",
       "      <th>Olive_oil</th>\n",
       "      <th>Yoghurt</th>\n",
       "      <th>Crisp_bread</th>\n",
       "    </tr>\n",
       "  </thead>\n",
       "  <tbody>\n",
       "    <tr>\n",
       "      <th>count</th>\n",
       "      <td>16.000000</td>\n",
       "      <td>16.000000</td>\n",
       "      <td>16.000000</td>\n",
       "      <td>16.000000</td>\n",
       "      <td>16.000000</td>\n",
       "      <td>16.000000</td>\n",
       "      <td>16.000000</td>\n",
       "      <td>16.000000</td>\n",
       "      <td>16.000000</td>\n",
       "      <td>16.00000</td>\n",
       "      <td>16.000000</td>\n",
       "      <td>16.000000</td>\n",
       "      <td>16.000000</td>\n",
       "      <td>16.000000</td>\n",
       "      <td>16.000000</td>\n",
       "      <td>16.000000</td>\n",
       "      <td>16.000000</td>\n",
       "      <td>16.000000</td>\n",
       "      <td>16.000000</td>\n",
       "      <td>16.000000</td>\n",
       "    </tr>\n",
       "    <tr>\n",
       "      <th>mean</th>\n",
       "      <td>78.562500</td>\n",
       "      <td>39.250000</td>\n",
       "      <td>78.500000</td>\n",
       "      <td>18.125000</td>\n",
       "      <td>58.812500</td>\n",
       "      <td>49.000000</td>\n",
       "      <td>18.312500</td>\n",
       "      <td>12.750000</td>\n",
       "      <td>21.875000</td>\n",
       "      <td>15.87500</td>\n",
       "      <td>66.812500</td>\n",
       "      <td>70.500000</td>\n",
       "      <td>41.937500</td>\n",
       "      <td>55.187500</td>\n",
       "      <td>42.312500</td>\n",
       "      <td>75.812500</td>\n",
       "      <td>69.125000</td>\n",
       "      <td>54.187500</td>\n",
       "      <td>19.375000</td>\n",
       "      <td>27.750000</td>\n",
       "    </tr>\n",
       "    <tr>\n",
       "      <th>std</th>\n",
       "      <td>23.145824</td>\n",
       "      <td>23.147354</td>\n",
       "      <td>18.540047</td>\n",
       "      <td>10.544351</td>\n",
       "      <td>20.553082</td>\n",
       "      <td>15.427249</td>\n",
       "      <td>20.178268</td>\n",
       "      <td>9.574271</td>\n",
       "      <td>13.980343</td>\n",
       "      <td>12.78997</td>\n",
       "      <td>17.581122</td>\n",
       "      <td>14.033294</td>\n",
       "      <td>23.256451</td>\n",
       "      <td>22.592679</td>\n",
       "      <td>34.677022</td>\n",
       "      <td>20.910026</td>\n",
       "      <td>26.849891</td>\n",
       "      <td>28.842604</td>\n",
       "      <td>18.913399</td>\n",
       "      <td>25.026652</td>\n",
       "    </tr>\n",
       "    <tr>\n",
       "      <th>min</th>\n",
       "      <td>27.000000</td>\n",
       "      <td>10.000000</td>\n",
       "      <td>40.000000</td>\n",
       "      <td>2.000000</td>\n",
       "      <td>22.000000</td>\n",
       "      <td>27.000000</td>\n",
       "      <td>1.000000</td>\n",
       "      <td>2.000000</td>\n",
       "      <td>4.000000</td>\n",
       "      <td>2.00000</td>\n",
       "      <td>22.000000</td>\n",
       "      <td>42.000000</td>\n",
       "      <td>8.000000</td>\n",
       "      <td>16.000000</td>\n",
       "      <td>5.000000</td>\n",
       "      <td>31.000000</td>\n",
       "      <td>24.000000</td>\n",
       "      <td>13.000000</td>\n",
       "      <td>2.000000</td>\n",
       "      <td>3.000000</td>\n",
       "    </tr>\n",
       "    <tr>\n",
       "      <th>25%</th>\n",
       "      <td>71.500000</td>\n",
       "      <td>17.000000</td>\n",
       "      <td>62.500000</td>\n",
       "      <td>11.000000</td>\n",
       "      <td>49.000000</td>\n",
       "      <td>36.250000</td>\n",
       "      <td>3.750000</td>\n",
       "      <td>6.500000</td>\n",
       "      <td>13.750000</td>\n",
       "      <td>6.50000</td>\n",
       "      <td>56.750000</td>\n",
       "      <td>65.250000</td>\n",
       "      <td>28.000000</td>\n",
       "      <td>40.250000</td>\n",
       "      <td>11.000000</td>\n",
       "      <td>64.500000</td>\n",
       "      <td>47.750000</td>\n",
       "      <td>29.500000</td>\n",
       "      <td>4.500000</td>\n",
       "      <td>10.500000</td>\n",
       "    </tr>\n",
       "    <tr>\n",
       "      <th>50%</th>\n",
       "      <td>89.000000</td>\n",
       "      <td>39.000000</td>\n",
       "      <td>84.500000</td>\n",
       "      <td>19.500000</td>\n",
       "      <td>62.000000</td>\n",
       "      <td>47.000000</td>\n",
       "      <td>11.500000</td>\n",
       "      <td>10.000000</td>\n",
       "      <td>19.500000</td>\n",
       "      <td>13.00000</td>\n",
       "      <td>71.500000</td>\n",
       "      <td>72.000000</td>\n",
       "      <td>43.000000</td>\n",
       "      <td>54.000000</td>\n",
       "      <td>25.500000</td>\n",
       "      <td>83.000000</td>\n",
       "      <td>79.000000</td>\n",
       "      <td>52.500000</td>\n",
       "      <td>12.000000</td>\n",
       "      <td>21.000000</td>\n",
       "    </tr>\n",
       "    <tr>\n",
       "      <th>75%</th>\n",
       "      <td>96.000000</td>\n",
       "      <td>54.250000</td>\n",
       "      <td>92.250000</td>\n",
       "      <td>25.750000</td>\n",
       "      <td>74.500000</td>\n",
       "      <td>58.000000</td>\n",
       "      <td>20.000000</td>\n",
       "      <td>17.000000</td>\n",
       "      <td>26.250000</td>\n",
       "      <td>21.50000</td>\n",
       "      <td>81.000000</td>\n",
       "      <td>77.250000</td>\n",
       "      <td>50.750000</td>\n",
       "      <td>72.000000</td>\n",
       "      <td>81.500000</td>\n",
       "      <td>94.000000</td>\n",
       "      <td>94.000000</td>\n",
       "      <td>83.250000</td>\n",
       "      <td>30.250000</td>\n",
       "      <td>31.000000</td>\n",
       "    </tr>\n",
       "    <tr>\n",
       "      <th>max</th>\n",
       "      <td>98.000000</td>\n",
       "      <td>86.000000</td>\n",
       "      <td>99.000000</td>\n",
       "      <td>35.000000</td>\n",
       "      <td>91.000000</td>\n",
       "      <td>75.000000</td>\n",
       "      <td>76.000000</td>\n",
       "      <td>39.000000</td>\n",
       "      <td>54.000000</td>\n",
       "      <td>45.00000</td>\n",
       "      <td>87.000000</td>\n",
       "      <td>94.000000</td>\n",
       "      <td>89.000000</td>\n",
       "      <td>91.000000</td>\n",
       "      <td>91.000000</td>\n",
       "      <td>97.000000</td>\n",
       "      <td>97.000000</td>\n",
       "      <td>94.000000</td>\n",
       "      <td>57.000000</td>\n",
       "      <td>93.000000</td>\n",
       "    </tr>\n",
       "  </tbody>\n",
       "</table>\n",
       "</div>"
      ],
      "text/plain": [
       "       Real_coffee  Instant_coffee        Tea  Sweetener   Biscuits  \\\n",
       "count    16.000000       16.000000  16.000000  16.000000  16.000000   \n",
       "mean     78.562500       39.250000  78.500000  18.125000  58.812500   \n",
       "std      23.145824       23.147354  18.540047  10.544351  20.553082   \n",
       "min      27.000000       10.000000  40.000000   2.000000  22.000000   \n",
       "25%      71.500000       17.000000  62.500000  11.000000  49.000000   \n",
       "50%      89.000000       39.000000  84.500000  19.500000  62.000000   \n",
       "75%      96.000000       54.250000  92.250000  25.750000  74.500000   \n",
       "max      98.000000       86.000000  99.000000  35.000000  91.000000   \n",
       "\n",
       "       Powder_soup   Tin_soup   Potatoes  Frozen_fish  Frozen_veggies  \\\n",
       "count    16.000000  16.000000  16.000000    16.000000        16.00000   \n",
       "mean     49.000000  18.312500  12.750000    21.875000        15.87500   \n",
       "std      15.427249  20.178268   9.574271    13.980343        12.78997   \n",
       "min      27.000000   1.000000   2.000000     4.000000         2.00000   \n",
       "25%      36.250000   3.750000   6.500000    13.750000         6.50000   \n",
       "50%      47.000000  11.500000  10.000000    19.500000        13.00000   \n",
       "75%      58.000000  20.000000  17.000000    26.250000        21.50000   \n",
       "max      75.000000  76.000000  39.000000    54.000000        45.00000   \n",
       "\n",
       "          Apples    Oranges  Tinned_fruit        Jam     Garlic     Butter  \\\n",
       "count  16.000000  16.000000     16.000000  16.000000  16.000000  16.000000   \n",
       "mean   66.812500  70.500000     41.937500  55.187500  42.312500  75.812500   \n",
       "std    17.581122  14.033294     23.256451  22.592679  34.677022  20.910026   \n",
       "min    22.000000  42.000000      8.000000  16.000000   5.000000  31.000000   \n",
       "25%    56.750000  65.250000     28.000000  40.250000  11.000000  64.500000   \n",
       "50%    71.500000  72.000000     43.000000  54.000000  25.500000  83.000000   \n",
       "75%    81.000000  77.250000     50.750000  72.000000  81.500000  94.000000   \n",
       "max    87.000000  94.000000     89.000000  91.000000  91.000000  97.000000   \n",
       "\n",
       "       Margarine  Olive_oil    Yoghurt  Crisp_bread  \n",
       "count  16.000000  16.000000  16.000000    16.000000  \n",
       "mean   69.125000  54.187500  19.375000    27.750000  \n",
       "std    26.849891  28.842604  18.913399    25.026652  \n",
       "min    24.000000  13.000000   2.000000     3.000000  \n",
       "25%    47.750000  29.500000   4.500000    10.500000  \n",
       "50%    79.000000  52.500000  12.000000    21.000000  \n",
       "75%    94.000000  83.250000  30.250000    31.000000  \n",
       "max    97.000000  94.000000  57.000000    93.000000  "
      ]
     },
     "execution_count": 36,
     "metadata": {},
     "output_type": "execute_result"
    }
   ],
   "source": [
    "df.describe()"
   ]
  },
  {
   "cell_type": "markdown",
   "metadata": {},
   "source": [
    "### checking the skewness of the data"
   ]
  },
  {
   "cell_type": "markdown",
   "metadata": {},
   "source": [
    "### skewness of all sample as within the range of -1.96 to +1.96 so it is normally distributed data"
   ]
  },
  {
   "cell_type": "code",
   "execution_count": 33,
   "metadata": {},
   "outputs": [
    {
     "data": {
      "text/plain": [
       "-1.2594244967685218"
      ]
     },
     "execution_count": 33,
     "metadata": {},
     "output_type": "execute_result"
    }
   ],
   "source": [
    "st.skew(df.Real_coffee)"
   ]
  },
  {
   "cell_type": "code",
   "execution_count": 37,
   "metadata": {},
   "outputs": [
    {
     "data": {
      "text/plain": [
       "0.4114743147373834"
      ]
     },
     "execution_count": 37,
     "metadata": {},
     "output_type": "execute_result"
    }
   ],
   "source": [
    "st.skew(df.Instant_coffee)"
   ]
  },
  {
   "cell_type": "code",
   "execution_count": 38,
   "metadata": {},
   "outputs": [
    {
     "data": {
      "text/plain": [
       "-0.7443195415576758"
      ]
     },
     "execution_count": 38,
     "metadata": {},
     "output_type": "execute_result"
    }
   ],
   "source": [
    "st.skew(df.Tea)"
   ]
  },
  {
   "cell_type": "code",
   "execution_count": 39,
   "metadata": {},
   "outputs": [
    {
     "data": {
      "text/plain": [
       "-0.06586256524705199"
      ]
     },
     "execution_count": 39,
     "metadata": {},
     "output_type": "execute_result"
    }
   ],
   "source": [
    "st.skew(df.Sweetener)"
   ]
  },
  {
   "cell_type": "code",
   "execution_count": 40,
   "metadata": {},
   "outputs": [
    {
     "data": {
      "text/plain": [
       "-0.4694658968249821"
      ]
     },
     "execution_count": 40,
     "metadata": {},
     "output_type": "execute_result"
    }
   ],
   "source": [
    "st.skew(df.Biscuits)"
   ]
  },
  {
   "cell_type": "code",
   "execution_count": 41,
   "metadata": {},
   "outputs": [
    {
     "data": {
      "text/plain": [
       "0.37174827005430705"
      ]
     },
     "execution_count": 41,
     "metadata": {},
     "output_type": "execute_result"
    }
   ],
   "source": [
    "st.skew(df.Powder_soup)"
   ]
  },
  {
   "cell_type": "code",
   "execution_count": 42,
   "metadata": {},
   "outputs": [
    {
     "data": {
      "text/plain": [
       "1.668871678179868"
      ]
     },
     "execution_count": 42,
     "metadata": {},
     "output_type": "execute_result"
    }
   ],
   "source": [
    "st.skew(df.Tin_soup)"
   ]
  },
  {
   "cell_type": "code",
   "execution_count": 43,
   "metadata": {},
   "outputs": [
    {
     "data": {
      "text/plain": [
       "1.2550414312443015"
      ]
     },
     "execution_count": 43,
     "metadata": {},
     "output_type": "execute_result"
    }
   ],
   "source": [
    "st.skew(df.Potatoes)"
   ]
  },
  {
   "cell_type": "code",
   "execution_count": 44,
   "metadata": {},
   "outputs": [
    {
     "data": {
      "text/plain": [
       "1.1387430690766995"
      ]
     },
     "execution_count": 44,
     "metadata": {},
     "output_type": "execute_result"
    }
   ],
   "source": [
    "st.skew(df.Frozen_fish)"
   ]
  },
  {
   "cell_type": "code",
   "execution_count": 45,
   "metadata": {},
   "outputs": [
    {
     "data": {
      "text/plain": [
       "1.1322069808470574"
      ]
     },
     "execution_count": 45,
     "metadata": {},
     "output_type": "execute_result"
    }
   ],
   "source": [
    "st.skew(df.Frozen_veggies)"
   ]
  },
  {
   "cell_type": "code",
   "execution_count": 46,
   "metadata": {},
   "outputs": [
    {
     "data": {
      "text/plain": [
       "-0.959373380070362"
      ]
     },
     "execution_count": 46,
     "metadata": {},
     "output_type": "execute_result"
    }
   ],
   "source": [
    "st.skew(df.Apples)"
   ]
  },
  {
   "cell_type": "code",
   "execution_count": 47,
   "metadata": {},
   "outputs": [
    {
     "data": {
      "text/plain": [
       "-0.41459463270054997"
      ]
     },
     "execution_count": 47,
     "metadata": {},
     "output_type": "execute_result"
    }
   ],
   "source": [
    "st.skew(df.Oranges)"
   ]
  },
  {
   "cell_type": "code",
   "execution_count": 48,
   "metadata": {},
   "outputs": [
    {
     "data": {
      "text/plain": [
       "0.4141633303739599"
      ]
     },
     "execution_count": 48,
     "metadata": {},
     "output_type": "execute_result"
    }
   ],
   "source": [
    "st.skew(df.Tinned_fruit)"
   ]
  },
  {
   "cell_type": "code",
   "execution_count": 49,
   "metadata": {},
   "outputs": [
    {
     "data": {
      "text/plain": [
       "-0.031034428465910365"
      ]
     },
     "execution_count": 49,
     "metadata": {},
     "output_type": "execute_result"
    }
   ],
   "source": [
    "st.skew(df.Jam)"
   ]
  },
  {
   "cell_type": "code",
   "execution_count": 50,
   "metadata": {},
   "outputs": [
    {
     "data": {
      "text/plain": [
       "0.3761489617201711"
      ]
     },
     "execution_count": 50,
     "metadata": {},
     "output_type": "execute_result"
    }
   ],
   "source": [
    "st.skew(df.Garlic)"
   ]
  },
  {
   "cell_type": "code",
   "execution_count": 51,
   "metadata": {},
   "outputs": [
    {
     "data": {
      "text/plain": [
       "-0.7296581296234627"
      ]
     },
     "execution_count": 51,
     "metadata": {},
     "output_type": "execute_result"
    }
   ],
   "source": [
    "st.skew(df.Butter)"
   ]
  },
  {
   "cell_type": "code",
   "execution_count": 52,
   "metadata": {},
   "outputs": [
    {
     "data": {
      "text/plain": [
       "-0.5530400625909548"
      ]
     },
     "execution_count": 52,
     "metadata": {},
     "output_type": "execute_result"
    }
   ],
   "source": [
    "st.skew(df.Margarine)"
   ]
  },
  {
   "cell_type": "code",
   "execution_count": 53,
   "metadata": {},
   "outputs": [
    {
     "data": {
      "text/plain": [
       "0.10186975472320046"
      ]
     },
     "execution_count": 53,
     "metadata": {},
     "output_type": "execute_result"
    }
   ],
   "source": [
    "st.skew(df.Olive_oil)"
   ]
  },
  {
   "cell_type": "code",
   "execution_count": 54,
   "metadata": {},
   "outputs": [
    {
     "data": {
      "text/plain": [
       "0.9214617538868429"
      ]
     },
     "execution_count": 54,
     "metadata": {},
     "output_type": "execute_result"
    }
   ],
   "source": [
    "st.skew(df.Yoghurt)"
   ]
  },
  {
   "cell_type": "code",
   "execution_count": 55,
   "metadata": {},
   "outputs": [
    {
     "data": {
      "text/plain": [
       "1.3827181793936045"
      ]
     },
     "execution_count": 55,
     "metadata": {},
     "output_type": "execute_result"
    }
   ],
   "source": [
    "st.skew(df.Crisp_bread)"
   ]
  },
  {
   "cell_type": "code",
   "execution_count": 34,
   "metadata": {},
   "outputs": [
    {
     "data": {
      "text/plain": [
       "Real_coffee      -1.393637\n",
       "Instant_coffee    0.455324\n",
       "Tea              -0.823639\n",
       "Sweetener        -0.072881\n",
       "Biscuits         -0.519495\n",
       "Powder_soup       0.411364\n",
       "Tin_soup          1.846718\n",
       "Potatoes          1.388787\n",
       "Frozen_fish       1.260095\n",
       "Frozen_veggies    1.252863\n",
       "Apples           -1.061611\n",
       "Oranges          -0.458777\n",
       "Tinned_fruit      0.458299\n",
       "Jam              -0.034342\n",
       "Garlic            0.416234\n",
       "Butter           -0.807415\n",
       "Margarine        -0.611976\n",
       "Olive_oil         0.112726\n",
       "Yoghurt           1.019659\n",
       "Crisp_bread       1.530070\n",
       "dtype: float64"
      ]
     },
     "execution_count": 34,
     "metadata": {},
     "output_type": "execute_result"
    }
   ],
   "source": [
    "df.skew()"
   ]
  },
  {
   "cell_type": "markdown",
   "metadata": {},
   "source": [
    "### kurtosis of all sample as within the range of -1.96 to +1.96 so it is normally distributed data"
   ]
  },
  {
   "cell_type": "code",
   "execution_count": 56,
   "metadata": {},
   "outputs": [
    {
     "data": {
      "text/plain": [
       "0.37463386969347834"
      ]
     },
     "execution_count": 56,
     "metadata": {},
     "output_type": "execute_result"
    }
   ],
   "source": [
    "st.kurtosis(df.Real_coffee)"
   ]
  },
  {
   "cell_type": "code",
   "execution_count": 57,
   "metadata": {},
   "outputs": [
    {
     "data": {
      "text/plain": [
       "-0.8355479646834958"
      ]
     },
     "execution_count": 57,
     "metadata": {},
     "output_type": "execute_result"
    }
   ],
   "source": [
    "st.kurtosis(df.Instant_coffee)"
   ]
  },
  {
   "cell_type": "code",
   "execution_count": 58,
   "metadata": {},
   "outputs": [
    {
     "data": {
      "text/plain": [
       "-0.6402771918019692"
      ]
     },
     "execution_count": 58,
     "metadata": {},
     "output_type": "execute_result"
    }
   ],
   "source": [
    "st.kurtosis(df.Tea)"
   ]
  },
  {
   "cell_type": "code",
   "execution_count": 59,
   "metadata": {},
   "outputs": [
    {
     "data": {
      "text/plain": [
       "-1.0522639073389586"
      ]
     },
     "execution_count": 59,
     "metadata": {},
     "output_type": "execute_result"
    }
   ],
   "source": [
    "st.kurtosis(df.Sweetener)"
   ]
  },
  {
   "cell_type": "code",
   "execution_count": 60,
   "metadata": {},
   "outputs": [
    {
     "data": {
      "text/plain": [
       "-0.8447134822620637"
      ]
     },
     "execution_count": 60,
     "metadata": {},
     "output_type": "execute_result"
    }
   ],
   "source": [
    "st.kurtosis(df.Biscuits)"
   ]
  },
  {
   "cell_type": "code",
   "execution_count": 61,
   "metadata": {},
   "outputs": [
    {
     "data": {
      "text/plain": [
       "-1.0959612080126169"
      ]
     },
     "execution_count": 61,
     "metadata": {},
     "output_type": "execute_result"
    }
   ],
   "source": [
    "st.kurtosis(df.Powder_soup)"
   ]
  },
  {
   "cell_type": "code",
   "execution_count": 62,
   "metadata": {},
   "outputs": [
    {
     "data": {
      "text/plain": [
       "2.2242884356353487"
      ]
     },
     "execution_count": 62,
     "metadata": {},
     "output_type": "execute_result"
    }
   ],
   "source": [
    "st.kurtosis(df.Tin_soup)"
   ]
  },
  {
   "cell_type": "code",
   "execution_count": 63,
   "metadata": {},
   "outputs": [
    {
     "data": {
      "text/plain": [
       "1.4707824132231408"
      ]
     },
     "execution_count": 63,
     "metadata": {},
     "output_type": "execute_result"
    }
   ],
   "source": [
    "st.kurtosis(df.Potatoes)"
   ]
  },
  {
   "cell_type": "code",
   "execution_count": 64,
   "metadata": {},
   "outputs": [
    {
     "data": {
      "text/plain": [
       "0.7225067392412483"
      ]
     },
     "execution_count": 64,
     "metadata": {},
     "output_type": "execute_result"
    }
   ],
   "source": [
    "st.kurtosis(df.Frozen_fish)"
   ]
  },
  {
   "cell_type": "code",
   "execution_count": 65,
   "metadata": {},
   "outputs": [
    {
     "data": {
      "text/plain": [
       "0.4712376520390338"
      ]
     },
     "execution_count": 65,
     "metadata": {},
     "output_type": "execute_result"
    }
   ],
   "source": [
    "st.kurtosis(df.Frozen_veggies)"
   ]
  },
  {
   "cell_type": "code",
   "execution_count": 66,
   "metadata": {},
   "outputs": [
    {
     "data": {
      "text/plain": [
       "0.5001629333739999"
      ]
     },
     "execution_count": 66,
     "metadata": {},
     "output_type": "execute_result"
    }
   ],
   "source": [
    "st.kurtosis(df.Apples)"
   ]
  },
  {
   "cell_type": "code",
   "execution_count": 67,
   "metadata": {},
   "outputs": [
    {
     "data": {
      "text/plain": [
       "-0.403025125955236"
      ]
     },
     "execution_count": 67,
     "metadata": {},
     "output_type": "execute_result"
    }
   ],
   "source": [
    "st.kurtosis(df.Oranges)"
   ]
  },
  {
   "cell_type": "code",
   "execution_count": 68,
   "metadata": {},
   "outputs": [
    {
     "data": {
      "text/plain": [
       "-0.27850353297672603"
      ]
     },
     "execution_count": 68,
     "metadata": {},
     "output_type": "execute_result"
    }
   ],
   "source": [
    "st.kurtosis(df.Tinned_fruit)"
   ]
  },
  {
   "cell_type": "code",
   "execution_count": 69,
   "metadata": {},
   "outputs": [
    {
     "data": {
      "text/plain": [
       "-0.8802376822578193"
      ]
     },
     "execution_count": 69,
     "metadata": {},
     "output_type": "execute_result"
    }
   ],
   "source": [
    "st.kurtosis(df.Jam)"
   ]
  },
  {
   "cell_type": "code",
   "execution_count": 70,
   "metadata": {},
   "outputs": [
    {
     "data": {
      "text/plain": [
       "-1.6238660646717644"
      ]
     },
     "execution_count": 70,
     "metadata": {},
     "output_type": "execute_result"
    }
   ],
   "source": [
    "st.kurtosis(df.Garlic)"
   ]
  },
  {
   "cell_type": "code",
   "execution_count": 71,
   "metadata": {},
   "outputs": [
    {
     "data": {
      "text/plain": [
       "-0.641878266885016"
      ]
     },
     "execution_count": 71,
     "metadata": {},
     "output_type": "execute_result"
    }
   ],
   "source": [
    "st.kurtosis(df.Butter)"
   ]
  },
  {
   "cell_type": "code",
   "execution_count": 72,
   "metadata": {},
   "outputs": [
    {
     "data": {
      "text/plain": [
       "-1.244315615430351"
      ]
     },
     "execution_count": 72,
     "metadata": {},
     "output_type": "execute_result"
    }
   ],
   "source": [
    "st.kurtosis(df.Margarine)"
   ]
  },
  {
   "cell_type": "code",
   "execution_count": 73,
   "metadata": {},
   "outputs": [
    {
     "data": {
      "text/plain": [
       "-1.509903243835392"
      ]
     },
     "execution_count": 73,
     "metadata": {},
     "output_type": "execute_result"
    }
   ],
   "source": [
    "st.kurtosis(df.Olive_oil)"
   ]
  },
  {
   "cell_type": "code",
   "execution_count": 74,
   "metadata": {},
   "outputs": [
    {
     "data": {
      "text/plain": [
       "-0.5456833513716046"
      ]
     },
     "execution_count": 74,
     "metadata": {},
     "output_type": "execute_result"
    }
   ],
   "source": [
    "st.kurtosis(df.Yoghurt)"
   ]
  },
  {
   "cell_type": "code",
   "execution_count": 75,
   "metadata": {},
   "outputs": [
    {
     "data": {
      "text/plain": [
       "1.039287608114221"
      ]
     },
     "execution_count": 75,
     "metadata": {},
     "output_type": "execute_result"
    }
   ],
   "source": [
    "st.kurtosis(df.Crisp_bread)"
   ]
  },
  {
   "cell_type": "code",
   "execution_count": 35,
   "metadata": {},
   "outputs": [
    {
     "data": {
      "text/plain": [
       "Real_coffee       1.019405\n",
       "Instant_coffee   -0.676180\n",
       "Tea              -0.402586\n",
       "Sweetener        -0.979820\n",
       "Biscuits         -0.689022\n",
       "Powder_soup      -1.041045\n",
       "Tin_soup          3.610954\n",
       "Potatoes          2.555217\n",
       "Frozen_fish       1.506809\n",
       "Frozen_veggies    1.154756\n",
       "Apples            1.195283\n",
       "Oranges          -0.070173\n",
       "Tinned_fruit      0.104295\n",
       "Jam              -0.738795\n",
       "Garlic           -1.780691\n",
       "Butter           -0.404829\n",
       "Margarine        -1.248904\n",
       "Olive_oil        -1.621018\n",
       "Yoghurt          -0.270051\n",
       "Crisp_bread       1.950650\n",
       "dtype: float64"
      ]
     },
     "execution_count": 35,
     "metadata": {},
     "output_type": "execute_result"
    }
   ],
   "source": [
    "df.kurtosis()"
   ]
  },
  {
   "cell_type": "code",
   "execution_count": null,
   "metadata": {},
   "outputs": [],
   "source": []
  },
  {
   "cell_type": "code",
   "execution_count": 76,
   "metadata": {},
   "outputs": [
    {
     "data": {
      "text/plain": [
       "<matplotlib.axes._subplots.AxesSubplot at 0x4bfde32cc0>"
      ]
     },
     "execution_count": 76,
     "metadata": {},
     "output_type": "execute_result"
    },
    {
     "data": {
      "image/png": "[encoded data removed]",
      "text/plain": [
       "<Figure size 432x288 with 1 Axes>"
      ]
     },
     "metadata": {
      "needs_background": "light"
     },
     "output_type": "display_data"
    }
   ],
   "source": [
    "sns.boxplot(df.Real_coffee)"
   ]
  },
  {
   "cell_type": "code",
   "execution_count": 77,
   "metadata": {},
   "outputs": [
    {
     "data": {
      "text/plain": [
       "<matplotlib.axes._subplots.AxesSubplot at 0x4bff86d6d8>"
      ]
     },
     "execution_count": 77,
     "metadata": {},
     "output_type": "execute_result"
    },
    {
     "data": {
      "image/png": "[encoded data removed]",
      "text/plain": [
       "<Figure size 432x288 with 1 Axes>"
      ]
     },
     "metadata": {
      "needs_background": "light"
     },
     "output_type": "display_data"
    }
   ],
   "source": [
    "sns.boxplot(df.Instant_coffee)"
   ]
  },
  {
   "cell_type": "code",
   "execution_count": null,
   "metadata": {},
   "outputs": [],
   "source": [
    "sns.boxplot(df.Instant_coffee)"
   ]
  },
  {
   "cell_type": "code",
   "execution_count": null,
   "metadata": {},
   "outputs": [],
   "source": [
    "sns.boxplot(df.Real_coffee)"
   ]
  }
 ],
 "metadata": {
  "kernelspec": {
   "display_name": "Python 3",
   "language": "python",
   "name": "python3"
  },
  "language_info": {
   "codemirror_mode": {
    "name": "ipython",
    "version": 3
   },
   "file_extension": ".py",
   "mimetype": "text/x-python",
   "name": "python",
   "nbconvert_exporter": "python",
   "pygments_lexer": "ipython3",
   "version": "3.7.3"
  }
 },
 "nbformat": 4,
 "nbformat_minor": 2
}
