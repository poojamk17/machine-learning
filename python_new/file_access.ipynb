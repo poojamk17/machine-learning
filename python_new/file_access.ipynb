{
 "cells": [
  {
   "cell_type": "markdown",
   "metadata": {},
   "source": [
    "to open the file"
   ]
  },
  {
   "cell_type": "code",
   "execution_count": 49,
   "metadata": {},
   "outputs": [
    {
     "name": "stdout",
     "output_type": "stream",
     "text": [
      "my is pooja\n",
      "20\n",
      "31\n",
      "po\n",
      "\n"
     ]
    }
   ],
   "source": [
    "f=open('file1.txt','r')\n",
    "print(f.read())\n",
    "f.close()\n"
   ]
  },
  {
   "cell_type": "markdown",
   "metadata": {},
   "source": [
    "seek(0)\n",
    "to print multiple times we use this seek"
   ]
  },
  {
   "cell_type": "code",
   "execution_count": 50,
   "metadata": {},
   "outputs": [
    {
     "name": "stdout",
     "output_type": "stream",
     "text": [
      "my is pooja\n",
      "20\n",
      "31\n",
      "po\n",
      "\n",
      "my is pooja\n",
      "20\n",
      "31\n",
      "po\n",
      "\n"
     ]
    }
   ],
   "source": [
    "f=open('file1.txt','r')\n",
    "print(f.read())\n",
    "f.seek(0)\n",
    "print(f.read())\n",
    "f.close()"
   ]
  },
  {
   "cell_type": "code",
   "execution_count": 51,
   "metadata": {},
   "outputs": [
    {
     "name": "stdout",
     "output_type": "stream",
     "text": [
      "['my is pooja\\n', '20\\n', '31\\n', 'po\\n']\n"
     ]
    }
   ],
   "source": [
    "f=open('file1.txt','r')\n",
    "#to read all the lines\n",
    "print(f.readlines())"
   ]
  },
  {
   "cell_type": "code",
   "execution_count": 52,
   "metadata": {},
   "outputs": [
    {
     "name": "stdout",
     "output_type": "stream",
     "text": [
      "my is pooja\n",
      "\n"
     ]
    }
   ],
   "source": [
    "f=open('file1.txt','r')\n",
    "#to read line by line\n",
    "print(f.readline())"
   ]
  },
  {
   "cell_type": "code",
   "execution_count": 57,
   "metadata": {},
   "outputs": [
    {
     "name": "stdout",
     "output_type": "stream",
     "text": [
      "\n"
     ]
    }
   ],
   "source": [
    "print(f.readline())\n"
   ]
  },
  {
   "cell_type": "code",
   "execution_count": 56,
   "metadata": {},
   "outputs": [
    {
     "name": "stdout",
     "output_type": "stream",
     "text": [
      "po\n",
      "\n"
     ]
    }
   ],
   "source": [
    "print(f.readline())"
   ]
  },
  {
   "cell_type": "code",
   "execution_count": 58,
   "metadata": {},
   "outputs": [],
   "source": [
    "#open and write\n",
    "f1=open('file1.txt','w')\n",
    "f1.write('my name is ????')\n",
    "f1.close()"
   ]
  },
  {
   "cell_type": "code",
   "execution_count": 61,
   "metadata": {},
   "outputs": [
    {
     "name": "stdout",
     "output_type": "stream",
     "text": [
      "my \n"
     ]
    }
   ],
   "source": [
    "f1=open('file1.txt','w+')\n",
    "#w+ is write and read mode if weuse w+ we donnot need to close\n",
    "f1.write('my ')\n",
    "f1.seek(0) #use to  move the cursor to begin \n",
    "print(f1.read())\n",
    "f1.close()#to open in diff mode need to close"
   ]
  },
  {
   "cell_type": "code",
   "execution_count": 62,
   "metadata": {},
   "outputs": [
    {
     "name": "stdout",
     "output_type": "stream",
     "text": [
      "my \n",
      " mk\n",
      "hi\n"
     ]
    }
   ],
   "source": [
    "f1=open('file1.txt','a+')\n",
    "#a+ is to append\n",
    "f1.write('\\nmk\\nhi')\n",
    "f1.seek(0)\n",
    "print(f1.read())\n",
    "f1.close()\n",
    "\n"
   ]
  },
  {
   "cell_type": "code",
   "execution_count": 64,
   "metadata": {},
   "outputs": [
    {
     "name": "stdout",
     "output_type": "stream",
     "text": [
      "pooja\n",
      "neha\n",
      "radha\n",
      "seema\n",
      "lalitha\n"
     ]
    }
   ],
   "source": [
    "p=open('file2.txt','r')\n",
    "print(p.read())\n",
    "p.close()"
   ]
  },
  {
   "cell_type": "code",
   "execution_count": 65,
   "metadata": {},
   "outputs": [
    {
     "name": "stdout",
     "output_type": "stream",
     "text": [
      "pooja\n",
      "neha\n",
      "radha\n",
      "seema\n",
      "lalitha\n",
      "pooja\n",
      "neha\n",
      "radha\n",
      "seema\n",
      "lalitha\n",
      "pooja\n",
      "neha\n",
      "radha\n",
      "seema\n",
      "lalitha\n",
      "pooja\n",
      "neha\n",
      "radha\n",
      "seema\n",
      "lalitha\n"
     ]
    }
   ],
   "source": [
    "p=open('file2.txt','r')\n",
    "print(p.read())\n",
    "p.seek(0)\n",
    "print(p.read())\n",
    "p.seek(0)\n",
    "print(p.read())\n",
    "p.seek(0)\n",
    "print(p.read())\n",
    "p.close()"
   ]
  },
  {
   "cell_type": "code",
   "execution_count": 66,
   "metadata": {},
   "outputs": [
    {
     "name": "stdout",
     "output_type": "stream",
     "text": [
      "['pooja\\n', 'neha\\n', 'radha\\n', 'seema\\n', 'lalitha']\n"
     ]
    }
   ],
   "source": [
    "p=open('file2.txt','r')\n",
    "print(p.readlines())"
   ]
  },
  {
   "cell_type": "code",
   "execution_count": 67,
   "metadata": {},
   "outputs": [
    {
     "name": "stdout",
     "output_type": "stream",
     "text": [
      "pooja\n",
      "\n"
     ]
    }
   ],
   "source": [
    "p=open('file2.txt','r')\n",
    "print(p.readline())"
   ]
  },
  {
   "cell_type": "code",
   "execution_count": 68,
   "metadata": {},
   "outputs": [
    {
     "name": "stdout",
     "output_type": "stream",
     "text": [
      "neha\n",
      "\n"
     ]
    }
   ],
   "source": [
    "print(p.readline())\n"
   ]
  },
  {
   "cell_type": "code",
   "execution_count": 69,
   "metadata": {},
   "outputs": [
    {
     "name": "stdout",
     "output_type": "stream",
     "text": [
      "radha\n",
      "\n"
     ]
    }
   ],
   "source": [
    "print(p.readline())"
   ]
  },
  {
   "cell_type": "code",
   "execution_count": 70,
   "metadata": {},
   "outputs": [
    {
     "name": "stdout",
     "output_type": "stream",
     "text": [
      "seema\n",
      "\n"
     ]
    }
   ],
   "source": [
    "print(p.readline())"
   ]
  },
  {
   "cell_type": "code",
   "execution_count": 71,
   "metadata": {},
   "outputs": [
    {
     "name": "stdout",
     "output_type": "stream",
     "text": [
      "lalitha\n"
     ]
    }
   ],
   "source": [
    "print(p.readline())"
   ]
  },
  {
   "cell_type": "code",
   "execution_count": 86,
   "metadata": {},
   "outputs": [],
   "source": [
    "p=open('file2.txt','w')\n",
    "p.write('mk\\nbh')\n",
    "p.close()\n"
   ]
  },
  {
   "cell_type": "code",
   "execution_count": 79,
   "metadata": {},
   "outputs": [
    {
     "data": {
      "text/plain": [
       "<function TextIOWrapper.close()>"
      ]
     },
     "execution_count": 79,
     "metadata": {},
     "output_type": "execute_result"
    }
   ],
   "source": [
    "q=open('file3.txt','w')\n",
    "q.write('hi')\n",
    "q.close"
   ]
  },
  {
   "cell_type": "markdown",
   "metadata": {},
   "source": [
    "to write in between\n"
   ]
  },
  {
   "cell_type": "code",
   "execution_count": 94,
   "metadata": {},
   "outputs": [
    {
     "name": "stdout",
     "output_type": "stream",
     "text": [
      "pooja \n",
      "hi mk \n"
     ]
    }
   ],
   "source": [
    "f=open('file2.txt','r+')\n",
    "text=f.read()\n",
    "print(text)"
   ]
  },
  {
   "cell_type": "code",
   "execution_count": 97,
   "metadata": {},
   "outputs": [
    {
     "name": "stdout",
     "output_type": "stream",
     "text": [
      "pooja \n",
      "hi mk \n"
     ]
    }
   ],
   "source": [
    "f=open('file2.txt','r+')\n",
    "text=f.read()\n",
    "print(text)\n"
   ]
  },
  {
   "cell_type": "code",
   "execution_count": 98,
   "metadata": {},
   "outputs": [
    {
     "name": "stdout",
     "output_type": "stream",
     "text": [
      "pooja,\n",
      "hi,mk,\n"
     ]
    },
    {
     "data": {
      "text/plain": [
       "13"
      ]
     },
     "execution_count": 98,
     "metadata": {},
     "output_type": "execute_result"
    }
   ],
   "source": [
    "f=open('file2.txt','r+')\n",
    "text=f.read()\n",
    "text1=text.replace(' ',',')\n",
    "print(text1)\n",
    "f.write(text1)"
   ]
  },
  {
   "cell_type": "code",
   "execution_count": 117,
   "metadata": {},
   "outputs": [
    {
     "name": "stdout",
     "output_type": "stream",
     "text": [
      "[]\n"
     ]
    }
   ],
   "source": [
    "f3=open('new.txt','r')\n",
    "t=f3.read()\n",
    "c=f3.readlines()\n",
    "print(f3.readlines())\n",
    "for i in c:\n",
    "    if(i==3):\n",
    "        t1=c[i].upper()\n",
    "        \n",
    "    \n",
    "\n",
    "print(t1)"
   ]
  },
  {
   "cell_type": "code",
   "execution_count": 126,
   "metadata": {},
   "outputs": [
    {
     "ename": "NameError",
     "evalue": "name 'index' is not defined",
     "output_type": "error",
     "traceback": [
      "\u001b[1;31m---------------------------------------------------------------------------\u001b[0m",
      "\u001b[1;31mNameError\u001b[0m                                 Traceback (most recent call last)",
      "\u001b[1;32m<ipython-input-126-754e314397eb>\u001b[0m in \u001b[0;36m<module>\u001b[1;34m\u001b[0m\n\u001b[0;32m      4\u001b[0m \u001b[1;33m\u001b[0m\u001b[0m\n\u001b[0;32m      5\u001b[0m \u001b[1;32mfor\u001b[0m \u001b[0mx\u001b[0m \u001b[1;32min\u001b[0m \u001b[0mc\u001b[0m\u001b[1;33m:\u001b[0m\u001b[1;33m\u001b[0m\u001b[1;33m\u001b[0m\u001b[0m\n\u001b[1;32m----> 6\u001b[1;33m     \u001b[1;32mif\u001b[0m\u001b[1;33m(\u001b[0m\u001b[0mindex\u001b[0m\u001b[1;33m(\u001b[0m\u001b[0mx\u001b[0m\u001b[1;33m)\u001b[0m\u001b[1;33m==\u001b[0m\u001b[1;36m2\u001b[0m\u001b[1;33m)\u001b[0m\u001b[1;33m:\u001b[0m\u001b[1;33m\u001b[0m\u001b[1;33m\u001b[0m\u001b[0m\n\u001b[0m\u001b[0;32m      7\u001b[0m         \u001b[0mt1\u001b[0m\u001b[1;33m=\u001b[0m\u001b[0mc\u001b[0m\u001b[1;33m[\u001b[0m\u001b[0mx\u001b[0m\u001b[1;33m]\u001b[0m\u001b[1;33m.\u001b[0m\u001b[0mupper\u001b[0m\u001b[1;33m(\u001b[0m\u001b[1;33m)\u001b[0m\u001b[1;33m\u001b[0m\u001b[1;33m\u001b[0m\u001b[0m\n\u001b[0;32m      8\u001b[0m \u001b[0mprint\u001b[0m\u001b[1;33m(\u001b[0m\u001b[0mt1\u001b[0m\u001b[1;33m)\u001b[0m\u001b[1;33m\u001b[0m\u001b[1;33m\u001b[0m\u001b[0m\n",
      "\u001b[1;31mNameError\u001b[0m: name 'index' is not defined"
     ]
    }
   ],
   "source": [
    "f3=open('new.txt','r')\n",
    "#to read all the lines\n",
    "c=f3.readlines()\n",
    "\n",
    "for x in c:\n",
    "    if(index(x)==2):\n",
    "        c[x]=c[x].upper()\n",
    "print(c)\n"
   ]
  },
  {
   "cell_type": "code",
   "execution_count": 197,
   "metadata": {},
   "outputs": [],
   "source": [
    "\n"
   ]
  },
  {
   "cell_type": "code",
   "execution_count": 214,
   "metadata": {},
   "outputs": [
    {
     "name": "stdout",
     "output_type": "stream",
     "text": [
      "   g\n",
      "       i\n",
      "       u\n",
      "       P\n",
      "       r\n",
      "\n"
     ]
    }
   ],
   "source": [
    "\n",
    "#to read all the lines\n",
    "f3=open('new.txt','r+')\n",
    "c=f3.readlines()\n",
    "f3.seek(0)\n",
    "\n",
    "f3.close()\n",
    "c[3]=c[3].upper()\n",
    "\n",
    "lst=c\n",
    "s=' '\n",
    "s=s.join(lst)\n",
    "\n",
    "print(s)\n",
    "\n",
    "f=open('new.txt','w')\n",
    "f.write(s)\n",
    "f.close()\n",
    "\n"
   ]
  },
  {
   "cell_type": "code",
   "execution_count": 211,
   "metadata": {},
   "outputs": [],
   "source": []
  },
  {
   "cell_type": "code",
   "execution_count": 143,
   "metadata": {},
   "outputs": [
    {
     "ename": "TypeError",
     "evalue": "sequence item 0: expected str instance, int found",
     "output_type": "error",
     "traceback": [
      "\u001b[1;31m---------------------------------------------------------------------------\u001b[0m",
      "\u001b[1;31mTypeError\u001b[0m                                 Traceback (most recent call last)",
      "\u001b[1;32m<ipython-input-143-7867c77e3cf5>\u001b[0m in \u001b[0;36m<module>\u001b[1;34m\u001b[0m\n\u001b[0;32m      2\u001b[0m \u001b[0ms\u001b[0m\u001b[1;33m=\u001b[0m\u001b[1;34m' '\u001b[0m\u001b[1;33m\u001b[0m\u001b[1;33m\u001b[0m\u001b[0m\n\u001b[0;32m      3\u001b[0m \u001b[1;33m\u001b[0m\u001b[0m\n\u001b[1;32m----> 4\u001b[1;33m \u001b[0ms\u001b[0m\u001b[1;33m=\u001b[0m\u001b[0ms\u001b[0m\u001b[1;33m.\u001b[0m\u001b[0mjoin\u001b[0m\u001b[1;33m(\u001b[0m\u001b[0mlst\u001b[0m\u001b[1;33m)\u001b[0m\u001b[1;33m\u001b[0m\u001b[1;33m\u001b[0m\u001b[0m\n\u001b[0m\u001b[0;32m      5\u001b[0m \u001b[0ms\u001b[0m\u001b[1;33m\u001b[0m\u001b[1;33m\u001b[0m\u001b[0m\n",
      "\u001b[1;31mTypeError\u001b[0m: sequence item 0: expected str instance, int found"
     ]
    }
   ],
   "source": [
    "lst=[3,4,2,4]\n",
    "s=' '\n",
    "\n",
    "s=s.join(lst)\n",
    "s"
   ]
  },
  {
   "cell_type": "code",
   "execution_count": 164,
   "metadata": {},
   "outputs": [
    {
     "name": "stdout",
     "output_type": "stream",
     "text": [
      "pooja \t is \t good\n"
     ]
    }
   ],
   "source": [
    "s='pooja \\t is \\t good\\t'\n",
    "\n",
    "print(s.strip())\n"
   ]
  },
  {
   "cell_type": "code",
   "execution_count": 163,
   "metadata": {},
   "outputs": [
    {
     "data": {
      "text/plain": [
       "'pooja \\t is \\t good'"
      ]
     },
     "execution_count": 163,
     "metadata": {},
     "output_type": "execute_result"
    }
   ],
   "source": [
    "s='pooja \\t is \\t good\\t'\n",
    "s.strip()"
   ]
  },
  {
   "cell_type": "code",
   "execution_count": 169,
   "metadata": {},
   "outputs": [
    {
     "name": "stdout",
     "output_type": "stream",
     "text": [
      "pooja \t is \t good\n"
     ]
    }
   ],
   "source": [
    "s='pooja \\t is \\t good\\t'\n",
    "p=s.strip()\n",
    "print(p)"
   ]
  },
  {
   "cell_type": "code",
   "execution_count": 192,
   "metadata": {},
   "outputs": [],
   "source": [
    "f4=open('num.txt','r+')\n",
    "f=open('res.txt','a+')"
   ]
  },
  {
   "cell_type": "code",
   "execution_count": 194,
   "metadata": {},
   "outputs": [],
   "source": [
    "\n",
    "lst=f4.readlines()\n",
    "s=''\n",
    "for i in lst:\n",
    "    t=0\n",
    "    i=i.strip()#'1,2'\n",
    "    i=i.split(',')#[1,2]\n",
    "    t=int(i[0])+int(i[1])\n",
    "    s=str(t)+'\\n'\n",
    "    print(s)\n",
    "    f.write(s)\n",
    "    f.seek(0)\n",
    "f.close()\n",
    "\n",
    "\n",
    "    \n",
    "    \n",
    "    "
   ]
  },
  {
   "cell_type": "code",
   "execution_count": null,
   "metadata": {},
   "outputs": [],
   "source": []
  },
  {
   "cell_type": "code",
   "execution_count": null,
   "metadata": {},
   "outputs": [],
   "source": []
  }
 ],
 "metadata": {
  "kernelspec": {
   "display_name": "Python 3",
   "language": "python",
   "name": "python3"
  },
  "language_info": {
   "codemirror_mode": {
    "name": "ipython",
    "version": 3
   },
   "file_extension": ".py",
   "mimetype": "text/x-python",
   "name": "python",
   "nbconvert_exporter": "python",
   "pygments_lexer": "ipython3",
   "version": "3.7.3"
  }
 },
 "nbformat": 4,
 "nbformat_minor": 2
}
