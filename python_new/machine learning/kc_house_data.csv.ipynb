{
 "cells": [
  {
   "cell_type": "code",
   "execution_count": 1,
   "metadata": {},
   "outputs": [],
   "source": [
    "import warnings\n",
    "warnings.filterwarnings('ignore')"
   ]
  },
  {
   "cell_type": "code",
   "execution_count": 2,
   "metadata": {},
   "outputs": [],
   "source": [
    "import pandas as pd\n",
    "import numpy as np\n",
    "import matplotlib.pyplot as plt\n",
    "import seaborn as sns\n",
    "%matplotlib inline"
   ]
  },
  {
   "cell_type": "code",
   "execution_count": 3,
   "metadata": {},
   "outputs": [
    {
     "data": {
      "text/html": [
       "<div>\n",
       "<style scoped>\n",
       "    .dataframe tbody tr th:only-of-type {\n",
       "        vertical-align: middle;\n",
       "    }\n",
       "\n",
       "    .dataframe tbody tr th {\n",
       "        vertical-align: top;\n",
       "    }\n",
       "\n",
       "    .dataframe thead th {\n",
       "        text-align: right;\n",
       "    }\n",
       "</style>\n",
       "<table border=\"1\" class=\"dataframe\">\n",
       "  <thead>\n",
       "    <tr style=\"text-align: right;\">\n",
       "      <th></th>\n",
       "      <th>id</th>\n",
       "      <th>date</th>\n",
       "      <th>price</th>\n",
       "      <th>bedrooms</th>\n",
       "      <th>bathrooms</th>\n",
       "      <th>sqft_living</th>\n",
       "      <th>sqft_lot</th>\n",
       "      <th>floors</th>\n",
       "      <th>waterfront</th>\n",
       "      <th>view</th>\n",
       "      <th>...</th>\n",
       "      <th>grade</th>\n",
       "      <th>sqft_above</th>\n",
       "      <th>sqft_basement</th>\n",
       "      <th>yr_built</th>\n",
       "      <th>yr_renovated</th>\n",
       "      <th>zipcode</th>\n",
       "      <th>lat</th>\n",
       "      <th>long</th>\n",
       "      <th>sqft_living15</th>\n",
       "      <th>sqft_lot15</th>\n",
       "    </tr>\n",
       "  </thead>\n",
       "  <tbody>\n",
       "    <tr>\n",
       "      <th>0</th>\n",
       "      <td>7129300520</td>\n",
       "      <td>20141013T000000</td>\n",
       "      <td>221900.0</td>\n",
       "      <td>3</td>\n",
       "      <td>1.00</td>\n",
       "      <td>1180</td>\n",
       "      <td>5650</td>\n",
       "      <td>1.0</td>\n",
       "      <td>0</td>\n",
       "      <td>0</td>\n",
       "      <td>...</td>\n",
       "      <td>7</td>\n",
       "      <td>1180</td>\n",
       "      <td>0</td>\n",
       "      <td>1955</td>\n",
       "      <td>0</td>\n",
       "      <td>98178</td>\n",
       "      <td>47.5112</td>\n",
       "      <td>-122.257</td>\n",
       "      <td>1340</td>\n",
       "      <td>5650</td>\n",
       "    </tr>\n",
       "    <tr>\n",
       "      <th>1</th>\n",
       "      <td>6414100192</td>\n",
       "      <td>20141209T000000</td>\n",
       "      <td>538000.0</td>\n",
       "      <td>3</td>\n",
       "      <td>2.25</td>\n",
       "      <td>2570</td>\n",
       "      <td>7242</td>\n",
       "      <td>2.0</td>\n",
       "      <td>0</td>\n",
       "      <td>0</td>\n",
       "      <td>...</td>\n",
       "      <td>7</td>\n",
       "      <td>2170</td>\n",
       "      <td>400</td>\n",
       "      <td>1951</td>\n",
       "      <td>1991</td>\n",
       "      <td>98125</td>\n",
       "      <td>47.7210</td>\n",
       "      <td>-122.319</td>\n",
       "      <td>1690</td>\n",
       "      <td>7639</td>\n",
       "    </tr>\n",
       "    <tr>\n",
       "      <th>2</th>\n",
       "      <td>5631500400</td>\n",
       "      <td>20150225T000000</td>\n",
       "      <td>180000.0</td>\n",
       "      <td>2</td>\n",
       "      <td>1.00</td>\n",
       "      <td>770</td>\n",
       "      <td>10000</td>\n",
       "      <td>1.0</td>\n",
       "      <td>0</td>\n",
       "      <td>0</td>\n",
       "      <td>...</td>\n",
       "      <td>6</td>\n",
       "      <td>770</td>\n",
       "      <td>0</td>\n",
       "      <td>1933</td>\n",
       "      <td>0</td>\n",
       "      <td>98028</td>\n",
       "      <td>47.7379</td>\n",
       "      <td>-122.233</td>\n",
       "      <td>2720</td>\n",
       "      <td>8062</td>\n",
       "    </tr>\n",
       "    <tr>\n",
       "      <th>3</th>\n",
       "      <td>2487200875</td>\n",
       "      <td>20141209T000000</td>\n",
       "      <td>604000.0</td>\n",
       "      <td>4</td>\n",
       "      <td>3.00</td>\n",
       "      <td>1960</td>\n",
       "      <td>5000</td>\n",
       "      <td>1.0</td>\n",
       "      <td>0</td>\n",
       "      <td>0</td>\n",
       "      <td>...</td>\n",
       "      <td>7</td>\n",
       "      <td>1050</td>\n",
       "      <td>910</td>\n",
       "      <td>1965</td>\n",
       "      <td>0</td>\n",
       "      <td>98136</td>\n",
       "      <td>47.5208</td>\n",
       "      <td>-122.393</td>\n",
       "      <td>1360</td>\n",
       "      <td>5000</td>\n",
       "    </tr>\n",
       "    <tr>\n",
       "      <th>4</th>\n",
       "      <td>1954400510</td>\n",
       "      <td>20150218T000000</td>\n",
       "      <td>510000.0</td>\n",
       "      <td>3</td>\n",
       "      <td>2.00</td>\n",
       "      <td>1680</td>\n",
       "      <td>8080</td>\n",
       "      <td>1.0</td>\n",
       "      <td>0</td>\n",
       "      <td>0</td>\n",
       "      <td>...</td>\n",
       "      <td>8</td>\n",
       "      <td>1680</td>\n",
       "      <td>0</td>\n",
       "      <td>1987</td>\n",
       "      <td>0</td>\n",
       "      <td>98074</td>\n",
       "      <td>47.6168</td>\n",
       "      <td>-122.045</td>\n",
       "      <td>1800</td>\n",
       "      <td>7503</td>\n",
       "    </tr>\n",
       "  </tbody>\n",
       "</table>\n",
       "<p>5 rows × 21 columns</p>\n",
       "</div>"
      ],
      "text/plain": [
       "           id             date     price  bedrooms  bathrooms  sqft_living  \\\n",
       "0  7129300520  20141013T000000  221900.0         3       1.00         1180   \n",
       "1  6414100192  20141209T000000  538000.0         3       2.25         2570   \n",
       "2  5631500400  20150225T000000  180000.0         2       1.00          770   \n",
       "3  2487200875  20141209T000000  604000.0         4       3.00         1960   \n",
       "4  1954400510  20150218T000000  510000.0         3       2.00         1680   \n",
       "\n",
       "   sqft_lot  floors  waterfront  view  ...  grade  sqft_above  sqft_basement  \\\n",
       "0      5650     1.0           0     0  ...      7        1180              0   \n",
       "1      7242     2.0           0     0  ...      7        2170            400   \n",
       "2     10000     1.0           0     0  ...      6         770              0   \n",
       "3      5000     1.0           0     0  ...      7        1050            910   \n",
       "4      8080     1.0           0     0  ...      8        1680              0   \n",
       "\n",
       "   yr_built  yr_renovated  zipcode      lat     long  sqft_living15  \\\n",
       "0      1955             0    98178  47.5112 -122.257           1340   \n",
       "1      1951          1991    98125  47.7210 -122.319           1690   \n",
       "2      1933             0    98028  47.7379 -122.233           2720   \n",
       "3      1965             0    98136  47.5208 -122.393           1360   \n",
       "4      1987             0    98074  47.6168 -122.045           1800   \n",
       "\n",
       "   sqft_lot15  \n",
       "0        5650  \n",
       "1        7639  \n",
       "2        8062  \n",
       "3        5000  \n",
       "4        7503  \n",
       "\n",
       "[5 rows x 21 columns]"
      ]
     },
     "execution_count": 3,
     "metadata": {},
     "output_type": "execute_result"
    }
   ],
   "source": [
    "df1=pd.read_csv('kc_house_data.csv')\n",
    "df1.head()"
   ]
  },
  {
   "cell_type": "code",
   "execution_count": 4,
   "metadata": {},
   "outputs": [
    {
     "name": "stdout",
     "output_type": "stream",
     "text": [
      "<class 'pandas.core.frame.DataFrame'>\n",
      "RangeIndex: 21613 entries, 0 to 21612\n",
      "Data columns (total 21 columns):\n",
      "id               21613 non-null int64\n",
      "date             21613 non-null object\n",
      "price            21613 non-null float64\n",
      "bedrooms         21613 non-null int64\n",
      "bathrooms        21613 non-null float64\n",
      "sqft_living      21613 non-null int64\n",
      "sqft_lot         21613 non-null int64\n",
      "floors           21613 non-null float64\n",
      "waterfront       21613 non-null int64\n",
      "view             21613 non-null int64\n",
      "condition        21613 non-null int64\n",
      "grade            21613 non-null int64\n",
      "sqft_above       21613 non-null int64\n",
      "sqft_basement    21613 non-null int64\n",
      "yr_built         21613 non-null int64\n",
      "yr_renovated     21613 non-null int64\n",
      "zipcode          21613 non-null int64\n",
      "lat              21613 non-null float64\n",
      "long             21613 non-null float64\n",
      "sqft_living15    21613 non-null int64\n",
      "sqft_lot15       21613 non-null int64\n",
      "dtypes: float64(5), int64(15), object(1)\n",
      "memory usage: 3.5+ MB\n"
     ]
    }
   ],
   "source": [
    "df1.info()"
   ]
  },
  {
   "cell_type": "code",
   "execution_count": 5,
   "metadata": {},
   "outputs": [
    {
     "data": {
      "text/plain": [
       "id               0\n",
       "date             0\n",
       "price            0\n",
       "bedrooms         0\n",
       "bathrooms        0\n",
       "sqft_living      0\n",
       "sqft_lot         0\n",
       "floors           0\n",
       "waterfront       0\n",
       "view             0\n",
       "condition        0\n",
       "grade            0\n",
       "sqft_above       0\n",
       "sqft_basement    0\n",
       "yr_built         0\n",
       "yr_renovated     0\n",
       "zipcode          0\n",
       "lat              0\n",
       "long             0\n",
       "sqft_living15    0\n",
       "sqft_lot15       0\n",
       "dtype: int64"
      ]
     },
     "execution_count": 5,
     "metadata": {},
     "output_type": "execute_result"
    }
   ],
   "source": [
    "df1.isnull().sum()"
   ]
  },
  {
   "cell_type": "code",
   "execution_count": 6,
   "metadata": {},
   "outputs": [
    {
     "data": {
      "text/plain": [
       "Index(['id', 'date', 'price', 'bedrooms', 'bathrooms', 'sqft_living',\n",
       "       'sqft_lot', 'floors', 'waterfront', 'view', 'condition', 'grade',\n",
       "       'sqft_above', 'sqft_basement', 'yr_built', 'yr_renovated', 'zipcode',\n",
       "       'lat', 'long', 'sqft_living15', 'sqft_lot15'],\n",
       "      dtype='object')"
      ]
     },
     "execution_count": 6,
     "metadata": {},
     "output_type": "execute_result"
    }
   ],
   "source": [
    "df1.columns"
   ]
  },
  {
   "cell_type": "code",
   "execution_count": 7,
   "metadata": {},
   "outputs": [],
   "source": [
    "df1.drop('date',axis=1,inplace=True)"
   ]
  },
  {
   "cell_type": "code",
   "execution_count": 8,
   "metadata": {},
   "outputs": [],
   "source": [
    "df1.drop('id',axis=1,inplace=True)"
   ]
  },
  {
   "cell_type": "code",
   "execution_count": 9,
   "metadata": {},
   "outputs": [],
   "source": [
    "df1.drop('zipcode',axis=1,inplace=True)"
   ]
  },
  {
   "cell_type": "code",
   "execution_count": 10,
   "metadata": {},
   "outputs": [],
   "source": [
    "df1.drop('waterfront',axis=1,inplace=True)"
   ]
  },
  {
   "cell_type": "code",
   "execution_count": 11,
   "metadata": {},
   "outputs": [],
   "source": [
    "df1.drop('view',axis=1,inplace=True)"
   ]
  },
  {
   "cell_type": "code",
   "execution_count": 12,
   "metadata": {},
   "outputs": [],
   "source": [
    "df1.drop('yr_renovated',axis=1,inplace=True)"
   ]
  },
  {
   "cell_type": "code",
   "execution_count": null,
   "metadata": {},
   "outputs": [],
   "source": []
  },
  {
   "cell_type": "code",
   "execution_count": 13,
   "metadata": {},
   "outputs": [
    {
     "name": "stdout",
     "output_type": "stream",
     "text": [
      "<class 'pandas.core.frame.DataFrame'>\n",
      "RangeIndex: 21613 entries, 0 to 21612\n",
      "Data columns (total 15 columns):\n",
      "price            21613 non-null float64\n",
      "bedrooms         21613 non-null int64\n",
      "bathrooms        21613 non-null float64\n",
      "sqft_living      21613 non-null int64\n",
      "sqft_lot         21613 non-null int64\n",
      "floors           21613 non-null float64\n",
      "condition        21613 non-null int64\n",
      "grade            21613 non-null int64\n",
      "sqft_above       21613 non-null int64\n",
      "sqft_basement    21613 non-null int64\n",
      "yr_built         21613 non-null int64\n",
      "lat              21613 non-null float64\n",
      "long             21613 non-null float64\n",
      "sqft_living15    21613 non-null int64\n",
      "sqft_lot15       21613 non-null int64\n",
      "dtypes: float64(5), int64(10)\n",
      "memory usage: 2.5 MB\n"
     ]
    }
   ],
   "source": [
    "df1.info()"
   ]
  },
  {
   "cell_type": "code",
   "execution_count": 14,
   "metadata": {},
   "outputs": [
    {
     "data": {
      "text/plain": [
       "<matplotlib.axes._subplots.AxesSubplot at 0x2ce87efb00>"
      ]
     },
     "execution_count": 14,
     "metadata": {},
     "output_type": "execute_result"
    },
    {
     "data": {
      "image/png": "[encoded data removed]",
      "text/plain": [
       "<Figure size 432x288 with 1 Axes>"
      ]
     },
     "metadata": {
      "needs_background": "light"
     },
     "output_type": "display_data"
    }
   ],
   "source": [
    "sns.distplot(df1['sqft_lot'],bins=50)"
   ]
  },
  {
   "cell_type": "code",
   "execution_count": 15,
   "metadata": {},
   "outputs": [
    {
     "data": {
      "text/plain": [
       "price             4.024069\n",
       "bedrooms          1.974300\n",
       "bathrooms         0.511108\n",
       "sqft_living       1.471555\n",
       "sqft_lot         13.060019\n",
       "floors            0.616177\n",
       "condition         1.032805\n",
       "grade             0.771103\n",
       "sqft_above        1.446664\n",
       "sqft_basement     1.577965\n",
       "yr_built         -0.469805\n",
       "lat              -0.485270\n",
       "long              0.885053\n",
       "sqft_living15     1.108181\n",
       "sqft_lot15        9.506743\n",
       "dtype: float64"
      ]
     },
     "execution_count": 15,
     "metadata": {},
     "output_type": "execute_result"
    }
   ],
   "source": [
    "df1.skew()"
   ]
  },
  {
   "cell_type": "code",
   "execution_count": 16,
   "metadata": {},
   "outputs": [
    {
     "data": {
      "text/plain": [
       "(19975, 15)"
      ]
     },
     "execution_count": 16,
     "metadata": {},
     "output_type": "execute_result"
    }
   ],
   "source": [
    "dff1=df1[(df1['sqft_lot']>(np.mean(df1['sqft_lot'])-(3*np.std(df1['sqft_lot'])))) & (df1['sqft_lot']<(np.mean(df1['sqft_lot'])+0.4*np.std(df1['sqft_lot'])))]\n",
    "dff1.shape                                                                                           "
   ]
  },
  {
   "cell_type": "code",
   "execution_count": 17,
   "metadata": {},
   "outputs": [
    {
     "data": {
      "text/plain": [
       "price            3.833939\n",
       "bedrooms         2.100996\n",
       "bathrooms        0.443061\n",
       "sqft_living      1.322524\n",
       "sqft_lot         1.609594\n",
       "floors           0.655277\n",
       "condition        1.050946\n",
       "grade            0.769952\n",
       "sqft_above       1.353133\n",
       "sqft_basement    1.513263\n",
       "yr_built        -0.417535\n",
       "lat             -0.508586\n",
       "long             0.972372\n",
       "sqft_living15    1.135568\n",
       "sqft_lot15       9.533657\n",
       "dtype: float64"
      ]
     },
     "execution_count": 17,
     "metadata": {},
     "output_type": "execute_result"
    }
   ],
   "source": [
    "dff1.skew()"
   ]
  },
  {
   "cell_type": "code",
   "execution_count": 18,
   "metadata": {},
   "outputs": [
    {
     "data": {
      "text/plain": [
       "<matplotlib.axes._subplots.AxesSubplot at 0x2ce8997048>"
      ]
     },
     "execution_count": 18,
     "metadata": {},
     "output_type": "execute_result"
    },
    {
     "data": {
      "image/png": "[encoded data removed]",
      "text/plain": [
       "<Figure size 432x288 with 1 Axes>"
      ]
     },
     "metadata": {
      "needs_background": "light"
     },
     "output_type": "display_data"
    }
   ],
   "source": [
    "sns.distplot(dff1['sqft_lot'],bins=50)"
   ]
  },
  {
   "cell_type": "code",
   "execution_count": 19,
   "metadata": {},
   "outputs": [
    {
     "data": {
      "text/plain": [
       "<matplotlib.axes._subplots.AxesSubplot at 0x2ce92ade80>"
      ]
     },
     "execution_count": 19,
     "metadata": {},
     "output_type": "execute_result"
    },
    {
     "data": {
      "image/png": "[encoded data removed]",
      "text/plain": [
       "<Figure size 432x288 with 1 Axes>"
      ]
     },
     "metadata": {
      "needs_background": "light"
     },
     "output_type": "display_data"
    }
   ],
   "source": [
    "sns.distplot(dff1['sqft_lot15'],bins=50)"
   ]
  },
  {
   "cell_type": "code",
   "execution_count": 20,
   "metadata": {},
   "outputs": [
    {
     "data": {
      "text/plain": [
       "(19731, 15)"
      ]
     },
     "execution_count": 20,
     "metadata": {},
     "output_type": "execute_result"
    }
   ],
   "source": [
    "dff2=dff1[(dff1['sqft_lot15']>(np.mean(dff1['sqft_lot15'])-(3*np.std(dff1['sqft_lot15'])))) & (dff1['sqft_lot15']<(np.mean(dff1['sqft_lot15'])+3*np.std(dff1['sqft_lot15'])))]\n",
    "dff2.shape                                                                                           "
   ]
  },
  {
   "cell_type": "code",
   "execution_count": 21,
   "metadata": {},
   "outputs": [
    {
     "data": {
      "text/plain": [
       "price            3.645404\n",
       "bedrooms         2.122987\n",
       "bathrooms        0.420216\n",
       "sqft_living      1.299566\n",
       "sqft_lot         1.441914\n",
       "floors           0.660434\n",
       "condition        1.052043\n",
       "grade            0.759472\n",
       "sqft_above       1.320374\n",
       "sqft_basement    1.510431\n",
       "yr_built        -0.412564\n",
       "lat             -0.513996\n",
       "long             0.993075\n",
       "sqft_living15    1.127511\n",
       "sqft_lot15       1.142993\n",
       "dtype: float64"
      ]
     },
     "execution_count": 21,
     "metadata": {},
     "output_type": "execute_result"
    }
   ],
   "source": [
    "dff2.skew()"
   ]
  },
  {
   "cell_type": "code",
   "execution_count": 22,
   "metadata": {},
   "outputs": [
    {
     "data": {
      "text/plain": [
       "<matplotlib.axes._subplots.AxesSubplot at 0x2ce93a2b38>"
      ]
     },
     "execution_count": 22,
     "metadata": {},
     "output_type": "execute_result"
    },
    {
     "data": {
      "image/png": "[encoded data removed]",
      "text/plain": [
       "<Figure size 432x288 with 1 Axes>"
      ]
     },
     "metadata": {
      "needs_background": "light"
     },
     "output_type": "display_data"
    }
   ],
   "source": [
    "sns.distplot(dff2['sqft_lot15'],bins=50)"
   ]
  },
  {
   "cell_type": "code",
   "execution_count": 23,
   "metadata": {},
   "outputs": [
    {
     "data": {
      "text/plain": [
       "<matplotlib.axes._subplots.AxesSubplot at 0x2ce9627f60>"
      ]
     },
     "execution_count": 23,
     "metadata": {},
     "output_type": "execute_result"
    },
    {
     "data": {
      "image/png": "[encoded data removed]",
      "text/plain": [
       "<Figure size 432x288 with 1 Axes>"
      ]
     },
     "metadata": {
      "needs_background": "light"
     },
     "output_type": "display_data"
    }
   ],
   "source": [
    "sns.distplot(dff2['price'],bins=50)"
   ]
  },
  {
   "cell_type": "code",
   "execution_count": 24,
   "metadata": {},
   "outputs": [
    {
     "data": {
      "text/plain": [
       "(19349, 15)"
      ]
     },
     "execution_count": 24,
     "metadata": {},
     "output_type": "execute_result"
    }
   ],
   "source": [
    "dff3=dff2[(dff2['price']>(np.mean(dff2['price'])-(3*np.std(dff2['price'])))) & (dff2['price']<(np.mean(dff2['price'])+3*np.std(dff2['price'])))]\n",
    "dff3.shape                                                                                           "
   ]
  },
  {
   "cell_type": "code",
   "execution_count": 25,
   "metadata": {},
   "outputs": [
    {
     "data": {
      "text/plain": [
       "price            1.360676\n",
       "bedrooms         2.187688\n",
       "bathrooms        0.259094\n",
       "sqft_living      0.920457\n",
       "sqft_lot         1.446698\n",
       "floors           0.686637\n",
       "condition        1.051866\n",
       "grade            0.618067\n",
       "sqft_above       1.146825\n",
       "sqft_basement    1.405717\n",
       "yr_built        -0.410066\n",
       "lat             -0.492948\n",
       "long             0.988224\n",
       "sqft_living15    1.057065\n",
       "sqft_lot15       1.127684\n",
       "dtype: float64"
      ]
     },
     "execution_count": 25,
     "metadata": {},
     "output_type": "execute_result"
    }
   ],
   "source": [
    "dff3.skew()"
   ]
  },
  {
   "cell_type": "code",
   "execution_count": 26,
   "metadata": {},
   "outputs": [
    {
     "data": {
      "text/plain": [
       "<matplotlib.axes._subplots.AxesSubplot at 0x2ce8962da0>"
      ]
     },
     "execution_count": 26,
     "metadata": {},
     "output_type": "execute_result"
    },
    {
     "data": {
      "image/png": "[encoded data removed]",
      "text/plain": [
       "<Figure size 432x288 with 1 Axes>"
      ]
     },
     "metadata": {
      "needs_background": "light"
     },
     "output_type": "display_data"
    }
   ],
   "source": [
    "sns.distplot(dff3['price'],bins=50)"
   ]
  },
  {
   "cell_type": "code",
   "execution_count": 27,
   "metadata": {},
   "outputs": [
    {
     "data": {
      "text/plain": [
       "<matplotlib.axes._subplots.AxesSubplot at 0x2ce99967f0>"
      ]
     },
     "execution_count": 27,
     "metadata": {},
     "output_type": "execute_result"
    },
    {
     "data": {
      "image/png": "[encoded data removed]",
      "text/plain": [
       "<Figure size 432x288 with 1 Axes>"
      ]
     },
     "metadata": {
      "needs_background": "light"
     },
     "output_type": "display_data"
    }
   ],
   "source": [
    "sns.distplot(dff3['bedrooms'],bins=50)"
   ]
  },
  {
   "cell_type": "code",
   "execution_count": 28,
   "metadata": {},
   "outputs": [
    {
     "data": {
      "text/plain": [
       "(19290, 15)"
      ]
     },
     "execution_count": 28,
     "metadata": {},
     "output_type": "execute_result"
    }
   ],
   "source": [
    "dff4=dff3[(dff3['bedrooms']>(np.mean(dff3['bedrooms'])-(3*np.std(dff3['bedrooms'])))) & (dff3['bedrooms']<(np.mean(dff3['bedrooms'])+3*np.std(dff3['bedrooms'])))]\n",
    "dff4.shape                                                                                           "
   ]
  },
  {
   "cell_type": "code",
   "execution_count": 29,
   "metadata": {},
   "outputs": [
    {
     "data": {
      "text/plain": [
       "price            1.363050\n",
       "bedrooms         0.283559\n",
       "bathrooms        0.220407\n",
       "sqft_living      0.912629\n",
       "sqft_lot         1.444181\n",
       "floors           0.687539\n",
       "condition        1.054393\n",
       "grade            0.631624\n",
       "sqft_above       1.145424\n",
       "sqft_basement    1.404808\n",
       "yr_built        -0.409774\n",
       "lat             -0.491343\n",
       "long             0.986717\n",
       "sqft_living15    1.055773\n",
       "sqft_lot15       1.126683\n",
       "dtype: float64"
      ]
     },
     "execution_count": 29,
     "metadata": {},
     "output_type": "execute_result"
    }
   ],
   "source": [
    "dff4.skew()"
   ]
  },
  {
   "cell_type": "code",
   "execution_count": 30,
   "metadata": {},
   "outputs": [
    {
     "data": {
      "text/plain": [
       "<matplotlib.axes._subplots.AxesSubplot at 0x2ce9a7eb38>"
      ]
     },
     "execution_count": 30,
     "metadata": {},
     "output_type": "execute_result"
    },
    {
     "data": {
      "image/png": "[encoded data removed]",
      "text/plain": [
       "<Figure size 432x288 with 1 Axes>"
      ]
     },
     "metadata": {
      "needs_background": "light"
     },
     "output_type": "display_data"
    }
   ],
   "source": [
    "sns.distplot(dff4['bedrooms'],bins=50)"
   ]
  },
  {
   "cell_type": "code",
   "execution_count": null,
   "metadata": {},
   "outputs": [],
   "source": []
  },
  {
   "cell_type": "code",
   "execution_count": null,
   "metadata": {},
   "outputs": [],
   "source": []
  },
  {
   "cell_type": "code",
   "execution_count": null,
   "metadata": {},
   "outputs": [],
   "source": []
  },
  {
   "cell_type": "code",
   "execution_count": null,
   "metadata": {},
   "outputs": [],
   "source": []
  },
  {
   "cell_type": "code",
   "execution_count": 31,
   "metadata": {},
   "outputs": [
    {
     "data": {
      "text/plain": [
       "<matplotlib.axes._subplots.AxesSubplot at 0x2ce9cfc748>"
      ]
     },
     "execution_count": 31,
     "metadata": {},
     "output_type": "execute_result"
    },
    {
     "data": {
      "image/png": "[encoded data removed]",
      "text/plain": [
       "<Figure size 1080x720 with 2 Axes>"
      ]
     },
     "metadata": {
      "needs_background": "light"
     },
     "output_type": "display_data"
    }
   ],
   "source": [
    "plt.figure(figsize=(15,10))\n",
    "sns.heatmap(df1.corr(),annot=True)"
   ]
  },
  {
   "cell_type": "code",
   "execution_count": 32,
   "metadata": {},
   "outputs": [],
   "source": [
    "# plt.figure(figsize=(30,25))\n",
    "\n",
    "# plt.subplot(4,3,1)\n",
    "# sns.distplot(df1['price'],bins=50)\n",
    "\n",
    "\n",
    "# plt.subplot(4,3,2)\n",
    "# sns.distplot(df1['bedrooms'],bins=50)\n",
    "\n",
    "\n",
    "# plt.subplot(4,3,3)\n",
    "# sns.distplot(df1['bathrooms'],bins=50)\n",
    "\n",
    "\n",
    "# plt.subplot(4,3,4)\n",
    "# sns.distplot(df1['sqft_living'],bins=50)\n",
    "\n",
    "# plt.subplot(4,3,5)\n",
    "# sns.distplot(df1['sqft_lot'],bins=50)\n",
    "\n",
    "\n",
    "# plt.subplot(4,3,6)\n",
    "# sns.distplot(df1['floors'],bins=50)\n",
    "\n",
    "\n",
    "\n",
    "# plt.subplot(4,3,7)\n",
    "# sns.distplot(df1['waterfront'],bins=50)\n",
    "\n",
    "\n",
    "\n",
    "# plt.subplot(4,3,8)\n",
    "# sns.distplot(df1['view'],bins=50)\n",
    "\n",
    "# plt.subplot(4,3,9)\n",
    "# sns.distplot(df1['condition'],bins=50)\n",
    "\n",
    "\n",
    "# plt.subplot(4,3,10)\n",
    "# sns.distplot(df1['grade'],bins=50)\n",
    "\n",
    "\n",
    "# plt.subplot(4,3,11)\n",
    "# sns.distplot(df1['sqft_above'],bins=50)\n"
   ]
  },
  {
   "cell_type": "code",
   "execution_count": 33,
   "metadata": {},
   "outputs": [],
   "source": [
    "from sklearn.model_selection import train_test_split\n",
    "df_train,df_test=train_test_split(dff4,test_size=0.3,random_state=101)"
   ]
  },
  {
   "cell_type": "code",
   "execution_count": 34,
   "metadata": {},
   "outputs": [],
   "source": [
    "from sklearn.preprocessing import StandardScaler\n",
    "sc=StandardScaler()"
   ]
  },
  {
   "cell_type": "code",
   "execution_count": 35,
   "metadata": {},
   "outputs": [],
   "source": [
    "df_train_scale=pd.DataFrame(sc.fit_transform(df_train),columns=dff4.columns)"
   ]
  },
  {
   "cell_type": "code",
   "execution_count": 36,
   "metadata": {},
   "outputs": [],
   "source": [
    "df_test_scale=pd.DataFrame(sc.transform(df_test),columns=dff4.columns)"
   ]
  },
  {
   "cell_type": "code",
   "execution_count": 37,
   "metadata": {},
   "outputs": [
    {
     "data": {
      "text/plain": [
       "(13503, 15)"
      ]
     },
     "execution_count": 37,
     "metadata": {},
     "output_type": "execute_result"
    }
   ],
   "source": [
    "df_train_scale.shape"
   ]
  },
  {
   "cell_type": "code",
   "execution_count": 38,
   "metadata": {},
   "outputs": [
    {
     "data": {
      "text/plain": [
       "(5787, 15)"
      ]
     },
     "execution_count": 38,
     "metadata": {},
     "output_type": "execute_result"
    }
   ],
   "source": [
    "df_test_scale.shape"
   ]
  },
  {
   "cell_type": "code",
   "execution_count": 39,
   "metadata": {},
   "outputs": [],
   "source": [
    "X_train=df_train_scale.drop('price',axis=1)\n",
    "X_test=df_test_scale.drop('price',axis=1)"
   ]
  },
  {
   "cell_type": "code",
   "execution_count": 40,
   "metadata": {},
   "outputs": [],
   "source": [
    "y_train=df_train_scale.price\n",
    "y_test=df_test_scale.price"
   ]
  },
  {
   "cell_type": "code",
   "execution_count": 41,
   "metadata": {},
   "outputs": [],
   "source": [
    "from sklearn.feature_selection import RFE\n",
    "from sklearn.linear_model import LinearRegression"
   ]
  },
  {
   "cell_type": "code",
   "execution_count": 42,
   "metadata": {},
   "outputs": [],
   "source": [
    "lr=LinearRegression()"
   ]
  },
  {
   "cell_type": "code",
   "execution_count": 43,
   "metadata": {},
   "outputs": [
    {
     "data": {
      "text/plain": [
       "RFE(estimator=LinearRegression(copy_X=True, fit_intercept=True, n_jobs=None,\n",
       "                               normalize=False),\n",
       "    n_features_to_select=12, step=1, verbose=0)"
      ]
     },
     "execution_count": 43,
     "metadata": {},
     "output_type": "execute_result"
    }
   ],
   "source": [
    "rfe=RFE(lr,12)\n",
    "rfe=rfe.fit(X_train,y_train)\n",
    "rfe"
   ]
  },
  {
   "cell_type": "code",
   "execution_count": 44,
   "metadata": {},
   "outputs": [
    {
     "data": {
      "text/plain": [
       "[('bedrooms', True, 1),\n",
       " ('bathrooms', True, 1),\n",
       " ('sqft_living', True, 1),\n",
       " ('sqft_lot', True, 1),\n",
       " ('floors', True, 1),\n",
       " ('condition', True, 1),\n",
       " ('grade', True, 1),\n",
       " ('sqft_above', True, 1),\n",
       " ('sqft_basement', True, 1),\n",
       " ('yr_built', True, 1),\n",
       " ('lat', True, 1),\n",
       " ('long', False, 2),\n",
       " ('sqft_living15', True, 1),\n",
       " ('sqft_lot15', False, 3)]"
      ]
     },
     "execution_count": 44,
     "metadata": {},
     "output_type": "execute_result"
    }
   ],
   "source": [
    "list(zip(X_train.columns,rfe.support_,rfe.ranking_))  ###feed data frame\n"
   ]
  },
  {
   "cell_type": "code",
   "execution_count": 45,
   "metadata": {},
   "outputs": [
    {
     "data": {
      "text/plain": [
       "Index(['bedrooms', 'bathrooms', 'sqft_living', 'sqft_lot', 'floors',\n",
       "       'condition', 'grade', 'sqft_above', 'sqft_basement', 'yr_built', 'lat',\n",
       "       'sqft_living15'],\n",
       "      dtype='object')"
      ]
     },
     "execution_count": 45,
     "metadata": {},
     "output_type": "execute_result"
    }
   ],
   "source": [
    "selected_col=X_train.columns[rfe.support_] ## it takes all the column names\n",
    "selected_col"
   ]
  },
  {
   "cell_type": "code",
   "execution_count": 46,
   "metadata": {},
   "outputs": [
    {
     "data": {
      "text/html": [
       "<div>\n",
       "<style scoped>\n",
       "    .dataframe tbody tr th:only-of-type {\n",
       "        vertical-align: middle;\n",
       "    }\n",
       "\n",
       "    .dataframe tbody tr th {\n",
       "        vertical-align: top;\n",
       "    }\n",
       "\n",
       "    .dataframe thead th {\n",
       "        text-align: right;\n",
       "    }\n",
       "</style>\n",
       "<table border=\"1\" class=\"dataframe\">\n",
       "  <thead>\n",
       "    <tr style=\"text-align: right;\">\n",
       "      <th></th>\n",
       "      <th>bedrooms</th>\n",
       "      <th>bathrooms</th>\n",
       "      <th>sqft_living</th>\n",
       "      <th>sqft_lot</th>\n",
       "      <th>floors</th>\n",
       "      <th>condition</th>\n",
       "      <th>grade</th>\n",
       "      <th>sqft_above</th>\n",
       "      <th>sqft_basement</th>\n",
       "      <th>yr_built</th>\n",
       "      <th>lat</th>\n",
       "      <th>sqft_living15</th>\n",
       "    </tr>\n",
       "  </thead>\n",
       "  <tbody>\n",
       "    <tr>\n",
       "      <th>0</th>\n",
       "      <td>-0.384965</td>\n",
       "      <td>-0.430973</td>\n",
       "      <td>-0.958689</td>\n",
       "      <td>0.459281</td>\n",
       "      <td>-0.893145</td>\n",
       "      <td>-0.631060</td>\n",
       "      <td>-0.517895</td>\n",
       "      <td>-0.657942</td>\n",
       "      <td>-0.668024</td>\n",
       "      <td>-0.184758</td>\n",
       "      <td>1.543865</td>\n",
       "      <td>-0.448953</td>\n",
       "    </tr>\n",
       "    <tr>\n",
       "      <th>1</th>\n",
       "      <td>-0.384965</td>\n",
       "      <td>0.614558</td>\n",
       "      <td>0.128848</td>\n",
       "      <td>-0.833204</td>\n",
       "      <td>0.951901</td>\n",
       "      <td>-0.631060</td>\n",
       "      <td>0.431099</td>\n",
       "      <td>0.522031</td>\n",
       "      <td>-0.668024</td>\n",
       "      <td>0.958406</td>\n",
       "      <td>0.311602</td>\n",
       "      <td>-0.608961</td>\n",
       "    </tr>\n",
       "    <tr>\n",
       "      <th>2</th>\n",
       "      <td>0.755988</td>\n",
       "      <td>0.963068</td>\n",
       "      <td>0.960494</td>\n",
       "      <td>-0.863670</td>\n",
       "      <td>0.029378</td>\n",
       "      <td>2.460815</td>\n",
       "      <td>0.431099</td>\n",
       "      <td>0.202744</td>\n",
       "      <td>1.466996</td>\n",
       "      <td>-1.428790</td>\n",
       "      <td>0.863221</td>\n",
       "      <td>-0.496956</td>\n",
       "    </tr>\n",
       "    <tr>\n",
       "      <th>3</th>\n",
       "      <td>0.755988</td>\n",
       "      <td>-0.082462</td>\n",
       "      <td>-0.318961</td>\n",
       "      <td>-0.537548</td>\n",
       "      <td>0.951901</td>\n",
       "      <td>-0.631060</td>\n",
       "      <td>-0.517895</td>\n",
       "      <td>-0.310891</td>\n",
       "      <td>-0.061484</td>\n",
       "      <td>-1.092565</td>\n",
       "      <td>0.958903</td>\n",
       "      <td>-0.640963</td>\n",
       "    </tr>\n",
       "    <tr>\n",
       "      <th>4</th>\n",
       "      <td>0.755988</td>\n",
       "      <td>2.008599</td>\n",
       "      <td>2.355100</td>\n",
       "      <td>0.473129</td>\n",
       "      <td>0.951901</td>\n",
       "      <td>-0.631060</td>\n",
       "      <td>1.380093</td>\n",
       "      <td>2.937504</td>\n",
       "      <td>-0.668024</td>\n",
       "      <td>-1.092565</td>\n",
       "      <td>-0.426306</td>\n",
       "      <td>0.063073</td>\n",
       "    </tr>\n",
       "  </tbody>\n",
       "</table>\n",
       "</div>"
      ],
      "text/plain": [
       "   bedrooms  bathrooms  sqft_living  sqft_lot    floors  condition     grade  \\\n",
       "0 -0.384965  -0.430973    -0.958689  0.459281 -0.893145  -0.631060 -0.517895   \n",
       "1 -0.384965   0.614558     0.128848 -0.833204  0.951901  -0.631060  0.431099   \n",
       "2  0.755988   0.963068     0.960494 -0.863670  0.029378   2.460815  0.431099   \n",
       "3  0.755988  -0.082462    -0.318961 -0.537548  0.951901  -0.631060 -0.517895   \n",
       "4  0.755988   2.008599     2.355100  0.473129  0.951901  -0.631060  1.380093   \n",
       "\n",
       "   sqft_above  sqft_basement  yr_built       lat  sqft_living15  \n",
       "0   -0.657942      -0.668024 -0.184758  1.543865      -0.448953  \n",
       "1    0.522031      -0.668024  0.958406  0.311602      -0.608961  \n",
       "2    0.202744       1.466996 -1.428790  0.863221      -0.496956  \n",
       "3   -0.310891      -0.061484 -1.092565  0.958903      -0.640963  \n",
       "4    2.937504      -0.668024 -1.092565 -0.426306       0.063073  "
      ]
     },
     "execution_count": 46,
     "metadata": {},
     "output_type": "execute_result"
    }
   ],
   "source": [
    "X_train_rfe=X_train[selected_col] ## it takes all column and made it dataframe\n",
    "X_train_rfe.head()"
   ]
  },
  {
   "cell_type": "code",
   "execution_count": 47,
   "metadata": {},
   "outputs": [],
   "source": [
    "import statsmodels.api as sm\n"
   ]
  },
  {
   "cell_type": "code",
   "execution_count": 48,
   "metadata": {},
   "outputs": [],
   "source": [
    "X_train_rfe_sm=sm.add_constant(X_train_rfe)"
   ]
  },
  {
   "cell_type": "code",
   "execution_count": 49,
   "metadata": {},
   "outputs": [],
   "source": [
    "limod=sm.OLS(y_train,X_train_rfe_sm).fit()"
   ]
  },
  {
   "cell_type": "code",
   "execution_count": 50,
   "metadata": {},
   "outputs": [
    {
     "name": "stdout",
     "output_type": "stream",
     "text": [
      "                            OLS Regression Results                            \n",
      "==============================================================================\n",
      "Dep. Variable:                  price   R-squared:                       0.694\n",
      "Model:                            OLS   Adj. R-squared:                  0.694\n",
      "Method:                 Least Squares   F-statistic:                     2787.\n",
      "Date:                Tue, 10 Sep 2019   Prob (F-statistic):               0.00\n",
      "Time:                        20:54:02   Log-Likelihood:                -11156.\n",
      "No. Observations:               13503   AIC:                         2.234e+04\n",
      "Df Residuals:                   13491   BIC:                         2.243e+04\n",
      "Df Model:                          11                                         \n",
      "Covariance Type:            nonrobust                                         \n",
      "=================================================================================\n",
      "                    coef    std err          t      P>|t|      [0.025      0.975]\n",
      "---------------------------------------------------------------------------------\n",
      "const          5.228e-15      0.005    1.1e-12      1.000      -0.009       0.009\n",
      "bedrooms         -0.0632      0.006    -10.025      0.000      -0.076      -0.051\n",
      "bathrooms         0.0841      0.008     10.065      0.000       0.068       0.101\n",
      "sqft_living       0.1635      0.006     29.193      0.000       0.153       0.174\n",
      "sqft_lot         -0.0480      0.006     -8.464      0.000      -0.059      -0.037\n",
      "floors            0.0640      0.007      8.778      0.000       0.050       0.078\n",
      "condition         0.0756      0.005     14.474      0.000       0.065       0.086\n",
      "grade             0.3965      0.008     49.112      0.000       0.381       0.412\n",
      "sqft_above        0.1246      0.006     21.549      0.000       0.113       0.136\n",
      "sqft_basement     0.0923      0.005     17.889      0.000       0.082       0.102\n",
      "yr_built         -0.2920      0.007    -43.950      0.000      -0.305      -0.279\n",
      "lat               0.2950      0.005     58.443      0.000       0.285       0.305\n",
      "sqft_living15     0.1507      0.008     18.725      0.000       0.135       0.167\n",
      "==============================================================================\n",
      "Omnibus:                     3491.495   Durbin-Watson:                   1.998\n",
      "Prob(Omnibus):                  0.000   Jarque-Bera (JB):            14078.708\n",
      "Skew:                           1.231   Prob(JB):                         0.00\n",
      "Kurtosis:                       7.354   Cond. No.                     5.95e+15\n",
      "==============================================================================\n",
      "\n",
      "Warnings:\n",
      "[1] Standard Errors assume that the covariance matrix of the errors is correctly specified.\n",
      "[2] The smallest eigenvalue is 1.85e-27. This might indicate that there are\n",
      "strong multicollinearity problems or that the design matrix is singular.\n"
     ]
    }
   ],
   "source": [
    "print(limod.summary())"
   ]
  },
  {
   "cell_type": "code",
   "execution_count": 51,
   "metadata": {},
   "outputs": [
    {
     "data": {
      "text/html": [
       "<div>\n",
       "<style scoped>\n",
       "    .dataframe tbody tr th:only-of-type {\n",
       "        vertical-align: middle;\n",
       "    }\n",
       "\n",
       "    .dataframe tbody tr th {\n",
       "        vertical-align: top;\n",
       "    }\n",
       "\n",
       "    .dataframe thead th {\n",
       "        text-align: right;\n",
       "    }\n",
       "</style>\n",
       "<table border=\"1\" class=\"dataframe\">\n",
       "  <thead>\n",
       "    <tr style=\"text-align: right;\">\n",
       "      <th></th>\n",
       "      <th>Features</th>\n",
       "      <th>VIF</th>\n",
       "    </tr>\n",
       "  </thead>\n",
       "  <tbody>\n",
       "    <tr>\n",
       "      <th>3</th>\n",
       "      <td>sqft_living</td>\n",
       "      <td>inf</td>\n",
       "    </tr>\n",
       "    <tr>\n",
       "      <th>8</th>\n",
       "      <td>sqft_above</td>\n",
       "      <td>inf</td>\n",
       "    </tr>\n",
       "    <tr>\n",
       "      <th>9</th>\n",
       "      <td>sqft_basement</td>\n",
       "      <td>inf</td>\n",
       "    </tr>\n",
       "    <tr>\n",
       "      <th>2</th>\n",
       "      <td>bathrooms</td>\n",
       "      <td>3.09</td>\n",
       "    </tr>\n",
       "    <tr>\n",
       "      <th>7</th>\n",
       "      <td>grade</td>\n",
       "      <td>2.88</td>\n",
       "    </tr>\n",
       "    <tr>\n",
       "      <th>12</th>\n",
       "      <td>sqft_living15</td>\n",
       "      <td>2.86</td>\n",
       "    </tr>\n",
       "    <tr>\n",
       "      <th>5</th>\n",
       "      <td>floors</td>\n",
       "      <td>2.35</td>\n",
       "    </tr>\n",
       "    <tr>\n",
       "      <th>10</th>\n",
       "      <td>yr_built</td>\n",
       "      <td>1.95</td>\n",
       "    </tr>\n",
       "    <tr>\n",
       "      <th>1</th>\n",
       "      <td>bedrooms</td>\n",
       "      <td>1.75</td>\n",
       "    </tr>\n",
       "    <tr>\n",
       "      <th>4</th>\n",
       "      <td>sqft_lot</td>\n",
       "      <td>1.42</td>\n",
       "    </tr>\n",
       "    <tr>\n",
       "      <th>6</th>\n",
       "      <td>condition</td>\n",
       "      <td>1.20</td>\n",
       "    </tr>\n",
       "    <tr>\n",
       "      <th>11</th>\n",
       "      <td>lat</td>\n",
       "      <td>1.13</td>\n",
       "    </tr>\n",
       "    <tr>\n",
       "      <th>0</th>\n",
       "      <td>const</td>\n",
       "      <td>1.00</td>\n",
       "    </tr>\n",
       "  </tbody>\n",
       "</table>\n",
       "</div>"
      ],
      "text/plain": [
       "         Features   VIF\n",
       "3     sqft_living   inf\n",
       "8      sqft_above   inf\n",
       "9   sqft_basement   inf\n",
       "2       bathrooms  3.09\n",
       "7           grade  2.88\n",
       "12  sqft_living15  2.86\n",
       "5          floors  2.35\n",
       "10       yr_built  1.95\n",
       "1        bedrooms  1.75\n",
       "4        sqft_lot  1.42\n",
       "6       condition  1.20\n",
       "11            lat  1.13\n",
       "0           const  1.00"
      ]
     },
     "execution_count": 51,
     "metadata": {},
     "output_type": "execute_result"
    }
   ],
   "source": [
    "#check for the VIF value of feature variables\n",
    "from statsmodels.stats.outliers_influence import variance_inflation_factor\n",
    "# create DF that vll contain all features variables and thier respective VIF\n",
    "vif=pd.DataFrame()\n",
    "vif['Features']=X_train_rfe_sm.columns\n",
    "vif['VIF']=[variance_inflation_factor(X_train_rfe_sm.values,i) for i in range(X_train_rfe_sm.shape[1])]## shape(1) ---> for all coloumn\n",
    "vif['VIF']=round(vif['VIF'],2)\n",
    "vif=vif.sort_values(by='VIF',ascending=False)\n",
    "vif"
   ]
  },
  {
   "cell_type": "code",
   "execution_count": 52,
   "metadata": {},
   "outputs": [],
   "source": [
    "X_train_rfe_sm.drop('sqft_living',axis=1,inplace=True)"
   ]
  },
  {
   "cell_type": "code",
   "execution_count": 53,
   "metadata": {},
   "outputs": [],
   "source": [
    "limod1=sm.OLS(y_train,X_train_rfe_sm).fit()"
   ]
  },
  {
   "cell_type": "code",
   "execution_count": 54,
   "metadata": {},
   "outputs": [
    {
     "name": "stdout",
     "output_type": "stream",
     "text": [
      "                            OLS Regression Results                            \n",
      "==============================================================================\n",
      "Dep. Variable:                  price   R-squared:                       0.694\n",
      "Model:                            OLS   Adj. R-squared:                  0.694\n",
      "Method:                 Least Squares   F-statistic:                     2787.\n",
      "Date:                Tue, 10 Sep 2019   Prob (F-statistic):               0.00\n",
      "Time:                        20:54:03   Log-Likelihood:                -11156.\n",
      "No. Observations:               13503   AIC:                         2.234e+04\n",
      "Df Residuals:                   13491   BIC:                         2.243e+04\n",
      "Df Model:                          11                                         \n",
      "Covariance Type:            nonrobust                                         \n",
      "=================================================================================\n",
      "                    coef    std err          t      P>|t|      [0.025      0.975]\n",
      "---------------------------------------------------------------------------------\n",
      "const          5.139e-15      0.005   1.08e-12      1.000      -0.009       0.009\n",
      "bedrooms         -0.0632      0.006    -10.025      0.000      -0.076      -0.051\n",
      "bathrooms         0.0841      0.008     10.065      0.000       0.068       0.101\n",
      "sqft_lot         -0.0480      0.006     -8.464      0.000      -0.059      -0.037\n",
      "floors            0.0640      0.007      8.778      0.000       0.050       0.078\n",
      "condition         0.0756      0.005     14.474      0.000       0.065       0.086\n",
      "grade             0.3965      0.008     49.112      0.000       0.381       0.412\n",
      "sqft_above        0.2753      0.011     25.961      0.000       0.254       0.296\n",
      "sqft_basement     0.1785      0.007     26.403      0.000       0.165       0.192\n",
      "yr_built         -0.2920      0.007    -43.950      0.000      -0.305      -0.279\n",
      "lat               0.2950      0.005     58.443      0.000       0.285       0.305\n",
      "sqft_living15     0.1507      0.008     18.725      0.000       0.135       0.167\n",
      "==============================================================================\n",
      "Omnibus:                     3491.495   Durbin-Watson:                   1.998\n",
      "Prob(Omnibus):                  0.000   Jarque-Bera (JB):            14078.708\n",
      "Skew:                           1.231   Prob(JB):                         0.00\n",
      "Kurtosis:                       7.354   Cond. No.                         5.50\n",
      "==============================================================================\n",
      "\n",
      "Warnings:\n",
      "[1] Standard Errors assume that the covariance matrix of the errors is correctly specified.\n"
     ]
    }
   ],
   "source": [
    "print(limod1.summary())"
   ]
  },
  {
   "cell_type": "code",
   "execution_count": 55,
   "metadata": {},
   "outputs": [
    {
     "data": {
      "text/html": [
       "<div>\n",
       "<style scoped>\n",
       "    .dataframe tbody tr th:only-of-type {\n",
       "        vertical-align: middle;\n",
       "    }\n",
       "\n",
       "    .dataframe tbody tr th {\n",
       "        vertical-align: top;\n",
       "    }\n",
       "\n",
       "    .dataframe thead th {\n",
       "        text-align: right;\n",
       "    }\n",
       "</style>\n",
       "<table border=\"1\" class=\"dataframe\">\n",
       "  <thead>\n",
       "    <tr style=\"text-align: right;\">\n",
       "      <th></th>\n",
       "      <th>Features</th>\n",
       "      <th>VIF</th>\n",
       "    </tr>\n",
       "  </thead>\n",
       "  <tbody>\n",
       "    <tr>\n",
       "      <th>7</th>\n",
       "      <td>sqft_above</td>\n",
       "      <td>4.96</td>\n",
       "    </tr>\n",
       "    <tr>\n",
       "      <th>2</th>\n",
       "      <td>bathrooms</td>\n",
       "      <td>3.09</td>\n",
       "    </tr>\n",
       "    <tr>\n",
       "      <th>6</th>\n",
       "      <td>grade</td>\n",
       "      <td>2.88</td>\n",
       "    </tr>\n",
       "    <tr>\n",
       "      <th>11</th>\n",
       "      <td>sqft_living15</td>\n",
       "      <td>2.86</td>\n",
       "    </tr>\n",
       "    <tr>\n",
       "      <th>4</th>\n",
       "      <td>floors</td>\n",
       "      <td>2.35</td>\n",
       "    </tr>\n",
       "    <tr>\n",
       "      <th>8</th>\n",
       "      <td>sqft_basement</td>\n",
       "      <td>2.02</td>\n",
       "    </tr>\n",
       "    <tr>\n",
       "      <th>9</th>\n",
       "      <td>yr_built</td>\n",
       "      <td>1.95</td>\n",
       "    </tr>\n",
       "    <tr>\n",
       "      <th>1</th>\n",
       "      <td>bedrooms</td>\n",
       "      <td>1.75</td>\n",
       "    </tr>\n",
       "    <tr>\n",
       "      <th>3</th>\n",
       "      <td>sqft_lot</td>\n",
       "      <td>1.42</td>\n",
       "    </tr>\n",
       "    <tr>\n",
       "      <th>5</th>\n",
       "      <td>condition</td>\n",
       "      <td>1.20</td>\n",
       "    </tr>\n",
       "    <tr>\n",
       "      <th>10</th>\n",
       "      <td>lat</td>\n",
       "      <td>1.13</td>\n",
       "    </tr>\n",
       "    <tr>\n",
       "      <th>0</th>\n",
       "      <td>const</td>\n",
       "      <td>1.00</td>\n",
       "    </tr>\n",
       "  </tbody>\n",
       "</table>\n",
       "</div>"
      ],
      "text/plain": [
       "         Features   VIF\n",
       "7      sqft_above  4.96\n",
       "2       bathrooms  3.09\n",
       "6           grade  2.88\n",
       "11  sqft_living15  2.86\n",
       "4          floors  2.35\n",
       "8   sqft_basement  2.02\n",
       "9        yr_built  1.95\n",
       "1        bedrooms  1.75\n",
       "3        sqft_lot  1.42\n",
       "5       condition  1.20\n",
       "10            lat  1.13\n",
       "0           const  1.00"
      ]
     },
     "execution_count": 55,
     "metadata": {},
     "output_type": "execute_result"
    }
   ],
   "source": [
    "#check for the VIF value of feature variables\n",
    "from statsmodels.stats.outliers_influence import variance_inflation_factor\n",
    "# create DF that vll contain all features variables and thier respective VIF\n",
    "vif=pd.DataFrame()\n",
    "vif['Features']=X_train_rfe_sm.columns\n",
    "vif['VIF']=[variance_inflation_factor(X_train_rfe_sm.values,i) for i in range(X_train_rfe_sm.shape[1])]## shape(1) ---> for all coloumn\n",
    "vif['VIF']=round(vif['VIF'],2)\n",
    "vif=vif.sort_values(by='VIF',ascending=False)\n",
    "vif"
   ]
  },
  {
   "cell_type": "code",
   "execution_count": 56,
   "metadata": {},
   "outputs": [
    {
     "data": {
      "text/html": [
       "<div>\n",
       "<style scoped>\n",
       "    .dataframe tbody tr th:only-of-type {\n",
       "        vertical-align: middle;\n",
       "    }\n",
       "\n",
       "    .dataframe tbody tr th {\n",
       "        vertical-align: top;\n",
       "    }\n",
       "\n",
       "    .dataframe thead th {\n",
       "        text-align: right;\n",
       "    }\n",
       "</style>\n",
       "<table border=\"1\" class=\"dataframe\">\n",
       "  <thead>\n",
       "    <tr style=\"text-align: right;\">\n",
       "      <th></th>\n",
       "      <th>const</th>\n",
       "      <th>bedrooms</th>\n",
       "      <th>bathrooms</th>\n",
       "      <th>sqft_lot</th>\n",
       "      <th>floors</th>\n",
       "      <th>condition</th>\n",
       "      <th>grade</th>\n",
       "      <th>sqft_above</th>\n",
       "      <th>sqft_basement</th>\n",
       "      <th>yr_built</th>\n",
       "      <th>lat</th>\n",
       "      <th>sqft_living15</th>\n",
       "    </tr>\n",
       "  </thead>\n",
       "  <tbody>\n",
       "    <tr>\n",
       "      <th>0</th>\n",
       "      <td>1.0</td>\n",
       "      <td>-0.384965</td>\n",
       "      <td>-0.430973</td>\n",
       "      <td>0.459281</td>\n",
       "      <td>-0.893145</td>\n",
       "      <td>-0.631060</td>\n",
       "      <td>-0.517895</td>\n",
       "      <td>-0.657942</td>\n",
       "      <td>-0.668024</td>\n",
       "      <td>-0.184758</td>\n",
       "      <td>1.543865</td>\n",
       "      <td>-0.448953</td>\n",
       "    </tr>\n",
       "    <tr>\n",
       "      <th>1</th>\n",
       "      <td>1.0</td>\n",
       "      <td>-0.384965</td>\n",
       "      <td>0.614558</td>\n",
       "      <td>-0.833204</td>\n",
       "      <td>0.951901</td>\n",
       "      <td>-0.631060</td>\n",
       "      <td>0.431099</td>\n",
       "      <td>0.522031</td>\n",
       "      <td>-0.668024</td>\n",
       "      <td>0.958406</td>\n",
       "      <td>0.311602</td>\n",
       "      <td>-0.608961</td>\n",
       "    </tr>\n",
       "    <tr>\n",
       "      <th>2</th>\n",
       "      <td>1.0</td>\n",
       "      <td>0.755988</td>\n",
       "      <td>0.963068</td>\n",
       "      <td>-0.863670</td>\n",
       "      <td>0.029378</td>\n",
       "      <td>2.460815</td>\n",
       "      <td>0.431099</td>\n",
       "      <td>0.202744</td>\n",
       "      <td>1.466996</td>\n",
       "      <td>-1.428790</td>\n",
       "      <td>0.863221</td>\n",
       "      <td>-0.496956</td>\n",
       "    </tr>\n",
       "    <tr>\n",
       "      <th>3</th>\n",
       "      <td>1.0</td>\n",
       "      <td>0.755988</td>\n",
       "      <td>-0.082462</td>\n",
       "      <td>-0.537548</td>\n",
       "      <td>0.951901</td>\n",
       "      <td>-0.631060</td>\n",
       "      <td>-0.517895</td>\n",
       "      <td>-0.310891</td>\n",
       "      <td>-0.061484</td>\n",
       "      <td>-1.092565</td>\n",
       "      <td>0.958903</td>\n",
       "      <td>-0.640963</td>\n",
       "    </tr>\n",
       "    <tr>\n",
       "      <th>4</th>\n",
       "      <td>1.0</td>\n",
       "      <td>0.755988</td>\n",
       "      <td>2.008599</td>\n",
       "      <td>0.473129</td>\n",
       "      <td>0.951901</td>\n",
       "      <td>-0.631060</td>\n",
       "      <td>1.380093</td>\n",
       "      <td>2.937504</td>\n",
       "      <td>-0.668024</td>\n",
       "      <td>-1.092565</td>\n",
       "      <td>-0.426306</td>\n",
       "      <td>0.063073</td>\n",
       "    </tr>\n",
       "  </tbody>\n",
       "</table>\n",
       "</div>"
      ],
      "text/plain": [
       "   const  bedrooms  bathrooms  sqft_lot    floors  condition     grade  \\\n",
       "0    1.0 -0.384965  -0.430973  0.459281 -0.893145  -0.631060 -0.517895   \n",
       "1    1.0 -0.384965   0.614558 -0.833204  0.951901  -0.631060  0.431099   \n",
       "2    1.0  0.755988   0.963068 -0.863670  0.029378   2.460815  0.431099   \n",
       "3    1.0  0.755988  -0.082462 -0.537548  0.951901  -0.631060 -0.517895   \n",
       "4    1.0  0.755988   2.008599  0.473129  0.951901  -0.631060  1.380093   \n",
       "\n",
       "   sqft_above  sqft_basement  yr_built       lat  sqft_living15  \n",
       "0   -0.657942      -0.668024 -0.184758  1.543865      -0.448953  \n",
       "1    0.522031      -0.668024  0.958406  0.311602      -0.608961  \n",
       "2    0.202744       1.466996 -1.428790  0.863221      -0.496956  \n",
       "3   -0.310891      -0.061484 -1.092565  0.958903      -0.640963  \n",
       "4    2.937504      -0.668024 -1.092565 -0.426306       0.063073  "
      ]
     },
     "execution_count": 56,
     "metadata": {},
     "output_type": "execute_result"
    }
   ],
   "source": [
    "X_train_rfe_sm.head()"
   ]
  },
  {
   "cell_type": "code",
   "execution_count": 57,
   "metadata": {},
   "outputs": [],
   "source": [
    "y_train_sm_pred=limod1.predict(X_train_rfe_sm)"
   ]
  },
  {
   "cell_type": "code",
   "execution_count": 58,
   "metadata": {},
   "outputs": [],
   "source": [
    "error_training=y_train-y_train_sm_pred"
   ]
  },
  {
   "cell_type": "code",
   "execution_count": 59,
   "metadata": {},
   "outputs": [
    {
     "data": {
      "text/plain": [
       "<matplotlib.axes._subplots.AxesSubplot at 0x2ce97419e8>"
      ]
     },
     "execution_count": 59,
     "metadata": {},
     "output_type": "execute_result"
    },
    {
     "data": {
      "image/png": "[encoded data removed]",
      "text/plain": [
       "<Figure size 432x288 with 1 Axes>"
      ]
     },
     "metadata": {
      "needs_background": "light"
     },
     "output_type": "display_data"
    }
   ],
   "source": [
    "sns.distplot(error_training)"
   ]
  },
  {
   "cell_type": "code",
   "execution_count": 60,
   "metadata": {},
   "outputs": [],
   "source": [
    "from sklearn.metrics import r2_score"
   ]
  },
  {
   "cell_type": "code",
   "execution_count": 61,
   "metadata": {},
   "outputs": [
    {
     "data": {
      "text/plain": [
       "0.6944096925691403"
      ]
     },
     "execution_count": 61,
     "metadata": {},
     "output_type": "execute_result"
    }
   ],
   "source": [
    "r2_score(y_train,y_train_sm_pred)"
   ]
  },
  {
   "cell_type": "code",
   "execution_count": 62,
   "metadata": {},
   "outputs": [],
   "source": [
    "# ADD CONSTANT TO TEST DATA\n",
    "X_test_sm=sm.add_constant(X_test)"
   ]
  },
  {
   "cell_type": "code",
   "execution_count": 63,
   "metadata": {},
   "outputs": [
    {
     "data": {
      "text/html": [
       "<div>\n",
       "<style scoped>\n",
       "    .dataframe tbody tr th:only-of-type {\n",
       "        vertical-align: middle;\n",
       "    }\n",
       "\n",
       "    .dataframe tbody tr th {\n",
       "        vertical-align: top;\n",
       "    }\n",
       "\n",
       "    .dataframe thead th {\n",
       "        text-align: right;\n",
       "    }\n",
       "</style>\n",
       "<table border=\"1\" class=\"dataframe\">\n",
       "  <thead>\n",
       "    <tr style=\"text-align: right;\">\n",
       "      <th></th>\n",
       "      <th>const</th>\n",
       "      <th>bedrooms</th>\n",
       "      <th>bathrooms</th>\n",
       "      <th>sqft_lot</th>\n",
       "      <th>floors</th>\n",
       "      <th>condition</th>\n",
       "      <th>grade</th>\n",
       "      <th>sqft_above</th>\n",
       "      <th>sqft_basement</th>\n",
       "      <th>yr_built</th>\n",
       "      <th>lat</th>\n",
       "      <th>sqft_living15</th>\n",
       "    </tr>\n",
       "  </thead>\n",
       "  <tbody>\n",
       "    <tr>\n",
       "      <th>0</th>\n",
       "      <td>1.0</td>\n",
       "      <td>0.755988</td>\n",
       "      <td>1.311578</td>\n",
       "      <td>0.705776</td>\n",
       "      <td>-0.893145</td>\n",
       "      <td>-0.631060</td>\n",
       "      <td>-1.466889</td>\n",
       "      <td>0.702497</td>\n",
       "      <td>-0.668024</td>\n",
       "      <td>-0.352871</td>\n",
       "      <td>-0.819181</td>\n",
       "      <td>-0.768970</td>\n",
       "    </tr>\n",
       "    <tr>\n",
       "      <th>1</th>\n",
       "      <td>1.0</td>\n",
       "      <td>-1.525918</td>\n",
       "      <td>-0.430973</td>\n",
       "      <td>1.476189</td>\n",
       "      <td>0.951901</td>\n",
       "      <td>-0.631060</td>\n",
       "      <td>0.431099</td>\n",
       "      <td>0.591441</td>\n",
       "      <td>0.545056</td>\n",
       "      <td>-1.327923</td>\n",
       "      <td>1.113298</td>\n",
       "      <td>-0.128936</td>\n",
       "    </tr>\n",
       "    <tr>\n",
       "      <th>2</th>\n",
       "      <td>1.0</td>\n",
       "      <td>-0.384965</td>\n",
       "      <td>-0.082462</td>\n",
       "      <td>0.011758</td>\n",
       "      <td>-0.893145</td>\n",
       "      <td>0.914877</td>\n",
       "      <td>-0.517895</td>\n",
       "      <td>-0.713470</td>\n",
       "      <td>-0.668024</td>\n",
       "      <td>0.723049</td>\n",
       "      <td>-1.125797</td>\n",
       "      <td>-0.304946</td>\n",
       "    </tr>\n",
       "    <tr>\n",
       "      <th>3</th>\n",
       "      <td>1.0</td>\n",
       "      <td>0.755988</td>\n",
       "      <td>-0.082462</td>\n",
       "      <td>1.631287</td>\n",
       "      <td>0.951901</td>\n",
       "      <td>2.460815</td>\n",
       "      <td>0.431099</td>\n",
       "      <td>1.105076</td>\n",
       "      <td>0.205393</td>\n",
       "      <td>-0.554605</td>\n",
       "      <td>0.207222</td>\n",
       "      <td>0.831113</td>\n",
       "    </tr>\n",
       "    <tr>\n",
       "      <th>4</th>\n",
       "      <td>1.0</td>\n",
       "      <td>-0.384965</td>\n",
       "      <td>-0.430973</td>\n",
       "      <td>1.502039</td>\n",
       "      <td>-0.893145</td>\n",
       "      <td>-0.631060</td>\n",
       "      <td>-0.517895</td>\n",
       "      <td>-0.866173</td>\n",
       "      <td>0.617840</td>\n",
       "      <td>0.285957</td>\n",
       "      <td>-1.691913</td>\n",
       "      <td>0.367089</td>\n",
       "    </tr>\n",
       "  </tbody>\n",
       "</table>\n",
       "</div>"
      ],
      "text/plain": [
       "   const  bedrooms  bathrooms  sqft_lot    floors  condition     grade  \\\n",
       "0    1.0  0.755988   1.311578  0.705776 -0.893145  -0.631060 -1.466889   \n",
       "1    1.0 -1.525918  -0.430973  1.476189  0.951901  -0.631060  0.431099   \n",
       "2    1.0 -0.384965  -0.082462  0.011758 -0.893145   0.914877 -0.517895   \n",
       "3    1.0  0.755988  -0.082462  1.631287  0.951901   2.460815  0.431099   \n",
       "4    1.0 -0.384965  -0.430973  1.502039 -0.893145  -0.631060 -0.517895   \n",
       "\n",
       "   sqft_above  sqft_basement  yr_built       lat  sqft_living15  \n",
       "0    0.702497      -0.668024 -0.352871 -0.819181      -0.768970  \n",
       "1    0.591441       0.545056 -1.327923  1.113298      -0.128936  \n",
       "2   -0.713470      -0.668024  0.723049 -1.125797      -0.304946  \n",
       "3    1.105076       0.205393 -0.554605  0.207222       0.831113  \n",
       "4   -0.866173       0.617840  0.285957 -1.691913       0.367089  "
      ]
     },
     "execution_count": 63,
     "metadata": {},
     "output_type": "execute_result"
    }
   ],
   "source": [
    "# IT CHOOSE COLUMN FROM TRAINED DATA FOR TEST DATA ANAYSIS\n",
    "X_test_sm=X_test_sm[X_train_rfe_sm.columns]\n",
    "X_test_sm.head()"
   ]
  },
  {
   "cell_type": "code",
   "execution_count": 64,
   "metadata": {},
   "outputs": [],
   "source": [
    "y_pred_test_sm=limod1.predict(X_test_sm)\n",
    "y_pred_train_sm=limod1.predict(X_train_rfe_sm)"
   ]
  },
  {
   "cell_type": "code",
   "execution_count": 65,
   "metadata": {},
   "outputs": [],
   "source": [
    "from sklearn.metrics import r2_score"
   ]
  },
  {
   "cell_type": "code",
   "execution_count": 66,
   "metadata": {},
   "outputs": [
    {
     "data": {
      "text/plain": [
       "0.6838963755105323"
      ]
     },
     "execution_count": 66,
     "metadata": {},
     "output_type": "execute_result"
    }
   ],
   "source": [
    "r2_score(y_test,y_pred_test_sm)"
   ]
  },
  {
   "cell_type": "code",
   "execution_count": 67,
   "metadata": {},
   "outputs": [],
   "source": [
    "lr=LinearRegression()"
   ]
  },
  {
   "cell_type": "code",
   "execution_count": 68,
   "metadata": {},
   "outputs": [
    {
     "data": {
      "text/plain": [
       "LinearRegression(copy_X=True, fit_intercept=True, n_jobs=None, normalize=False)"
      ]
     },
     "execution_count": 68,
     "metadata": {},
     "output_type": "execute_result"
    }
   ],
   "source": [
    "lr.fit(X_train_rfe_sm,y_train)"
   ]
  },
  {
   "cell_type": "code",
   "execution_count": 69,
   "metadata": {},
   "outputs": [],
   "source": [
    "y_pred_lr=lr.predict(X_test_sm)"
   ]
  },
  {
   "cell_type": "code",
   "execution_count": 70,
   "metadata": {},
   "outputs": [
    {
     "data": {
      "text/plain": [
       "0.6838963755105323"
      ]
     },
     "execution_count": 70,
     "metadata": {},
     "output_type": "execute_result"
    }
   ],
   "source": [
    "r2_score(y_test,y_pred_lr)"
   ]
  },
  {
   "cell_type": "code",
   "execution_count": null,
   "metadata": {},
   "outputs": [],
   "source": []
  }
 ],
 "metadata": {
  "kernelspec": {
   "display_name": "Python 3",
   "language": "python",
   "name": "python3"
  },
  "language_info": {
   "codemirror_mode": {
    "name": "ipython",
    "version": 3
   },
   "file_extension": ".py",
   "mimetype": "text/x-python",
   "name": "python",
   "nbconvert_exporter": "python",
   "pygments_lexer": "ipython3",
   "version": "3.7.3"
  }
 },
 "nbformat": 4,
 "nbformat_minor": 2
}
