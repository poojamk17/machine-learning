{
 "cells": [
  {
   "cell_type": "code",
   "execution_count": 2,
   "metadata": {},
   "outputs": [],
   "source": [
    "import warnings\n",
    "warnings.filterwarnings('ignore')"
   ]
  },
  {
   "cell_type": "code",
   "execution_count": 3,
   "metadata": {},
   "outputs": [],
   "source": [
    "import pandas as pd\n",
    "import numpy as np\n",
    "import matplotlib.pyplot as plt\n",
    "import seaborn as sns\n",
    "%matplotlib inline"
   ]
  },
  {
   "cell_type": "code",
   "execution_count": 4,
   "metadata": {},
   "outputs": [
    {
     "data": {
      "text/html": [
       "<div>\n",
       "<style scoped>\n",
       "    .dataframe tbody tr th:only-of-type {\n",
       "        vertical-align: middle;\n",
       "    }\n",
       "\n",
       "    .dataframe tbody tr th {\n",
       "        vertical-align: top;\n",
       "    }\n",
       "\n",
       "    .dataframe thead th {\n",
       "        text-align: right;\n",
       "    }\n",
       "</style>\n",
       "<table border=\"1\" class=\"dataframe\">\n",
       "  <thead>\n",
       "    <tr style=\"text-align: right;\">\n",
       "      <th></th>\n",
       "      <th>Unnamed: 0</th>\n",
       "      <th>Private</th>\n",
       "      <th>Apps</th>\n",
       "      <th>Accept</th>\n",
       "      <th>Enroll</th>\n",
       "      <th>Top10perc</th>\n",
       "      <th>Top25perc</th>\n",
       "      <th>F.Undergrad</th>\n",
       "      <th>P.Undergrad</th>\n",
       "      <th>Outstate</th>\n",
       "      <th>Room.Board</th>\n",
       "      <th>Books</th>\n",
       "      <th>Personal</th>\n",
       "      <th>PhD</th>\n",
       "      <th>Terminal</th>\n",
       "      <th>S.F.Ratio</th>\n",
       "      <th>perc.alumni</th>\n",
       "      <th>Expend</th>\n",
       "      <th>Grad.Rate</th>\n",
       "    </tr>\n",
       "  </thead>\n",
       "  <tbody>\n",
       "    <tr>\n",
       "      <th>0</th>\n",
       "      <td>Abilene Christian University</td>\n",
       "      <td>Yes</td>\n",
       "      <td>1660</td>\n",
       "      <td>1232</td>\n",
       "      <td>721</td>\n",
       "      <td>23</td>\n",
       "      <td>52</td>\n",
       "      <td>2885</td>\n",
       "      <td>537</td>\n",
       "      <td>7440</td>\n",
       "      <td>3300</td>\n",
       "      <td>450</td>\n",
       "      <td>2200</td>\n",
       "      <td>70</td>\n",
       "      <td>78</td>\n",
       "      <td>18.1</td>\n",
       "      <td>12</td>\n",
       "      <td>7041</td>\n",
       "      <td>60</td>\n",
       "    </tr>\n",
       "    <tr>\n",
       "      <th>1</th>\n",
       "      <td>Adelphi University</td>\n",
       "      <td>Yes</td>\n",
       "      <td>2186</td>\n",
       "      <td>1924</td>\n",
       "      <td>512</td>\n",
       "      <td>16</td>\n",
       "      <td>29</td>\n",
       "      <td>2683</td>\n",
       "      <td>1227</td>\n",
       "      <td>12280</td>\n",
       "      <td>6450</td>\n",
       "      <td>750</td>\n",
       "      <td>1500</td>\n",
       "      <td>29</td>\n",
       "      <td>30</td>\n",
       "      <td>12.2</td>\n",
       "      <td>16</td>\n",
       "      <td>10527</td>\n",
       "      <td>56</td>\n",
       "    </tr>\n",
       "    <tr>\n",
       "      <th>2</th>\n",
       "      <td>Adrian College</td>\n",
       "      <td>Yes</td>\n",
       "      <td>1428</td>\n",
       "      <td>1097</td>\n",
       "      <td>336</td>\n",
       "      <td>22</td>\n",
       "      <td>50</td>\n",
       "      <td>1036</td>\n",
       "      <td>99</td>\n",
       "      <td>11250</td>\n",
       "      <td>3750</td>\n",
       "      <td>400</td>\n",
       "      <td>1165</td>\n",
       "      <td>53</td>\n",
       "      <td>66</td>\n",
       "      <td>12.9</td>\n",
       "      <td>30</td>\n",
       "      <td>8735</td>\n",
       "      <td>54</td>\n",
       "    </tr>\n",
       "    <tr>\n",
       "      <th>3</th>\n",
       "      <td>Agnes Scott College</td>\n",
       "      <td>Yes</td>\n",
       "      <td>417</td>\n",
       "      <td>349</td>\n",
       "      <td>137</td>\n",
       "      <td>60</td>\n",
       "      <td>89</td>\n",
       "      <td>510</td>\n",
       "      <td>63</td>\n",
       "      <td>12960</td>\n",
       "      <td>5450</td>\n",
       "      <td>450</td>\n",
       "      <td>875</td>\n",
       "      <td>92</td>\n",
       "      <td>97</td>\n",
       "      <td>7.7</td>\n",
       "      <td>37</td>\n",
       "      <td>19016</td>\n",
       "      <td>59</td>\n",
       "    </tr>\n",
       "    <tr>\n",
       "      <th>4</th>\n",
       "      <td>Alaska Pacific University</td>\n",
       "      <td>Yes</td>\n",
       "      <td>193</td>\n",
       "      <td>146</td>\n",
       "      <td>55</td>\n",
       "      <td>16</td>\n",
       "      <td>44</td>\n",
       "      <td>249</td>\n",
       "      <td>869</td>\n",
       "      <td>7560</td>\n",
       "      <td>4120</td>\n",
       "      <td>800</td>\n",
       "      <td>1500</td>\n",
       "      <td>76</td>\n",
       "      <td>72</td>\n",
       "      <td>11.9</td>\n",
       "      <td>2</td>\n",
       "      <td>10922</td>\n",
       "      <td>15</td>\n",
       "    </tr>\n",
       "  </tbody>\n",
       "</table>\n",
       "</div>"
      ],
      "text/plain": [
       "                     Unnamed: 0 Private  Apps  Accept  Enroll  Top10perc  \\\n",
       "0  Abilene Christian University     Yes  1660    1232     721         23   \n",
       "1            Adelphi University     Yes  2186    1924     512         16   \n",
       "2                Adrian College     Yes  1428    1097     336         22   \n",
       "3           Agnes Scott College     Yes   417     349     137         60   \n",
       "4     Alaska Pacific University     Yes   193     146      55         16   \n",
       "\n",
       "   Top25perc  F.Undergrad  P.Undergrad  Outstate  Room.Board  Books  Personal  \\\n",
       "0         52         2885          537      7440        3300    450      2200   \n",
       "1         29         2683         1227     12280        6450    750      1500   \n",
       "2         50         1036           99     11250        3750    400      1165   \n",
       "3         89          510           63     12960        5450    450       875   \n",
       "4         44          249          869      7560        4120    800      1500   \n",
       "\n",
       "   PhD  Terminal  S.F.Ratio  perc.alumni  Expend  Grad.Rate  \n",
       "0   70        78       18.1           12    7041         60  \n",
       "1   29        30       12.2           16   10527         56  \n",
       "2   53        66       12.9           30    8735         54  \n",
       "3   92        97        7.7           37   19016         59  \n",
       "4   76        72       11.9            2   10922         15  "
      ]
     },
     "execution_count": 4,
     "metadata": {},
     "output_type": "execute_result"
    }
   ],
   "source": [
    "df=pd.read_csv('College_Data')\n",
    "df.head()"
   ]
  },
  {
   "cell_type": "code",
   "execution_count": 5,
   "metadata": {},
   "outputs": [
    {
     "name": "stdout",
     "output_type": "stream",
     "text": [
      "<class 'pandas.core.frame.DataFrame'>\n",
      "RangeIndex: 777 entries, 0 to 776\n",
      "Data columns (total 19 columns):\n",
      "Unnamed: 0     777 non-null object\n",
      "Private        777 non-null object\n",
      "Apps           777 non-null int64\n",
      "Accept         777 non-null int64\n",
      "Enroll         777 non-null int64\n",
      "Top10perc      777 non-null int64\n",
      "Top25perc      777 non-null int64\n",
      "F.Undergrad    777 non-null int64\n",
      "P.Undergrad    777 non-null int64\n",
      "Outstate       777 non-null int64\n",
      "Room.Board     777 non-null int64\n",
      "Books          777 non-null int64\n",
      "Personal       777 non-null int64\n",
      "PhD            777 non-null int64\n",
      "Terminal       777 non-null int64\n",
      "S.F.Ratio      777 non-null float64\n",
      "perc.alumni    777 non-null int64\n",
      "Expend         777 non-null int64\n",
      "Grad.Rate      777 non-null int64\n",
      "dtypes: float64(1), int64(16), object(2)\n",
      "memory usage: 115.4+ KB\n"
     ]
    }
   ],
   "source": [
    "df.info()"
   ]
  },
  {
   "cell_type": "code",
   "execution_count": 6,
   "metadata": {},
   "outputs": [
    {
     "data": {
      "text/plain": [
       "(777, 19)"
      ]
     },
     "execution_count": 6,
     "metadata": {},
     "output_type": "execute_result"
    }
   ],
   "source": [
    "df.shape"
   ]
  },
  {
   "cell_type": "code",
   "execution_count": 7,
   "metadata": {},
   "outputs": [
    {
     "data": {
      "text/plain": [
       "Index(['Unnamed: 0', 'Private', 'Apps', 'Accept', 'Enroll', 'Top10perc',\n",
       "       'Top25perc', 'F.Undergrad', 'P.Undergrad', 'Outstate', 'Room.Board',\n",
       "       'Books', 'Personal', 'PhD', 'Terminal', 'S.F.Ratio', 'perc.alumni',\n",
       "       'Expend', 'Grad.Rate'],\n",
       "      dtype='object')"
      ]
     },
     "execution_count": 7,
     "metadata": {},
     "output_type": "execute_result"
    }
   ],
   "source": [
    "df.columns"
   ]
  },
  {
   "cell_type": "code",
   "execution_count": 8,
   "metadata": {},
   "outputs": [],
   "source": [
    "df.drop('Unnamed: 0',axis=1,inplace=True)"
   ]
  },
  {
   "cell_type": "code",
   "execution_count": 9,
   "metadata": {},
   "outputs": [],
   "source": [
    "from sklearn.preprocessing import LabelEncoder\n",
    "le=LabelEncoder()"
   ]
  },
  {
   "cell_type": "code",
   "execution_count": 10,
   "metadata": {},
   "outputs": [],
   "source": [
    "df['Private']=le.fit_transform(df['Private'])"
   ]
  },
  {
   "cell_type": "code",
   "execution_count": 11,
   "metadata": {},
   "outputs": [
    {
     "data": {
      "text/plain": [
       "Private       -1.021933\n",
       "Apps           3.723750\n",
       "Accept         3.417727\n",
       "Enroll         2.690465\n",
       "Top10perc      1.413217\n",
       "Top25perc      0.259340\n",
       "F.Undergrad    2.610458\n",
       "P.Undergrad    5.692353\n",
       "Outstate       0.509278\n",
       "Room.Board     0.477356\n",
       "Books          3.485025\n",
       "Personal       1.742497\n",
       "PhD           -0.768170\n",
       "Terminal      -0.816542\n",
       "S.F.Ratio      0.667435\n",
       "perc.alumni    0.606891\n",
       "Expend         3.459322\n",
       "Grad.Rate     -0.113777\n",
       "dtype: float64"
      ]
     },
     "execution_count": 11,
     "metadata": {},
     "output_type": "execute_result"
    }
   ],
   "source": [
    "df.skew()"
   ]
  },
  {
   "cell_type": "code",
   "execution_count": 12,
   "metadata": {},
   "outputs": [],
   "source": [
    "df1=df[(df['P.Undergrad']>(np.mean(df['P.Undergrad'])-(3*np.std(df['P.Undergrad'])))) & (df['P.Undergrad']<(np.mean(df['P.Undergrad'])+(2*np.std(df['P.Undergrad']))))]"
   ]
  },
  {
   "cell_type": "code",
   "execution_count": 13,
   "metadata": {},
   "outputs": [
    {
     "data": {
      "text/plain": [
       "Private       -1.169486\n",
       "Apps           4.206049\n",
       "Accept         3.684177\n",
       "Enroll         2.831939\n",
       "Top10perc      1.388992\n",
       "Top25perc      0.258061\n",
       "F.Undergrad    2.895801\n",
       "P.Undergrad    1.879201\n",
       "Outstate       0.478832\n",
       "Room.Board     0.459393\n",
       "Books          3.552296\n",
       "Personal       1.807812\n",
       "PhD           -0.733247\n",
       "Terminal      -0.777051\n",
       "S.F.Ratio      0.701031\n",
       "perc.alumni    0.577804\n",
       "Expend         3.457203\n",
       "Grad.Rate     -0.134054\n",
       "dtype: float64"
      ]
     },
     "execution_count": 13,
     "metadata": {},
     "output_type": "execute_result"
    }
   ],
   "source": [
    "df1.skew()"
   ]
  },
  {
   "cell_type": "code",
   "execution_count": 14,
   "metadata": {},
   "outputs": [],
   "source": [
    "df2=df1[(df1['Apps']>(np.mean(df1['Apps'])-(3*np.std(df1['Apps'])))) & (df1['Apps']<(np.mean(df1['Apps'])+(2.5*np.std(df1['Apps']))))]"
   ]
  },
  {
   "cell_type": "code",
   "execution_count": 15,
   "metadata": {},
   "outputs": [
    {
     "data": {
      "text/plain": [
       "Private       -1.270693\n",
       "Apps           1.727792\n",
       "Accept         1.892571\n",
       "Enroll         2.418213\n",
       "Top10perc      1.345818\n",
       "Top25perc      0.248889\n",
       "F.Undergrad    2.719645\n",
       "P.Undergrad    1.956941\n",
       "Outstate       0.472725\n",
       "Room.Board     0.454280\n",
       "Books          3.598825\n",
       "Personal       1.857428\n",
       "PhD           -0.711122\n",
       "Terminal      -0.748688\n",
       "S.F.Ratio      0.748470\n",
       "perc.alumni    0.555394\n",
       "Expend         3.760213\n",
       "Grad.Rate     -0.123364\n",
       "dtype: float64"
      ]
     },
     "execution_count": 15,
     "metadata": {},
     "output_type": "execute_result"
    }
   ],
   "source": [
    "df2.skew()"
   ]
  },
  {
   "cell_type": "code",
   "execution_count": 16,
   "metadata": {},
   "outputs": [],
   "source": [
    "df3=df2[(df2['Books']>(np.mean(df2['Books'])-(3*np.std(df2['Books'])))) & (df2['Books']<(np.mean(df2['Books'])+(2.5*np.std(df2['Books']))))]"
   ]
  },
  {
   "cell_type": "code",
   "execution_count": 17,
   "metadata": {},
   "outputs": [
    {
     "data": {
      "text/plain": [
       "Private       -1.245263\n",
       "Apps           1.744580\n",
       "Accept         1.901105\n",
       "Enroll         2.405602\n",
       "Top10perc      1.367793\n",
       "Top25perc      0.254120\n",
       "F.Undergrad    2.700256\n",
       "P.Undergrad    1.957886\n",
       "Outstate       0.471083\n",
       "Room.Board     0.467860\n",
       "Books          0.124728\n",
       "Personal       1.725731\n",
       "PhD           -0.598389\n",
       "Terminal      -0.742832\n",
       "S.F.Ratio      0.757809\n",
       "perc.alumni    0.547968\n",
       "Expend         3.805462\n",
       "Grad.Rate     -0.140007\n",
       "dtype: float64"
      ]
     },
     "execution_count": 17,
     "metadata": {},
     "output_type": "execute_result"
    }
   ],
   "source": [
    "df3.skew()"
   ]
  },
  {
   "cell_type": "code",
   "execution_count": 18,
   "metadata": {},
   "outputs": [],
   "source": [
    "df4=df3[(df3['Expend']>(np.mean(df3['Expend'])-(3*np.std(df3['Expend'])))) & (df3['Expend']<(np.mean(df3['Expend'])+(2.5*np.std(df3['Expend']))))]"
   ]
  },
  {
   "cell_type": "code",
   "execution_count": 19,
   "metadata": {},
   "outputs": [
    {
     "data": {
      "text/plain": [
       "Private       -1.212018\n",
       "Apps           1.846237\n",
       "Accept         1.982104\n",
       "Enroll         2.452992\n",
       "Top10perc      1.249141\n",
       "Top25perc      0.225280\n",
       "F.Undergrad    2.709962\n",
       "P.Undergrad    1.948516\n",
       "Outstate       0.472731\n",
       "Room.Board     0.485475\n",
       "Books          0.128270\n",
       "Personal       1.729230\n",
       "PhD           -0.608129\n",
       "Terminal      -0.736616\n",
       "S.F.Ratio      0.970973\n",
       "perc.alumni    0.580584\n",
       "Expend         1.251687\n",
       "Grad.Rate     -0.139725\n",
       "dtype: float64"
      ]
     },
     "execution_count": 19,
     "metadata": {},
     "output_type": "execute_result"
    }
   ],
   "source": [
    "df4.skew()"
   ]
  },
  {
   "cell_type": "code",
   "execution_count": 20,
   "metadata": {},
   "outputs": [],
   "source": [
    "df5=df4[(df4['F.Undergrad']>(np.mean(df4['F.Undergrad'])-(3*np.std(df4['F.Undergrad'])))) & (df4['F.Undergrad']<(np.mean(df4['F.Undergrad'])+(2.5*np.std(df4['F.Undergrad']))))]"
   ]
  },
  {
   "cell_type": "code",
   "execution_count": 21,
   "metadata": {},
   "outputs": [
    {
     "data": {
      "text/plain": [
       "Private       -1.440602\n",
       "Apps           1.932257\n",
       "Accept         1.875288\n",
       "Enroll         2.079617\n",
       "Top10perc      1.268473\n",
       "Top25perc      0.237381\n",
       "F.Undergrad    1.987701\n",
       "P.Undergrad    2.100721\n",
       "Outstate       0.429787\n",
       "Room.Board     0.446559\n",
       "Books          0.100046\n",
       "Personal       1.905905\n",
       "PhD           -0.551887\n",
       "Terminal      -0.683995\n",
       "S.F.Ratio      1.065150\n",
       "perc.alumni    0.537975\n",
       "Expend         1.226233\n",
       "Grad.Rate     -0.173193\n",
       "dtype: float64"
      ]
     },
     "execution_count": 21,
     "metadata": {},
     "output_type": "execute_result"
    }
   ],
   "source": [
    "df5.skew()"
   ]
  },
  {
   "cell_type": "code",
   "execution_count": 22,
   "metadata": {},
   "outputs": [],
   "source": [
    "df6=df5[(df5['P.Undergrad']>(np.mean(df5['P.Undergrad'])-(3*np.std(df5['P.Undergrad'])))) & (df5['P.Undergrad']<(np.mean(df5['P.Undergrad'])+(2.5*np.std(df5['P.Undergrad']))))]"
   ]
  },
  {
   "cell_type": "code",
   "execution_count": 23,
   "metadata": {},
   "outputs": [
    {
     "data": {
      "text/plain": [
       "Private       -1.577118\n",
       "Apps           2.013935\n",
       "Accept         1.878754\n",
       "Enroll         2.192394\n",
       "Top10perc      1.241716\n",
       "Top25perc      0.227952\n",
       "F.Undergrad    2.109124\n",
       "P.Undergrad    1.387400\n",
       "Outstate       0.412195\n",
       "Room.Board     0.441756\n",
       "Books          0.165684\n",
       "Personal       1.990865\n",
       "PhD           -0.541193\n",
       "Terminal      -0.670731\n",
       "S.F.Ratio      1.114891\n",
       "perc.alumni    0.507250\n",
       "Expend         1.236656\n",
       "Grad.Rate     -0.185086\n",
       "dtype: float64"
      ]
     },
     "execution_count": 23,
     "metadata": {},
     "output_type": "execute_result"
    }
   ],
   "source": [
    "df6.skew()"
   ]
  },
  {
   "cell_type": "code",
   "execution_count": 24,
   "metadata": {},
   "outputs": [],
   "source": [
    "from sklearn.preprocessing import StandardScaler\n",
    "sc=StandardScaler()"
   ]
  },
  {
   "cell_type": "code",
   "execution_count": 25,
   "metadata": {},
   "outputs": [],
   "source": [
    "df6_sc=sc.fit_transform(df6)"
   ]
  },
  {
   "cell_type": "code",
   "execution_count": 26,
   "metadata": {},
   "outputs": [],
   "source": [
    "df6_sc_df=pd.DataFrame(df6_sc,columns=df6.columns)"
   ]
  },
  {
   "cell_type": "code",
   "execution_count": 27,
   "metadata": {},
   "outputs": [],
   "source": [
    "X=df6_sc_df"
   ]
  },
  {
   "cell_type": "code",
   "execution_count": 28,
   "metadata": {},
   "outputs": [
    {
     "data": {
      "text/plain": [
       "[11412.0,\n",
       " 9019.964177774735,\n",
       " 7156.809837249709,\n",
       " 6573.471222602451,\n",
       " 6112.63519139643,\n",
       " 5768.091558098244,\n",
       " 5525.148838622175,\n",
       " 5338.157403794386,\n",
       " 5210.036191569611,\n",
       " 5058.003852330499,\n",
       " 4944.810247834746,\n",
       " 4834.045898705268,\n",
       " 4758.925578071503,\n",
       " 4664.387835940397]"
      ]
     },
     "execution_count": 28,
     "metadata": {},
     "output_type": "execute_result"
    }
   ],
   "source": [
    "from sklearn.cluster import KMeans\n",
    "cluster_id=[]\n",
    "K=list(range(1,15))\n",
    "for i in K:\n",
    "    km=KMeans(i).fit(X)\n",
    "    y_km_df_pred=km.fit_predict(X)\n",
    "    cluster_id.append(km.inertia_)\n",
    "cluster_id"
   ]
  },
  {
   "cell_type": "code",
   "execution_count": 29,
   "metadata": {},
   "outputs": [
    {
     "data": {
      "text/plain": [
       "[<matplotlib.lines.Line2D at 0x9697c58c18>]"
      ]
     },
     "execution_count": 29,
     "metadata": {},
     "output_type": "execute_result"
    },
    {
     "data": {
      "image/png": "[encoded data removed]",
      "text/plain": [
       "<Figure size 432x288 with 1 Axes>"
      ]
     },
     "metadata": {
      "needs_background": "light"
     },
     "output_type": "display_data"
    }
   ],
   "source": [
    "plt.plot(K,cluster_id)"
   ]
  },
  {
   "cell_type": "code",
   "execution_count": 30,
   "metadata": {},
   "outputs": [
    {
     "data": {
      "text/plain": [
       "array([0, 0, 0, 1, 0, 0, 1, 1, 1, 0, 1, 1, 0, 1, 0, 0, 1, 0, 0, 2, 2, 0,\n",
       "       1, 2, 1, 0, 1, 0, 1, 0, 0, 0, 1, 1, 2, 1, 0, 0, 0, 1, 0, 0, 0, 1,\n",
       "       0, 0, 0, 0, 0, 1, 0, 2, 0, 0, 0, 1, 0, 0, 0, 0, 1, 1, 0, 1, 0, 0,\n",
       "       0, 1, 0, 0, 1, 1, 0, 1, 0, 0, 0, 1, 0, 0, 1, 0, 1, 0, 0, 1, 1, 2,\n",
       "       2, 0, 1, 1, 1, 0, 1, 0, 2, 0, 1, 1, 0, 1, 0, 1, 0, 1, 1, 0, 2, 0,\n",
       "       1, 0, 0, 1, 0, 0, 0, 0, 0, 0, 1, 1, 1, 1, 0, 0, 0, 0, 0, 1, 1, 1,\n",
       "       0, 0, 0, 0, 0, 1, 0, 0, 1, 1, 1, 0, 0, 0, 0, 0, 1, 1, 1, 1, 0, 0,\n",
       "       2, 2, 0, 0, 1, 1, 1, 0, 0, 2, 1, 2, 1, 0, 0, 1, 0, 0, 0, 1, 0, 0,\n",
       "       2, 2, 2, 0, 0, 0, 0, 0, 1, 0, 0, 0, 0, 2, 0, 1, 2, 0, 1, 0, 1, 0,\n",
       "       0, 1, 0, 0, 0, 0, 1, 0, 1, 1, 0, 1, 1, 1, 2, 1, 0, 0, 1, 1, 0, 1,\n",
       "       1, 1, 1, 1, 1, 1, 1, 0, 0, 0, 0, 0, 0, 1, 1, 0, 0, 2, 0, 2, 2, 2,\n",
       "       0, 2, 0, 1, 0, 0, 1, 0, 2, 0, 1, 0, 0, 0, 1, 0, 2, 1, 0, 1, 0, 0,\n",
       "       0, 1, 1, 1, 1, 0, 0, 0, 1, 0, 0, 0, 1, 0, 0, 2, 0, 0, 2, 1, 1, 1,\n",
       "       1, 0, 0, 0, 1, 0, 0, 0, 1, 1, 2, 0, 1, 2, 2, 1, 2, 1, 0, 0, 1, 0,\n",
       "       0, 0, 0, 0, 0, 1, 0, 0, 0, 2, 1, 2, 2, 0, 0, 1, 0, 2, 0, 0, 1, 0,\n",
       "       0, 2, 0, 2, 1, 1, 0, 0, 1, 0, 0, 0, 0, 1, 0, 1, 1, 0, 1, 2, 1, 0,\n",
       "       1, 2, 0, 0, 1, 0, 2, 0, 1, 2, 0, 2, 2, 0, 0, 0, 0, 1, 1, 1, 1, 1,\n",
       "       0, 0, 0, 0, 0, 1, 0, 1, 0, 1, 0, 0, 0, 0, 0, 0, 1, 0, 0, 1, 2, 1,\n",
       "       2, 0, 0, 2, 2, 1, 1, 1, 1, 1, 2, 1, 0, 1, 0, 0, 0, 1, 1, 2, 2, 0,\n",
       "       0, 1, 0, 0, 1, 0, 1, 1, 2, 1, 0, 0, 1, 1, 0, 0, 1, 0, 1, 2, 0, 1,\n",
       "       1, 0, 1, 1, 1, 2, 0, 2, 0, 1, 0, 1, 0, 0, 1, 1, 2, 2, 0, 0, 1, 0,\n",
       "       0, 0, 0, 1, 0, 1, 0, 1, 1, 1, 1, 0, 1, 1, 0, 1, 0, 0, 0, 1, 1, 2,\n",
       "       1, 2, 2, 2, 2, 2, 2, 2, 2, 2, 1, 1, 2, 0, 1, 0, 0, 2, 0, 0, 0, 0,\n",
       "       0, 1, 2, 0, 1, 1, 0, 1, 1, 0, 0, 0, 1, 2, 2, 0, 2, 1, 2, 1, 0, 1,\n",
       "       2, 0, 0, 0, 0, 0, 2, 2, 2, 0, 2, 2, 0, 0, 0, 2, 0, 2, 2, 2, 2, 2,\n",
       "       1, 1, 1, 1, 1, 1, 0, 1, 0, 2, 2, 1, 0, 1, 1, 2, 2, 0, 2, 2, 2, 0,\n",
       "       1, 0, 0, 1, 1, 2, 0, 0, 0, 0, 0, 1, 0, 0, 0, 1, 1, 1, 1, 0, 0, 0,\n",
       "       0, 1, 1, 0, 0, 2, 0, 0, 2, 1, 0, 2, 2, 2, 0, 1, 0, 1, 1, 0, 1, 1,\n",
       "       1, 0, 1, 0, 0, 1, 0, 0, 2, 2, 0, 1, 1, 1, 2, 1, 0, 2])"
      ]
     },
     "execution_count": 30,
     "metadata": {},
     "output_type": "execute_result"
    }
   ],
   "source": [
    "### fitting K-MEAN to the dataset\n",
    "kmeans=KMeans(n_clusters=3,init='k-means++',random_state=42)\n",
    "y_kmeans=kmeans.fit_predict(X)\n",
    "y_kmeans"
   ]
  },
  {
   "cell_type": "code",
   "execution_count": 31,
   "metadata": {},
   "outputs": [
    {
     "data": {
      "image/png": "[encoded data removed]",
      "text/plain": [
       "<Figure size 432x288 with 1 Axes>"
      ]
     },
     "metadata": {
      "needs_background": "light"
     },
     "output_type": "display_data"
    }
   ],
   "source": [
    "plt.scatter(df6_sc[y_kmeans==0,5],df6_sc[y_kmeans==0,8],s=50,c='red',label='cluster1')\n",
    "plt.scatter(df6_sc[y_kmeans==1,2],df6_sc[y_kmeans==1,6],s=50,c='blue',label='cluster2')\n",
    "plt.scatter(df6_sc[y_kmeans==2,6],df6_sc[y_kmeans==2,8],s=50,c='green',label='cluster3')\n",
    "plt.scatter(kmeans.cluster_centers_[:,0],kmeans.cluster_centers_[:,1],s=100,c='yellow',label='centroid')\n",
    "plt.title('clusters of college')\n",
    "plt.legend()\n",
    "plt.show()"
   ]
  },
  {
   "cell_type": "code",
   "execution_count": null,
   "metadata": {},
   "outputs": [],
   "source": []
  }
 ],
 "metadata": {
  "kernelspec": {
   "display_name": "Python 3",
   "language": "python",
   "name": "python3"
  },
  "language_info": {
   "codemirror_mode": {
    "name": "ipython",
    "version": 3
   },
   "file_extension": ".py",
   "mimetype": "text/x-python",
   "name": "python",
   "nbconvert_exporter": "python",
   "pygments_lexer": "ipython3",
   "version": "3.7.3"
  }
 },
 "nbformat": 4,
 "nbformat_minor": 2
}
