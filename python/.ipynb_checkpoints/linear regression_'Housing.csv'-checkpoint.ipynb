{
 "cells": [
  {
   "cell_type": "code",
   "execution_count": 1,
   "metadata": {},
   "outputs": [],
   "source": [
    "import warnings\n",
    "warnings.filterwarnings('ignore')\n",
    "\n",
    "import numpy as np\n",
    "import pandas as pd \n",
    "import seaborn as sns\n",
    "import matplotlib.pyplot as plt\n",
    "%matplotlib inline"
   ]
  },
  {
   "cell_type": "code",
   "execution_count": 2,
   "metadata": {},
   "outputs": [
    {
     "data": {
      "text/html": [
       "<div>\n",
       "<style scoped>\n",
       "    .dataframe tbody tr th:only-of-type {\n",
       "        vertical-align: middle;\n",
       "    }\n",
       "\n",
       "    .dataframe tbody tr th {\n",
       "        vertical-align: top;\n",
       "    }\n",
       "\n",
       "    .dataframe thead th {\n",
       "        text-align: right;\n",
       "    }\n",
       "</style>\n",
       "<table border=\"1\" class=\"dataframe\">\n",
       "  <thead>\n",
       "    <tr style=\"text-align: right;\">\n",
       "      <th></th>\n",
       "      <th>price</th>\n",
       "      <th>area</th>\n",
       "      <th>bedrooms</th>\n",
       "      <th>bathrooms</th>\n",
       "      <th>stories</th>\n",
       "      <th>mainroad</th>\n",
       "      <th>guestroom</th>\n",
       "      <th>basement</th>\n",
       "      <th>hotwaterheating</th>\n",
       "      <th>airconditioning</th>\n",
       "      <th>parking</th>\n",
       "      <th>prefarea</th>\n",
       "      <th>furnishingstatus</th>\n",
       "    </tr>\n",
       "  </thead>\n",
       "  <tbody>\n",
       "    <tr>\n",
       "      <th>0</th>\n",
       "      <td>13300000</td>\n",
       "      <td>7420</td>\n",
       "      <td>4</td>\n",
       "      <td>2</td>\n",
       "      <td>3</td>\n",
       "      <td>yes</td>\n",
       "      <td>no</td>\n",
       "      <td>no</td>\n",
       "      <td>no</td>\n",
       "      <td>yes</td>\n",
       "      <td>2</td>\n",
       "      <td>yes</td>\n",
       "      <td>furnished</td>\n",
       "    </tr>\n",
       "    <tr>\n",
       "      <th>1</th>\n",
       "      <td>12250000</td>\n",
       "      <td>8960</td>\n",
       "      <td>4</td>\n",
       "      <td>4</td>\n",
       "      <td>4</td>\n",
       "      <td>yes</td>\n",
       "      <td>no</td>\n",
       "      <td>no</td>\n",
       "      <td>no</td>\n",
       "      <td>yes</td>\n",
       "      <td>3</td>\n",
       "      <td>no</td>\n",
       "      <td>furnished</td>\n",
       "    </tr>\n",
       "    <tr>\n",
       "      <th>2</th>\n",
       "      <td>12250000</td>\n",
       "      <td>9960</td>\n",
       "      <td>3</td>\n",
       "      <td>2</td>\n",
       "      <td>2</td>\n",
       "      <td>yes</td>\n",
       "      <td>no</td>\n",
       "      <td>yes</td>\n",
       "      <td>no</td>\n",
       "      <td>no</td>\n",
       "      <td>2</td>\n",
       "      <td>yes</td>\n",
       "      <td>semi-furnished</td>\n",
       "    </tr>\n",
       "    <tr>\n",
       "      <th>3</th>\n",
       "      <td>12215000</td>\n",
       "      <td>7500</td>\n",
       "      <td>4</td>\n",
       "      <td>2</td>\n",
       "      <td>2</td>\n",
       "      <td>yes</td>\n",
       "      <td>no</td>\n",
       "      <td>yes</td>\n",
       "      <td>no</td>\n",
       "      <td>yes</td>\n",
       "      <td>3</td>\n",
       "      <td>yes</td>\n",
       "      <td>furnished</td>\n",
       "    </tr>\n",
       "    <tr>\n",
       "      <th>4</th>\n",
       "      <td>11410000</td>\n",
       "      <td>7420</td>\n",
       "      <td>4</td>\n",
       "      <td>1</td>\n",
       "      <td>2</td>\n",
       "      <td>yes</td>\n",
       "      <td>yes</td>\n",
       "      <td>yes</td>\n",
       "      <td>no</td>\n",
       "      <td>yes</td>\n",
       "      <td>2</td>\n",
       "      <td>no</td>\n",
       "      <td>furnished</td>\n",
       "    </tr>\n",
       "  </tbody>\n",
       "</table>\n",
       "</div>"
      ],
      "text/plain": [
       "      price  area  bedrooms  bathrooms  stories mainroad guestroom basement  \\\n",
       "0  13300000  7420         4          2        3      yes        no       no   \n",
       "1  12250000  8960         4          4        4      yes        no       no   \n",
       "2  12250000  9960         3          2        2      yes        no      yes   \n",
       "3  12215000  7500         4          2        2      yes        no      yes   \n",
       "4  11410000  7420         4          1        2      yes       yes      yes   \n",
       "\n",
       "  hotwaterheating airconditioning  parking prefarea furnishingstatus  \n",
       "0              no             yes        2      yes        furnished  \n",
       "1              no             yes        3       no        furnished  \n",
       "2              no              no        2      yes   semi-furnished  \n",
       "3              no             yes        3      yes        furnished  \n",
       "4              no             yes        2       no        furnished  "
      ]
     },
     "execution_count": 2,
     "metadata": {},
     "output_type": "execute_result"
    }
   ],
   "source": [
    "df=pd.read_csv('Housing.csv')\n",
    "df.head()"
   ]
  },
  {
   "cell_type": "code",
   "execution_count": 3,
   "metadata": {},
   "outputs": [
    {
     "name": "stdout",
     "output_type": "stream",
     "text": [
      "<class 'pandas.core.frame.DataFrame'>\n",
      "RangeIndex: 545 entries, 0 to 544\n",
      "Data columns (total 13 columns):\n",
      "price               545 non-null int64\n",
      "area                545 non-null int64\n",
      "bedrooms            545 non-null int64\n",
      "bathrooms           545 non-null int64\n",
      "stories             545 non-null int64\n",
      "mainroad            545 non-null object\n",
      "guestroom           545 non-null object\n",
      "basement            545 non-null object\n",
      "hotwaterheating     545 non-null object\n",
      "airconditioning     545 non-null object\n",
      "parking             545 non-null int64\n",
      "prefarea            545 non-null object\n",
      "furnishingstatus    545 non-null object\n",
      "dtypes: int64(6), object(7)\n",
      "memory usage: 55.4+ KB\n"
     ]
    }
   ],
   "source": [
    "df.info()"
   ]
  },
  {
   "cell_type": "code",
   "execution_count": 4,
   "metadata": {},
   "outputs": [
    {
     "data": {
      "text/plain": [
       "(545, 13)"
      ]
     },
     "execution_count": 4,
     "metadata": {},
     "output_type": "execute_result"
    }
   ],
   "source": [
    "df.shape"
   ]
  },
  {
   "cell_type": "code",
   "execution_count": 5,
   "metadata": {},
   "outputs": [
    {
     "data": {
      "text/html": [
       "<div>\n",
       "<style scoped>\n",
       "    .dataframe tbody tr th:only-of-type {\n",
       "        vertical-align: middle;\n",
       "    }\n",
       "\n",
       "    .dataframe tbody tr th {\n",
       "        vertical-align: top;\n",
       "    }\n",
       "\n",
       "    .dataframe thead th {\n",
       "        text-align: right;\n",
       "    }\n",
       "</style>\n",
       "<table border=\"1\" class=\"dataframe\">\n",
       "  <thead>\n",
       "    <tr style=\"text-align: right;\">\n",
       "      <th></th>\n",
       "      <th>price</th>\n",
       "      <th>area</th>\n",
       "      <th>bedrooms</th>\n",
       "      <th>bathrooms</th>\n",
       "      <th>stories</th>\n",
       "      <th>parking</th>\n",
       "    </tr>\n",
       "  </thead>\n",
       "  <tbody>\n",
       "    <tr>\n",
       "      <th>count</th>\n",
       "      <td>5.450000e+02</td>\n",
       "      <td>545.000000</td>\n",
       "      <td>545.000000</td>\n",
       "      <td>545.000000</td>\n",
       "      <td>545.000000</td>\n",
       "      <td>545.000000</td>\n",
       "    </tr>\n",
       "    <tr>\n",
       "      <th>mean</th>\n",
       "      <td>4.766729e+06</td>\n",
       "      <td>5150.541284</td>\n",
       "      <td>2.965138</td>\n",
       "      <td>1.286239</td>\n",
       "      <td>1.805505</td>\n",
       "      <td>0.693578</td>\n",
       "    </tr>\n",
       "    <tr>\n",
       "      <th>std</th>\n",
       "      <td>1.870440e+06</td>\n",
       "      <td>2170.141023</td>\n",
       "      <td>0.738064</td>\n",
       "      <td>0.502470</td>\n",
       "      <td>0.867492</td>\n",
       "      <td>0.861586</td>\n",
       "    </tr>\n",
       "    <tr>\n",
       "      <th>min</th>\n",
       "      <td>1.750000e+06</td>\n",
       "      <td>1650.000000</td>\n",
       "      <td>1.000000</td>\n",
       "      <td>1.000000</td>\n",
       "      <td>1.000000</td>\n",
       "      <td>0.000000</td>\n",
       "    </tr>\n",
       "    <tr>\n",
       "      <th>25%</th>\n",
       "      <td>3.430000e+06</td>\n",
       "      <td>3600.000000</td>\n",
       "      <td>2.000000</td>\n",
       "      <td>1.000000</td>\n",
       "      <td>1.000000</td>\n",
       "      <td>0.000000</td>\n",
       "    </tr>\n",
       "    <tr>\n",
       "      <th>50%</th>\n",
       "      <td>4.340000e+06</td>\n",
       "      <td>4600.000000</td>\n",
       "      <td>3.000000</td>\n",
       "      <td>1.000000</td>\n",
       "      <td>2.000000</td>\n",
       "      <td>0.000000</td>\n",
       "    </tr>\n",
       "    <tr>\n",
       "      <th>75%</th>\n",
       "      <td>5.740000e+06</td>\n",
       "      <td>6360.000000</td>\n",
       "      <td>3.000000</td>\n",
       "      <td>2.000000</td>\n",
       "      <td>2.000000</td>\n",
       "      <td>1.000000</td>\n",
       "    </tr>\n",
       "    <tr>\n",
       "      <th>max</th>\n",
       "      <td>1.330000e+07</td>\n",
       "      <td>16200.000000</td>\n",
       "      <td>6.000000</td>\n",
       "      <td>4.000000</td>\n",
       "      <td>4.000000</td>\n",
       "      <td>3.000000</td>\n",
       "    </tr>\n",
       "  </tbody>\n",
       "</table>\n",
       "</div>"
      ],
      "text/plain": [
       "              price          area    bedrooms   bathrooms     stories  \\\n",
       "count  5.450000e+02    545.000000  545.000000  545.000000  545.000000   \n",
       "mean   4.766729e+06   5150.541284    2.965138    1.286239    1.805505   \n",
       "std    1.870440e+06   2170.141023    0.738064    0.502470    0.867492   \n",
       "min    1.750000e+06   1650.000000    1.000000    1.000000    1.000000   \n",
       "25%    3.430000e+06   3600.000000    2.000000    1.000000    1.000000   \n",
       "50%    4.340000e+06   4600.000000    3.000000    1.000000    2.000000   \n",
       "75%    5.740000e+06   6360.000000    3.000000    2.000000    2.000000   \n",
       "max    1.330000e+07  16200.000000    6.000000    4.000000    4.000000   \n",
       "\n",
       "          parking  \n",
       "count  545.000000  \n",
       "mean     0.693578  \n",
       "std      0.861586  \n",
       "min      0.000000  \n",
       "25%      0.000000  \n",
       "50%      0.000000  \n",
       "75%      1.000000  \n",
       "max      3.000000  "
      ]
     },
     "execution_count": 5,
     "metadata": {},
     "output_type": "execute_result"
    }
   ],
   "source": [
    "df.describe()"
   ]
  },
  {
   "cell_type": "code",
   "execution_count": 6,
   "metadata": {},
   "outputs": [
    {
     "data": {
      "text/plain": [
       "price               0\n",
       "area                0\n",
       "bedrooms            0\n",
       "bathrooms           0\n",
       "stories             0\n",
       "mainroad            0\n",
       "guestroom           0\n",
       "basement            0\n",
       "hotwaterheating     0\n",
       "airconditioning     0\n",
       "parking             0\n",
       "prefarea            0\n",
       "furnishingstatus    0\n",
       "dtype: int64"
      ]
     },
     "execution_count": 6,
     "metadata": {},
     "output_type": "execute_result"
    }
   ],
   "source": [
    "df.isnull().sum()"
   ]
  },
  {
   "cell_type": "code",
   "execution_count": 7,
   "metadata": {},
   "outputs": [],
   "source": [
    "from sklearn.preprocessing import LabelEncoder\n",
    "le=LabelEncoder()"
   ]
  },
  {
   "cell_type": "code",
   "execution_count": 8,
   "metadata": {},
   "outputs": [],
   "source": [
    "df['mainroad']=le.fit_transform(df['mainroad'])\n",
    "df['guestroom']=le.fit_transform(df['guestroom'])\n",
    "df['basement']=le.fit_transform(df['basement'])\n",
    "df['hotwaterheating']=le.fit_transform(df['hotwaterheating'])\n",
    "df['airconditioning']=le.fit_transform(df['airconditioning'])\n",
    "df['prefarea']=le.fit_transform(df['prefarea'])"
   ]
  },
  {
   "cell_type": "code",
   "execution_count": 9,
   "metadata": {},
   "outputs": [
    {
     "data": {
      "text/html": [
       "<div>\n",
       "<style scoped>\n",
       "    .dataframe tbody tr th:only-of-type {\n",
       "        vertical-align: middle;\n",
       "    }\n",
       "\n",
       "    .dataframe tbody tr th {\n",
       "        vertical-align: top;\n",
       "    }\n",
       "\n",
       "    .dataframe thead th {\n",
       "        text-align: right;\n",
       "    }\n",
       "</style>\n",
       "<table border=\"1\" class=\"dataframe\">\n",
       "  <thead>\n",
       "    <tr style=\"text-align: right;\">\n",
       "      <th></th>\n",
       "      <th>price</th>\n",
       "      <th>area</th>\n",
       "      <th>bedrooms</th>\n",
       "      <th>bathrooms</th>\n",
       "      <th>stories</th>\n",
       "      <th>mainroad</th>\n",
       "      <th>guestroom</th>\n",
       "      <th>basement</th>\n",
       "      <th>hotwaterheating</th>\n",
       "      <th>airconditioning</th>\n",
       "      <th>parking</th>\n",
       "      <th>prefarea</th>\n",
       "      <th>furnishingstatus</th>\n",
       "    </tr>\n",
       "  </thead>\n",
       "  <tbody>\n",
       "    <tr>\n",
       "      <th>0</th>\n",
       "      <td>13300000</td>\n",
       "      <td>7420</td>\n",
       "      <td>4</td>\n",
       "      <td>2</td>\n",
       "      <td>3</td>\n",
       "      <td>1</td>\n",
       "      <td>0</td>\n",
       "      <td>0</td>\n",
       "      <td>0</td>\n",
       "      <td>1</td>\n",
       "      <td>2</td>\n",
       "      <td>1</td>\n",
       "      <td>furnished</td>\n",
       "    </tr>\n",
       "    <tr>\n",
       "      <th>1</th>\n",
       "      <td>12250000</td>\n",
       "      <td>8960</td>\n",
       "      <td>4</td>\n",
       "      <td>4</td>\n",
       "      <td>4</td>\n",
       "      <td>1</td>\n",
       "      <td>0</td>\n",
       "      <td>0</td>\n",
       "      <td>0</td>\n",
       "      <td>1</td>\n",
       "      <td>3</td>\n",
       "      <td>0</td>\n",
       "      <td>furnished</td>\n",
       "    </tr>\n",
       "    <tr>\n",
       "      <th>2</th>\n",
       "      <td>12250000</td>\n",
       "      <td>9960</td>\n",
       "      <td>3</td>\n",
       "      <td>2</td>\n",
       "      <td>2</td>\n",
       "      <td>1</td>\n",
       "      <td>0</td>\n",
       "      <td>1</td>\n",
       "      <td>0</td>\n",
       "      <td>0</td>\n",
       "      <td>2</td>\n",
       "      <td>1</td>\n",
       "      <td>semi-furnished</td>\n",
       "    </tr>\n",
       "    <tr>\n",
       "      <th>3</th>\n",
       "      <td>12215000</td>\n",
       "      <td>7500</td>\n",
       "      <td>4</td>\n",
       "      <td>2</td>\n",
       "      <td>2</td>\n",
       "      <td>1</td>\n",
       "      <td>0</td>\n",
       "      <td>1</td>\n",
       "      <td>0</td>\n",
       "      <td>1</td>\n",
       "      <td>3</td>\n",
       "      <td>1</td>\n",
       "      <td>furnished</td>\n",
       "    </tr>\n",
       "    <tr>\n",
       "      <th>4</th>\n",
       "      <td>11410000</td>\n",
       "      <td>7420</td>\n",
       "      <td>4</td>\n",
       "      <td>1</td>\n",
       "      <td>2</td>\n",
       "      <td>1</td>\n",
       "      <td>1</td>\n",
       "      <td>1</td>\n",
       "      <td>0</td>\n",
       "      <td>1</td>\n",
       "      <td>2</td>\n",
       "      <td>0</td>\n",
       "      <td>furnished</td>\n",
       "    </tr>\n",
       "  </tbody>\n",
       "</table>\n",
       "</div>"
      ],
      "text/plain": [
       "      price  area  bedrooms  bathrooms  stories  mainroad  guestroom  \\\n",
       "0  13300000  7420         4          2        3         1          0   \n",
       "1  12250000  8960         4          4        4         1          0   \n",
       "2  12250000  9960         3          2        2         1          0   \n",
       "3  12215000  7500         4          2        2         1          0   \n",
       "4  11410000  7420         4          1        2         1          1   \n",
       "\n",
       "   basement  hotwaterheating  airconditioning  parking  prefarea  \\\n",
       "0         0                0                1        2         1   \n",
       "1         0                0                1        3         0   \n",
       "2         1                0                0        2         1   \n",
       "3         1                0                1        3         1   \n",
       "4         1                0                1        2         0   \n",
       "\n",
       "  furnishingstatus  \n",
       "0        furnished  \n",
       "1        furnished  \n",
       "2   semi-furnished  \n",
       "3        furnished  \n",
       "4        furnished  "
      ]
     },
     "execution_count": 9,
     "metadata": {},
     "output_type": "execute_result"
    }
   ],
   "source": [
    "df.head()"
   ]
  },
  {
   "cell_type": "code",
   "execution_count": 10,
   "metadata": {},
   "outputs": [],
   "source": [
    "status=pd.get_dummies(df['furnishingstatus'],drop_first=True)\n",
    "df=pd.concat([df,status],axis=1)\n",
    "df.drop('furnishingstatus',axis=1,inplace=True)"
   ]
  },
  {
   "cell_type": "code",
   "execution_count": 11,
   "metadata": {},
   "outputs": [
    {
     "data": {
      "text/html": [
       "<div>\n",
       "<style scoped>\n",
       "    .dataframe tbody tr th:only-of-type {\n",
       "        vertical-align: middle;\n",
       "    }\n",
       "\n",
       "    .dataframe tbody tr th {\n",
       "        vertical-align: top;\n",
       "    }\n",
       "\n",
       "    .dataframe thead th {\n",
       "        text-align: right;\n",
       "    }\n",
       "</style>\n",
       "<table border=\"1\" class=\"dataframe\">\n",
       "  <thead>\n",
       "    <tr style=\"text-align: right;\">\n",
       "      <th></th>\n",
       "      <th>price</th>\n",
       "      <th>area</th>\n",
       "      <th>bedrooms</th>\n",
       "      <th>bathrooms</th>\n",
       "      <th>stories</th>\n",
       "      <th>mainroad</th>\n",
       "      <th>guestroom</th>\n",
       "      <th>basement</th>\n",
       "      <th>hotwaterheating</th>\n",
       "      <th>airconditioning</th>\n",
       "      <th>parking</th>\n",
       "      <th>prefarea</th>\n",
       "      <th>semi-furnished</th>\n",
       "      <th>unfurnished</th>\n",
       "    </tr>\n",
       "  </thead>\n",
       "  <tbody>\n",
       "    <tr>\n",
       "      <th>0</th>\n",
       "      <td>13300000</td>\n",
       "      <td>7420</td>\n",
       "      <td>4</td>\n",
       "      <td>2</td>\n",
       "      <td>3</td>\n",
       "      <td>1</td>\n",
       "      <td>0</td>\n",
       "      <td>0</td>\n",
       "      <td>0</td>\n",
       "      <td>1</td>\n",
       "      <td>2</td>\n",
       "      <td>1</td>\n",
       "      <td>0</td>\n",
       "      <td>0</td>\n",
       "    </tr>\n",
       "    <tr>\n",
       "      <th>1</th>\n",
       "      <td>12250000</td>\n",
       "      <td>8960</td>\n",
       "      <td>4</td>\n",
       "      <td>4</td>\n",
       "      <td>4</td>\n",
       "      <td>1</td>\n",
       "      <td>0</td>\n",
       "      <td>0</td>\n",
       "      <td>0</td>\n",
       "      <td>1</td>\n",
       "      <td>3</td>\n",
       "      <td>0</td>\n",
       "      <td>0</td>\n",
       "      <td>0</td>\n",
       "    </tr>\n",
       "    <tr>\n",
       "      <th>2</th>\n",
       "      <td>12250000</td>\n",
       "      <td>9960</td>\n",
       "      <td>3</td>\n",
       "      <td>2</td>\n",
       "      <td>2</td>\n",
       "      <td>1</td>\n",
       "      <td>0</td>\n",
       "      <td>1</td>\n",
       "      <td>0</td>\n",
       "      <td>0</td>\n",
       "      <td>2</td>\n",
       "      <td>1</td>\n",
       "      <td>1</td>\n",
       "      <td>0</td>\n",
       "    </tr>\n",
       "    <tr>\n",
       "      <th>3</th>\n",
       "      <td>12215000</td>\n",
       "      <td>7500</td>\n",
       "      <td>4</td>\n",
       "      <td>2</td>\n",
       "      <td>2</td>\n",
       "      <td>1</td>\n",
       "      <td>0</td>\n",
       "      <td>1</td>\n",
       "      <td>0</td>\n",
       "      <td>1</td>\n",
       "      <td>3</td>\n",
       "      <td>1</td>\n",
       "      <td>0</td>\n",
       "      <td>0</td>\n",
       "    </tr>\n",
       "    <tr>\n",
       "      <th>4</th>\n",
       "      <td>11410000</td>\n",
       "      <td>7420</td>\n",
       "      <td>4</td>\n",
       "      <td>1</td>\n",
       "      <td>2</td>\n",
       "      <td>1</td>\n",
       "      <td>1</td>\n",
       "      <td>1</td>\n",
       "      <td>0</td>\n",
       "      <td>1</td>\n",
       "      <td>2</td>\n",
       "      <td>0</td>\n",
       "      <td>0</td>\n",
       "      <td>0</td>\n",
       "    </tr>\n",
       "  </tbody>\n",
       "</table>\n",
       "</div>"
      ],
      "text/plain": [
       "      price  area  bedrooms  bathrooms  stories  mainroad  guestroom  \\\n",
       "0  13300000  7420         4          2        3         1          0   \n",
       "1  12250000  8960         4          4        4         1          0   \n",
       "2  12250000  9960         3          2        2         1          0   \n",
       "3  12215000  7500         4          2        2         1          0   \n",
       "4  11410000  7420         4          1        2         1          1   \n",
       "\n",
       "   basement  hotwaterheating  airconditioning  parking  prefarea  \\\n",
       "0         0                0                1        2         1   \n",
       "1         0                0                1        3         0   \n",
       "2         1                0                0        2         1   \n",
       "3         1                0                1        3         1   \n",
       "4         1                0                1        2         0   \n",
       "\n",
       "   semi-furnished  unfurnished  \n",
       "0               0            0  \n",
       "1               0            0  \n",
       "2               1            0  \n",
       "3               0            0  \n",
       "4               0            0  "
      ]
     },
     "execution_count": 11,
     "metadata": {},
     "output_type": "execute_result"
    }
   ],
   "source": [
    "df.head()"
   ]
  },
  {
   "cell_type": "code",
   "execution_count": 12,
   "metadata": {},
   "outputs": [
    {
     "data": {
      "text/plain": [
       "<matplotlib.axes._subplots.AxesSubplot at 0xa2180960f0>"
      ]
     },
     "execution_count": 12,
     "metadata": {},
     "output_type": "execute_result"
    },
    {
     "data": {
      "image/png": "[encoded data removed]",
      "text/plain": [
       "<Figure size 720x360 with 2 Axes>"
      ]
     },
     "metadata": {
      "needs_background": "light"
     },
     "output_type": "display_data"
    }
   ],
   "source": [
    "plt.figure(figsize=(10,5))\n",
    "sns.heatmap(df.corr(),annot=True)"
   ]
  },
  {
   "cell_type": "code",
   "execution_count": 13,
   "metadata": {},
   "outputs": [
    {
     "data": {
      "text/plain": [
       "<seaborn.axisgrid.PairGrid at 0xa2194c6390>"
      ]
     },
     "execution_count": 13,
     "metadata": {},
     "output_type": "execute_result"
    },
    {
     "data": {
      "image/png": "[encoded data removed]",
      "text/plain": [
       "<Figure size 2016x288 with 7 Axes>"
      ]
     },
     "metadata": {
      "needs_background": "light"
     },
     "output_type": "display_data"
    }
   ],
   "source": [
    "sns.pairplot(df,x_vars=['area','bedrooms','bathrooms','stories','mainroad','guestroom','basement'],y_vars='price',size=4,aspect=1,kind='scatter')"
   ]
  },
  {
   "cell_type": "code",
   "execution_count": 14,
   "metadata": {},
   "outputs": [
    {
     "data": {
      "text/plain": [
       "price              1.212239\n",
       "area               1.321188\n",
       "bedrooms           0.495684\n",
       "bathrooms          1.589264\n",
       "stories            1.082088\n",
       "mainroad          -2.065410\n",
       "guestroom          1.688419\n",
       "basement           0.628590\n",
       "hotwaterheating    4.353428\n",
       "airconditioning    0.795748\n",
       "parking            0.842062\n",
       "prefarea           1.254361\n",
       "semi-furnished     0.339635\n",
       "unfurnished        0.741509\n",
       "dtype: float64"
      ]
     },
     "execution_count": 14,
     "metadata": {},
     "output_type": "execute_result"
    }
   ],
   "source": [
    "df.skew()"
   ]
  },
  {
   "cell_type": "code",
   "execution_count": 15,
   "metadata": {},
   "outputs": [
    {
     "data": {
      "text/plain": [
       "<matplotlib.axes._subplots.AxesSubplot at 0xa219fbcd68>"
      ]
     },
     "execution_count": 15,
     "metadata": {},
     "output_type": "execute_result"
    },
    {
     "data": {
      "image/png": "[encoded data removed]",
      "text/plain": [
       "<Figure size 432x288 with 1 Axes>"
      ]
     },
     "metadata": {
      "needs_background": "light"
     },
     "output_type": "display_data"
    }
   ],
   "source": [
    "sns.distplot(df['mainroad'])"
   ]
  },
  {
   "cell_type": "code",
   "execution_count": 16,
   "metadata": {},
   "outputs": [
    {
     "data": {
      "text/html": [
       "<div>\n",
       "<style scoped>\n",
       "    .dataframe tbody tr th:only-of-type {\n",
       "        vertical-align: middle;\n",
       "    }\n",
       "\n",
       "    .dataframe tbody tr th {\n",
       "        vertical-align: top;\n",
       "    }\n",
       "\n",
       "    .dataframe thead th {\n",
       "        text-align: right;\n",
       "    }\n",
       "</style>\n",
       "<table border=\"1\" class=\"dataframe\">\n",
       "  <thead>\n",
       "    <tr style=\"text-align: right;\">\n",
       "      <th></th>\n",
       "      <th>mainroad</th>\n",
       "      <th>hotwaterheating</th>\n",
       "    </tr>\n",
       "  </thead>\n",
       "  <tbody>\n",
       "    <tr>\n",
       "      <th>count</th>\n",
       "      <td>545.000000</td>\n",
       "      <td>545.000000</td>\n",
       "    </tr>\n",
       "    <tr>\n",
       "      <th>mean</th>\n",
       "      <td>0.858716</td>\n",
       "      <td>0.045872</td>\n",
       "    </tr>\n",
       "    <tr>\n",
       "      <th>std</th>\n",
       "      <td>0.348635</td>\n",
       "      <td>0.209399</td>\n",
       "    </tr>\n",
       "    <tr>\n",
       "      <th>min</th>\n",
       "      <td>0.000000</td>\n",
       "      <td>0.000000</td>\n",
       "    </tr>\n",
       "    <tr>\n",
       "      <th>15%</th>\n",
       "      <td>1.000000</td>\n",
       "      <td>0.000000</td>\n",
       "    </tr>\n",
       "    <tr>\n",
       "      <th>25%</th>\n",
       "      <td>1.000000</td>\n",
       "      <td>0.000000</td>\n",
       "    </tr>\n",
       "    <tr>\n",
       "      <th>50%</th>\n",
       "      <td>1.000000</td>\n",
       "      <td>0.000000</td>\n",
       "    </tr>\n",
       "    <tr>\n",
       "      <th>75%</th>\n",
       "      <td>1.000000</td>\n",
       "      <td>0.000000</td>\n",
       "    </tr>\n",
       "    <tr>\n",
       "      <th>99.7%</th>\n",
       "      <td>1.000000</td>\n",
       "      <td>1.000000</td>\n",
       "    </tr>\n",
       "    <tr>\n",
       "      <th>max</th>\n",
       "      <td>1.000000</td>\n",
       "      <td>1.000000</td>\n",
       "    </tr>\n",
       "  </tbody>\n",
       "</table>\n",
       "</div>"
      ],
      "text/plain": [
       "         mainroad  hotwaterheating\n",
       "count  545.000000       545.000000\n",
       "mean     0.858716         0.045872\n",
       "std      0.348635         0.209399\n",
       "min      0.000000         0.000000\n",
       "15%      1.000000         0.000000\n",
       "25%      1.000000         0.000000\n",
       "50%      1.000000         0.000000\n",
       "75%      1.000000         0.000000\n",
       "99.7%    1.000000         1.000000\n",
       "max      1.000000         1.000000"
      ]
     },
     "execution_count": 16,
     "metadata": {},
     "output_type": "execute_result"
    }
   ],
   "source": [
    "df[['mainroad','hotwaterheating']].describe([0.15,0.25,0.5,0.75,0.997])"
   ]
  },
  {
   "cell_type": "code",
   "execution_count": 17,
   "metadata": {},
   "outputs": [
    {
     "data": {
      "text/plain": [
       "(468, 14)"
      ]
     },
     "execution_count": 17,
     "metadata": {},
     "output_type": "execute_result"
    }
   ],
   "source": [
    "df1=df[(df['mainroad']>(np.mean(df['mainroad'])-(2.4*np.std(df['mainroad'])))) & (df['mainroad']<(np.mean(df['mainroad'])+2.1*np.std(df['mainroad'])))]\n",
    "df1.shape                                                                                           "
   ]
  },
  {
   "cell_type": "code",
   "execution_count": 18,
   "metadata": {},
   "outputs": [
    {
     "data": {
      "text/plain": [
       "price              1.135361\n",
       "area               1.277432\n",
       "bedrooms           0.503806\n",
       "bathrooms          1.539812\n",
       "stories            1.023601\n",
       "mainroad           0.000000\n",
       "guestroom          1.566465\n",
       "basement           0.589867\n",
       "hotwaterheating    4.411047\n",
       "airconditioning    0.699175\n",
       "parking            0.698138\n",
       "prefarea           1.043881\n",
       "semi-furnished     0.330215\n",
       "unfurnished        0.869010\n",
       "dtype: float64"
      ]
     },
     "execution_count": 18,
     "metadata": {},
     "output_type": "execute_result"
    }
   ],
   "source": [
    "df1.skew()"
   ]
  },
  {
   "cell_type": "code",
   "execution_count": 19,
   "metadata": {},
   "outputs": [
    {
     "data": {
      "text/plain": [
       "(447, 14)"
      ]
     },
     "execution_count": 19,
     "metadata": {},
     "output_type": "execute_result"
    }
   ],
   "source": [
    "df2=df1[(df1['hotwaterheating']>(np.mean(df1['hotwaterheating'])-(3*np.std(df1['hotwaterheating'])))) & (df1['hotwaterheating']<(np.mean(df1['hotwaterheating'])+3*np.std(df1['hotwaterheating'])))]\n",
    "df2.shape                                                                                           "
   ]
  },
  {
   "cell_type": "code",
   "execution_count": 20,
   "metadata": {},
   "outputs": [
    {
     "data": {
      "text/plain": [
       "price              1.186401\n",
       "area               1.254918\n",
       "bedrooms           0.500427\n",
       "bathrooms          1.586147\n",
       "stories            1.033865\n",
       "mainroad           0.000000\n",
       "guestroom          1.565997\n",
       "basement           0.584488\n",
       "hotwaterheating    0.000000\n",
       "airconditioning    0.635750\n",
       "parking            0.741052\n",
       "prefarea           1.010258\n",
       "semi-furnished     0.369759\n",
       "unfurnished        0.819531\n",
       "dtype: float64"
      ]
     },
     "execution_count": 20,
     "metadata": {},
     "output_type": "execute_result"
    }
   ],
   "source": [
    "df2.skew()"
   ]
  },
  {
   "cell_type": "code",
   "execution_count": 21,
   "metadata": {},
   "outputs": [
    {
     "data": {
      "text/plain": [
       "<matplotlib.axes._subplots.AxesSubplot at 0xa21a00def0>"
      ]
     },
     "execution_count": 21,
     "metadata": {},
     "output_type": "execute_result"
    },
    {
     "data": {
      "image/png": "[encoded data removed]",
      "text/plain": [
       "<Figure size 720x360 with 2 Axes>"
      ]
     },
     "metadata": {
      "needs_background": "light"
     },
     "output_type": "display_data"
    }
   ],
   "source": [
    "plt.figure(figsize=(10,5))\n",
    "sns.heatmap(df2.corr(),annot=True)"
   ]
  },
  {
   "cell_type": "code",
   "execution_count": 22,
   "metadata": {},
   "outputs": [],
   "source": [
    "X=df2.drop('price',axis=1)\n",
    "y=df2.price"
   ]
  },
  {
   "cell_type": "code",
   "execution_count": 23,
   "metadata": {},
   "outputs": [],
   "source": [
    "from sklearn.model_selection import train_test_split\n",
    "X_train,X_test,y_train,y_test=train_test_split(X,y,test_size=0.3,random_state=101)"
   ]
  },
  {
   "cell_type": "code",
   "execution_count": 24,
   "metadata": {},
   "outputs": [],
   "source": [
    "from sklearn.preprocessing import StandardScaler\n",
    "sc=StandardScaler()"
   ]
  },
  {
   "cell_type": "code",
   "execution_count": 25,
   "metadata": {},
   "outputs": [],
   "source": [
    "X_train_sc=sc.fit_transform(X_train)"
   ]
  },
  {
   "cell_type": "code",
   "execution_count": 26,
   "metadata": {},
   "outputs": [
    {
     "data": {
      "text/plain": [
       "array([[-0.6394989 ,  0.02204226, -0.59137702, ..., -0.61192266,\n",
       "         1.21498579, -0.73276586],\n",
       "       [-0.79601892,  0.02204226, -0.59137702, ..., -0.61192266,\n",
       "        -0.82305489, -0.73276586],\n",
       "       [-0.11417274,  0.02204226, -0.59137702, ..., -0.61192266,\n",
       "         1.21498579, -0.73276586],\n",
       "       ...,\n",
       "       [-0.74681352,  0.02204226, -0.59137702, ..., -0.61192266,\n",
       "        -0.82305489,  1.36469239],\n",
       "       [ 0.51846805,  1.39747958,  1.33059829, ...,  1.63419345,\n",
       "         1.21498579, -0.73276586],\n",
       "       [ 3.51484225,  0.02204226, -0.59137702, ..., -0.61192266,\n",
       "        -0.82305489,  1.36469239]])"
      ]
     },
     "execution_count": 26,
     "metadata": {},
     "output_type": "execute_result"
    }
   ],
   "source": [
    "X_train_sc"
   ]
  },
  {
   "cell_type": "code",
   "execution_count": 27,
   "metadata": {},
   "outputs": [],
   "source": [
    "X_train_sc_df=pd.DataFrame(X_train_sc,columns=X_train.columns)"
   ]
  },
  {
   "cell_type": "code",
   "execution_count": 28,
   "metadata": {},
   "outputs": [],
   "source": [
    "X_test_sc=sc.fit_transform(X_test)"
   ]
  },
  {
   "cell_type": "code",
   "execution_count": 29,
   "metadata": {},
   "outputs": [],
   "source": [
    "X_test_sc_df=pd.DataFrame(X_test_sc,columns=X_test.columns)"
   ]
  },
  {
   "cell_type": "code",
   "execution_count": 30,
   "metadata": {},
   "outputs": [
    {
     "data": {
      "text/html": [
       "<div>\n",
       "<style scoped>\n",
       "    .dataframe tbody tr th:only-of-type {\n",
       "        vertical-align: middle;\n",
       "    }\n",
       "\n",
       "    .dataframe tbody tr th {\n",
       "        vertical-align: top;\n",
       "    }\n",
       "\n",
       "    .dataframe thead th {\n",
       "        text-align: right;\n",
       "    }\n",
       "</style>\n",
       "<table border=\"1\" class=\"dataframe\">\n",
       "  <thead>\n",
       "    <tr style=\"text-align: right;\">\n",
       "      <th></th>\n",
       "      <th>area</th>\n",
       "      <th>bedrooms</th>\n",
       "      <th>bathrooms</th>\n",
       "      <th>stories</th>\n",
       "      <th>mainroad</th>\n",
       "      <th>guestroom</th>\n",
       "      <th>basement</th>\n",
       "      <th>hotwaterheating</th>\n",
       "      <th>airconditioning</th>\n",
       "      <th>parking</th>\n",
       "      <th>prefarea</th>\n",
       "      <th>semi-furnished</th>\n",
       "      <th>unfurnished</th>\n",
       "    </tr>\n",
       "  </thead>\n",
       "  <tbody>\n",
       "    <tr>\n",
       "      <th>0</th>\n",
       "      <td>1.085803</td>\n",
       "      <td>0.149975</td>\n",
       "      <td>1.724831</td>\n",
       "      <td>0.095509</td>\n",
       "      <td>0.0</td>\n",
       "      <td>-0.488397</td>\n",
       "      <td>-0.803954</td>\n",
       "      <td>0.0</td>\n",
       "      <td>-0.718926</td>\n",
       "      <td>-0.851385</td>\n",
       "      <td>1.597696</td>\n",
       "      <td>1.169795</td>\n",
       "      <td>-0.534522</td>\n",
       "    </tr>\n",
       "    <tr>\n",
       "      <th>1</th>\n",
       "      <td>1.195414</td>\n",
       "      <td>0.149975</td>\n",
       "      <td>-0.535870</td>\n",
       "      <td>-0.978969</td>\n",
       "      <td>0.0</td>\n",
       "      <td>2.047513</td>\n",
       "      <td>1.243853</td>\n",
       "      <td>0.0</td>\n",
       "      <td>1.390965</td>\n",
       "      <td>0.264508</td>\n",
       "      <td>-0.625901</td>\n",
       "      <td>-0.854850</td>\n",
       "      <td>-0.534522</td>\n",
       "    </tr>\n",
       "    <tr>\n",
       "      <th>2</th>\n",
       "      <td>1.072650</td>\n",
       "      <td>-1.296214</td>\n",
       "      <td>-0.535870</td>\n",
       "      <td>-0.978969</td>\n",
       "      <td>0.0</td>\n",
       "      <td>-0.488397</td>\n",
       "      <td>-0.803954</td>\n",
       "      <td>0.0</td>\n",
       "      <td>-0.718926</td>\n",
       "      <td>0.264508</td>\n",
       "      <td>-0.625901</td>\n",
       "      <td>-0.854850</td>\n",
       "      <td>-0.534522</td>\n",
       "    </tr>\n",
       "    <tr>\n",
       "      <th>3</th>\n",
       "      <td>-0.817041</td>\n",
       "      <td>0.149975</td>\n",
       "      <td>1.724831</td>\n",
       "      <td>-0.978969</td>\n",
       "      <td>0.0</td>\n",
       "      <td>-0.488397</td>\n",
       "      <td>1.243853</td>\n",
       "      <td>0.0</td>\n",
       "      <td>1.390965</td>\n",
       "      <td>0.264508</td>\n",
       "      <td>-0.625901</td>\n",
       "      <td>-0.854850</td>\n",
       "      <td>-0.534522</td>\n",
       "    </tr>\n",
       "    <tr>\n",
       "      <th>4</th>\n",
       "      <td>-0.527668</td>\n",
       "      <td>-1.296214</td>\n",
       "      <td>-0.535870</td>\n",
       "      <td>-0.978969</td>\n",
       "      <td>0.0</td>\n",
       "      <td>-0.488397</td>\n",
       "      <td>1.243853</td>\n",
       "      <td>0.0</td>\n",
       "      <td>-0.718926</td>\n",
       "      <td>0.264508</td>\n",
       "      <td>-0.625901</td>\n",
       "      <td>1.169795</td>\n",
       "      <td>-0.534522</td>\n",
       "    </tr>\n",
       "  </tbody>\n",
       "</table>\n",
       "</div>"
      ],
      "text/plain": [
       "       area  bedrooms  bathrooms   stories  mainroad  guestroom  basement  \\\n",
       "0  1.085803  0.149975   1.724831  0.095509       0.0  -0.488397 -0.803954   \n",
       "1  1.195414  0.149975  -0.535870 -0.978969       0.0   2.047513  1.243853   \n",
       "2  1.072650 -1.296214  -0.535870 -0.978969       0.0  -0.488397 -0.803954   \n",
       "3 -0.817041  0.149975   1.724831 -0.978969       0.0  -0.488397  1.243853   \n",
       "4 -0.527668 -1.296214  -0.535870 -0.978969       0.0  -0.488397  1.243853   \n",
       "\n",
       "   hotwaterheating  airconditioning   parking  prefarea  semi-furnished  \\\n",
       "0              0.0        -0.718926 -0.851385  1.597696        1.169795   \n",
       "1              0.0         1.390965  0.264508 -0.625901       -0.854850   \n",
       "2              0.0        -0.718926  0.264508 -0.625901       -0.854850   \n",
       "3              0.0         1.390965  0.264508 -0.625901       -0.854850   \n",
       "4              0.0        -0.718926  0.264508 -0.625901        1.169795   \n",
       "\n",
       "   unfurnished  \n",
       "0    -0.534522  \n",
       "1    -0.534522  \n",
       "2    -0.534522  \n",
       "3    -0.534522  \n",
       "4    -0.534522  "
      ]
     },
     "execution_count": 30,
     "metadata": {},
     "output_type": "execute_result"
    }
   ],
   "source": [
    "X_test_sc_df.head()"
   ]
  },
  {
   "cell_type": "code",
   "execution_count": 31,
   "metadata": {},
   "outputs": [
    {
     "data": {
      "text/html": [
       "<div>\n",
       "<style scoped>\n",
       "    .dataframe tbody tr th:only-of-type {\n",
       "        vertical-align: middle;\n",
       "    }\n",
       "\n",
       "    .dataframe tbody tr th {\n",
       "        vertical-align: top;\n",
       "    }\n",
       "\n",
       "    .dataframe thead th {\n",
       "        text-align: right;\n",
       "    }\n",
       "</style>\n",
       "<table border=\"1\" class=\"dataframe\">\n",
       "  <thead>\n",
       "    <tr style=\"text-align: right;\">\n",
       "      <th></th>\n",
       "      <th>area</th>\n",
       "      <th>bedrooms</th>\n",
       "      <th>bathrooms</th>\n",
       "      <th>stories</th>\n",
       "      <th>mainroad</th>\n",
       "      <th>guestroom</th>\n",
       "      <th>basement</th>\n",
       "      <th>hotwaterheating</th>\n",
       "      <th>airconditioning</th>\n",
       "      <th>parking</th>\n",
       "      <th>prefarea</th>\n",
       "      <th>semi-furnished</th>\n",
       "      <th>unfurnished</th>\n",
       "    </tr>\n",
       "  </thead>\n",
       "  <tbody>\n",
       "    <tr>\n",
       "      <th>0</th>\n",
       "      <td>-0.639499</td>\n",
       "      <td>0.022042</td>\n",
       "      <td>-0.591377</td>\n",
       "      <td>1.307367</td>\n",
       "      <td>0.0</td>\n",
       "      <td>-0.48795</td>\n",
       "      <td>-0.727607</td>\n",
       "      <td>0.0</td>\n",
       "      <td>-0.737939</td>\n",
       "      <td>-0.834900</td>\n",
       "      <td>-0.611923</td>\n",
       "      <td>1.214986</td>\n",
       "      <td>-0.732766</td>\n",
       "    </tr>\n",
       "    <tr>\n",
       "      <th>1</th>\n",
       "      <td>-0.796019</td>\n",
       "      <td>0.022042</td>\n",
       "      <td>-0.591377</td>\n",
       "      <td>0.198947</td>\n",
       "      <td>0.0</td>\n",
       "      <td>-0.48795</td>\n",
       "      <td>1.374369</td>\n",
       "      <td>0.0</td>\n",
       "      <td>-0.737939</td>\n",
       "      <td>-0.834900</td>\n",
       "      <td>-0.611923</td>\n",
       "      <td>-0.823055</td>\n",
       "      <td>-0.732766</td>\n",
       "    </tr>\n",
       "    <tr>\n",
       "      <th>2</th>\n",
       "      <td>-0.114173</td>\n",
       "      <td>0.022042</td>\n",
       "      <td>-0.591377</td>\n",
       "      <td>1.307367</td>\n",
       "      <td>0.0</td>\n",
       "      <td>-0.48795</td>\n",
       "      <td>-0.727607</td>\n",
       "      <td>0.0</td>\n",
       "      <td>1.355125</td>\n",
       "      <td>-0.834900</td>\n",
       "      <td>-0.611923</td>\n",
       "      <td>1.214986</td>\n",
       "      <td>-0.732766</td>\n",
       "    </tr>\n",
       "    <tr>\n",
       "      <th>3</th>\n",
       "      <td>0.143570</td>\n",
       "      <td>0.022042</td>\n",
       "      <td>1.330598</td>\n",
       "      <td>2.415787</td>\n",
       "      <td>0.0</td>\n",
       "      <td>2.04939</td>\n",
       "      <td>-0.727607</td>\n",
       "      <td>0.0</td>\n",
       "      <td>1.355125</td>\n",
       "      <td>0.287896</td>\n",
       "      <td>1.634193</td>\n",
       "      <td>-0.823055</td>\n",
       "      <td>1.364692</td>\n",
       "    </tr>\n",
       "    <tr>\n",
       "      <th>4</th>\n",
       "      <td>-1.201378</td>\n",
       "      <td>0.022042</td>\n",
       "      <td>-0.591377</td>\n",
       "      <td>0.198947</td>\n",
       "      <td>0.0</td>\n",
       "      <td>-0.48795</td>\n",
       "      <td>-0.727607</td>\n",
       "      <td>0.0</td>\n",
       "      <td>-0.737939</td>\n",
       "      <td>-0.834900</td>\n",
       "      <td>1.634193</td>\n",
       "      <td>1.214986</td>\n",
       "      <td>-0.732766</td>\n",
       "    </tr>\n",
       "  </tbody>\n",
       "</table>\n",
       "</div>"
      ],
      "text/plain": [
       "       area  bedrooms  bathrooms   stories  mainroad  guestroom  basement  \\\n",
       "0 -0.639499  0.022042  -0.591377  1.307367       0.0   -0.48795 -0.727607   \n",
       "1 -0.796019  0.022042  -0.591377  0.198947       0.0   -0.48795  1.374369   \n",
       "2 -0.114173  0.022042  -0.591377  1.307367       0.0   -0.48795 -0.727607   \n",
       "3  0.143570  0.022042   1.330598  2.415787       0.0    2.04939 -0.727607   \n",
       "4 -1.201378  0.022042  -0.591377  0.198947       0.0   -0.48795 -0.727607   \n",
       "\n",
       "   hotwaterheating  airconditioning   parking  prefarea  semi-furnished  \\\n",
       "0              0.0        -0.737939 -0.834900 -0.611923        1.214986   \n",
       "1              0.0        -0.737939 -0.834900 -0.611923       -0.823055   \n",
       "2              0.0         1.355125 -0.834900 -0.611923        1.214986   \n",
       "3              0.0         1.355125  0.287896  1.634193       -0.823055   \n",
       "4              0.0        -0.737939 -0.834900  1.634193        1.214986   \n",
       "\n",
       "   unfurnished  \n",
       "0    -0.732766  \n",
       "1    -0.732766  \n",
       "2    -0.732766  \n",
       "3     1.364692  \n",
       "4    -0.732766  "
      ]
     },
     "execution_count": 31,
     "metadata": {},
     "output_type": "execute_result"
    }
   ],
   "source": [
    "X_train_sc_df.head()"
   ]
  },
  {
   "cell_type": "code",
   "execution_count": 32,
   "metadata": {},
   "outputs": [],
   "source": [
    "from sklearn.feature_selection import RFE\n",
    "from sklearn.linear_model import LinearRegression"
   ]
  },
  {
   "cell_type": "code",
   "execution_count": 33,
   "metadata": {},
   "outputs": [],
   "source": [
    "lr=LinearRegression()"
   ]
  },
  {
   "cell_type": "code",
   "execution_count": 34,
   "metadata": {},
   "outputs": [],
   "source": [
    "rfe=RFE(lr,9)"
   ]
  },
  {
   "cell_type": "code",
   "execution_count": 35,
   "metadata": {},
   "outputs": [],
   "source": [
    "rfe=rfe.fit(X_train_sc_df,y_train)"
   ]
  },
  {
   "cell_type": "code",
   "execution_count": 36,
   "metadata": {},
   "outputs": [
    {
     "data": {
      "text/plain": [
       "[('area', True, 1),\n",
       " ('bedrooms', True, 1),\n",
       " ('bathrooms', True, 1),\n",
       " ('stories', True, 1),\n",
       " ('mainroad', False, 4),\n",
       " ('guestroom', True, 1),\n",
       " ('basement', False, 3),\n",
       " ('hotwaterheating', False, 5),\n",
       " ('airconditioning', True, 1),\n",
       " ('parking', True, 1),\n",
       " ('prefarea', True, 1),\n",
       " ('semi-furnished', False, 2),\n",
       " ('unfurnished', True, 1)]"
      ]
     },
     "execution_count": 36,
     "metadata": {},
     "output_type": "execute_result"
    }
   ],
   "source": [
    "list(zip(X_train_sc_df.columns,rfe.support_,rfe.ranking_)) "
   ]
  },
  {
   "cell_type": "code",
   "execution_count": 37,
   "metadata": {},
   "outputs": [
    {
     "data": {
      "text/plain": [
       "array([1, 1, 1, 1, 4, 1, 3, 5, 1, 1, 1, 2, 1])"
      ]
     },
     "execution_count": 37,
     "metadata": {},
     "output_type": "execute_result"
    }
   ],
   "source": [
    "rfe.ranking_"
   ]
  },
  {
   "cell_type": "code",
   "execution_count": 38,
   "metadata": {},
   "outputs": [
    {
     "data": {
      "text/plain": [
       "array([ True,  True,  True,  True, False,  True, False, False,  True,\n",
       "        True,  True, False,  True])"
      ]
     },
     "execution_count": 38,
     "metadata": {},
     "output_type": "execute_result"
    }
   ],
   "source": [
    "rfe.support_"
   ]
  },
  {
   "cell_type": "code",
   "execution_count": 39,
   "metadata": {},
   "outputs": [],
   "source": [
    "sec_col=X_train_sc_df.columns[rfe.support_]"
   ]
  },
  {
   "cell_type": "code",
   "execution_count": 40,
   "metadata": {},
   "outputs": [],
   "source": [
    "X_train_sc_df_rfe=X_train_sc_df[sec_col]"
   ]
  },
  {
   "cell_type": "code",
   "execution_count": 41,
   "metadata": {},
   "outputs": [
    {
     "data": {
      "text/html": [
       "<div>\n",
       "<style scoped>\n",
       "    .dataframe tbody tr th:only-of-type {\n",
       "        vertical-align: middle;\n",
       "    }\n",
       "\n",
       "    .dataframe tbody tr th {\n",
       "        vertical-align: top;\n",
       "    }\n",
       "\n",
       "    .dataframe thead th {\n",
       "        text-align: right;\n",
       "    }\n",
       "</style>\n",
       "<table border=\"1\" class=\"dataframe\">\n",
       "  <thead>\n",
       "    <tr style=\"text-align: right;\">\n",
       "      <th></th>\n",
       "      <th>area</th>\n",
       "      <th>bedrooms</th>\n",
       "      <th>bathrooms</th>\n",
       "      <th>stories</th>\n",
       "      <th>guestroom</th>\n",
       "      <th>airconditioning</th>\n",
       "      <th>parking</th>\n",
       "      <th>prefarea</th>\n",
       "      <th>unfurnished</th>\n",
       "    </tr>\n",
       "  </thead>\n",
       "  <tbody>\n",
       "    <tr>\n",
       "      <th>0</th>\n",
       "      <td>-0.639499</td>\n",
       "      <td>0.022042</td>\n",
       "      <td>-0.591377</td>\n",
       "      <td>1.307367</td>\n",
       "      <td>-0.48795</td>\n",
       "      <td>-0.737939</td>\n",
       "      <td>-0.834900</td>\n",
       "      <td>-0.611923</td>\n",
       "      <td>-0.732766</td>\n",
       "    </tr>\n",
       "    <tr>\n",
       "      <th>1</th>\n",
       "      <td>-0.796019</td>\n",
       "      <td>0.022042</td>\n",
       "      <td>-0.591377</td>\n",
       "      <td>0.198947</td>\n",
       "      <td>-0.48795</td>\n",
       "      <td>-0.737939</td>\n",
       "      <td>-0.834900</td>\n",
       "      <td>-0.611923</td>\n",
       "      <td>-0.732766</td>\n",
       "    </tr>\n",
       "    <tr>\n",
       "      <th>2</th>\n",
       "      <td>-0.114173</td>\n",
       "      <td>0.022042</td>\n",
       "      <td>-0.591377</td>\n",
       "      <td>1.307367</td>\n",
       "      <td>-0.48795</td>\n",
       "      <td>1.355125</td>\n",
       "      <td>-0.834900</td>\n",
       "      <td>-0.611923</td>\n",
       "      <td>-0.732766</td>\n",
       "    </tr>\n",
       "    <tr>\n",
       "      <th>3</th>\n",
       "      <td>0.143570</td>\n",
       "      <td>0.022042</td>\n",
       "      <td>1.330598</td>\n",
       "      <td>2.415787</td>\n",
       "      <td>2.04939</td>\n",
       "      <td>1.355125</td>\n",
       "      <td>0.287896</td>\n",
       "      <td>1.634193</td>\n",
       "      <td>1.364692</td>\n",
       "    </tr>\n",
       "    <tr>\n",
       "      <th>4</th>\n",
       "      <td>-1.201378</td>\n",
       "      <td>0.022042</td>\n",
       "      <td>-0.591377</td>\n",
       "      <td>0.198947</td>\n",
       "      <td>-0.48795</td>\n",
       "      <td>-0.737939</td>\n",
       "      <td>-0.834900</td>\n",
       "      <td>1.634193</td>\n",
       "      <td>-0.732766</td>\n",
       "    </tr>\n",
       "  </tbody>\n",
       "</table>\n",
       "</div>"
      ],
      "text/plain": [
       "       area  bedrooms  bathrooms   stories  guestroom  airconditioning  \\\n",
       "0 -0.639499  0.022042  -0.591377  1.307367   -0.48795        -0.737939   \n",
       "1 -0.796019  0.022042  -0.591377  0.198947   -0.48795        -0.737939   \n",
       "2 -0.114173  0.022042  -0.591377  1.307367   -0.48795         1.355125   \n",
       "3  0.143570  0.022042   1.330598  2.415787    2.04939         1.355125   \n",
       "4 -1.201378  0.022042  -0.591377  0.198947   -0.48795        -0.737939   \n",
       "\n",
       "    parking  prefarea  unfurnished  \n",
       "0 -0.834900 -0.611923    -0.732766  \n",
       "1 -0.834900 -0.611923    -0.732766  \n",
       "2 -0.834900 -0.611923    -0.732766  \n",
       "3  0.287896  1.634193     1.364692  \n",
       "4 -0.834900  1.634193    -0.732766  "
      ]
     },
     "execution_count": 41,
     "metadata": {},
     "output_type": "execute_result"
    }
   ],
   "source": [
    "X_train_sc_df_rfe.head()"
   ]
  },
  {
   "cell_type": "markdown",
   "metadata": {},
   "source": [
    "## stats model"
   ]
  },
  {
   "cell_type": "code",
   "execution_count": 42,
   "metadata": {},
   "outputs": [],
   "source": [
    "import statsmodels.api as sm"
   ]
  },
  {
   "cell_type": "code",
   "execution_count": 43,
   "metadata": {},
   "outputs": [],
   "source": [
    "X_train_sc_df_rfe_sm=sm.add_constant(X_train_sc_df_rfe)"
   ]
  },
  {
   "cell_type": "code",
   "execution_count": 44,
   "metadata": {},
   "outputs": [],
   "source": [
    "y_train=list(y_train) ### we need to convert into list and run all else endocs error comes\n"
   ]
  },
  {
   "cell_type": "code",
   "execution_count": 45,
   "metadata": {},
   "outputs": [],
   "source": [
    "limod=sm.OLS(y_train,X_train_sc_df_rfe_sm).fit()"
   ]
  },
  {
   "cell_type": "code",
   "execution_count": 46,
   "metadata": {},
   "outputs": [
    {
     "name": "stdout",
     "output_type": "stream",
     "text": [
      "                            OLS Regression Results                            \n",
      "==============================================================================\n",
      "Dep. Variable:                      y   R-squared:                       0.724\n",
      "Model:                            OLS   Adj. R-squared:                  0.716\n",
      "Method:                 Least Squares   F-statistic:                     88.10\n",
      "Date:                Tue, 24 Sep 2019   Prob (F-statistic):           4.29e-79\n",
      "Time:                        07:37:44   Log-Likelihood:                -4748.7\n",
      "No. Observations:                 312   AIC:                             9517.\n",
      "Df Residuals:                     302   BIC:                             9555.\n",
      "Df Model:                           9                                         \n",
      "Covariance Type:            nonrobust                                         \n",
      "===================================================================================\n",
      "                      coef    std err          t      P>|t|      [0.025      0.975]\n",
      "-----------------------------------------------------------------------------------\n",
      "const            4.885e+06   5.67e+04     86.113      0.000    4.77e+06       5e+06\n",
      "area             4.568e+05   6.24e+04      7.316      0.000    3.34e+05     5.8e+05\n",
      "bedrooms         1.041e+05   6.51e+04      1.599      0.111    -2.4e+04    2.32e+05\n",
      "bathrooms        5.872e+05   6.64e+04      8.839      0.000    4.56e+05    7.18e+05\n",
      "stories          3.622e+05   6.58e+04      5.504      0.000    2.33e+05    4.92e+05\n",
      "guestroom        1.498e+05   5.85e+04      2.561      0.011    3.47e+04    2.65e+05\n",
      "airconditioning  4.994e+05   6.22e+04      8.024      0.000    3.77e+05    6.22e+05\n",
      "parking          2.439e+05   6.03e+04      4.046      0.000    1.25e+05    3.63e+05\n",
      "prefarea         4.152e+05   5.89e+04      7.053      0.000    2.99e+05    5.31e+05\n",
      "unfurnished     -1.521e+05    5.9e+04     -2.577      0.010   -2.68e+05   -3.59e+04\n",
      "==============================================================================\n",
      "Omnibus:                       42.117   Durbin-Watson:                   2.051\n",
      "Prob(Omnibus):                  0.000   Jarque-Bera (JB):               82.199\n",
      "Skew:                           0.730   Prob(JB):                     1.41e-18\n",
      "Kurtosis:                       5.048   Cond. No.                         2.11\n",
      "==============================================================================\n",
      "\n",
      "Warnings:\n",
      "[1] Standard Errors assume that the covariance matrix of the errors is correctly specified.\n"
     ]
    }
   ],
   "source": [
    "print(limod.summary())"
   ]
  },
  {
   "cell_type": "code",
   "execution_count": 47,
   "metadata": {},
   "outputs": [
    {
     "data": {
      "text/html": [
       "<div>\n",
       "<style scoped>\n",
       "    .dataframe tbody tr th:only-of-type {\n",
       "        vertical-align: middle;\n",
       "    }\n",
       "\n",
       "    .dataframe tbody tr th {\n",
       "        vertical-align: top;\n",
       "    }\n",
       "\n",
       "    .dataframe thead th {\n",
       "        text-align: right;\n",
       "    }\n",
       "</style>\n",
       "<table border=\"1\" class=\"dataframe\">\n",
       "  <thead>\n",
       "    <tr style=\"text-align: right;\">\n",
       "      <th></th>\n",
       "      <th>Features</th>\n",
       "      <th>VIF</th>\n",
       "    </tr>\n",
       "  </thead>\n",
       "  <tbody>\n",
       "    <tr>\n",
       "      <th>3</th>\n",
       "      <td>bathrooms</td>\n",
       "      <td>1.37</td>\n",
       "    </tr>\n",
       "    <tr>\n",
       "      <th>4</th>\n",
       "      <td>stories</td>\n",
       "      <td>1.35</td>\n",
       "    </tr>\n",
       "    <tr>\n",
       "      <th>2</th>\n",
       "      <td>bedrooms</td>\n",
       "      <td>1.32</td>\n",
       "    </tr>\n",
       "    <tr>\n",
       "      <th>1</th>\n",
       "      <td>area</td>\n",
       "      <td>1.21</td>\n",
       "    </tr>\n",
       "    <tr>\n",
       "      <th>6</th>\n",
       "      <td>airconditioning</td>\n",
       "      <td>1.20</td>\n",
       "    </tr>\n",
       "    <tr>\n",
       "      <th>7</th>\n",
       "      <td>parking</td>\n",
       "      <td>1.13</td>\n",
       "    </tr>\n",
       "    <tr>\n",
       "      <th>8</th>\n",
       "      <td>prefarea</td>\n",
       "      <td>1.08</td>\n",
       "    </tr>\n",
       "    <tr>\n",
       "      <th>9</th>\n",
       "      <td>unfurnished</td>\n",
       "      <td>1.08</td>\n",
       "    </tr>\n",
       "    <tr>\n",
       "      <th>5</th>\n",
       "      <td>guestroom</td>\n",
       "      <td>1.06</td>\n",
       "    </tr>\n",
       "    <tr>\n",
       "      <th>0</th>\n",
       "      <td>const</td>\n",
       "      <td>1.00</td>\n",
       "    </tr>\n",
       "  </tbody>\n",
       "</table>\n",
       "</div>"
      ],
      "text/plain": [
       "          Features   VIF\n",
       "3        bathrooms  1.37\n",
       "4          stories  1.35\n",
       "2         bedrooms  1.32\n",
       "1             area  1.21\n",
       "6  airconditioning  1.20\n",
       "7          parking  1.13\n",
       "8         prefarea  1.08\n",
       "9      unfurnished  1.08\n",
       "5        guestroom  1.06\n",
       "0            const  1.00"
      ]
     },
     "execution_count": 47,
     "metadata": {},
     "output_type": "execute_result"
    }
   ],
   "source": [
    "#check for the VIF value of feature variables\n",
    "from statsmodels.stats.outliers_influence import variance_inflation_factor\n",
    "# create DF that vll contain all features variables and thier respective VIF\n",
    "vif=pd.DataFrame()\n",
    "vif['Features']=X_train_sc_df_rfe_sm.columns\n",
    "vif['VIF']=[variance_inflation_factor(X_train_sc_df_rfe_sm.values,i) for i in range(X_train_sc_df_rfe_sm.shape[1])]## shape(1) ---> for all coloumn\n",
    "vif['VIF']=round(vif['VIF'],2)\n",
    "vif=vif.sort_values(by='VIF',ascending=False)\n",
    "vif"
   ]
  },
  {
   "cell_type": "code",
   "execution_count": 48,
   "metadata": {},
   "outputs": [],
   "source": [
    "X_train_sc_df_rfe_sm.drop('bedrooms',axis=1,inplace=True)"
   ]
  },
  {
   "cell_type": "code",
   "execution_count": 49,
   "metadata": {},
   "outputs": [],
   "source": [
    "limod1=sm.OLS(y_train,X_train_sc_df_rfe_sm).fit()"
   ]
  },
  {
   "cell_type": "code",
   "execution_count": 50,
   "metadata": {},
   "outputs": [
    {
     "name": "stdout",
     "output_type": "stream",
     "text": [
      "                            OLS Regression Results                            \n",
      "==============================================================================\n",
      "Dep. Variable:                      y   R-squared:                       0.722\n",
      "Model:                            OLS   Adj. R-squared:                  0.714\n",
      "Method:                 Least Squares   F-statistic:                     98.29\n",
      "Date:                Tue, 24 Sep 2019   Prob (F-statistic):           1.48e-79\n",
      "Time:                        07:37:45   Log-Likelihood:                -4750.0\n",
      "No. Observations:                 312   AIC:                             9518.\n",
      "Df Residuals:                     303   BIC:                             9552.\n",
      "Df Model:                           8                                         \n",
      "Covariance Type:            nonrobust                                         \n",
      "===================================================================================\n",
      "                      coef    std err          t      P>|t|      [0.025      0.975]\n",
      "-----------------------------------------------------------------------------------\n",
      "const            4.885e+06   5.69e+04     85.893      0.000    4.77e+06       5e+06\n",
      "area             4.631e+05   6.25e+04      7.413      0.000     3.4e+05    5.86e+05\n",
      "bathrooms        6.144e+05   6.44e+04      9.544      0.000    4.88e+05    7.41e+05\n",
      "stories          3.914e+05   6.34e+04      6.174      0.000    2.67e+05    5.16e+05\n",
      "guestroom        1.481e+05   5.86e+04      2.525      0.012    3.27e+04    2.63e+05\n",
      "airconditioning  4.955e+05   6.24e+04      7.946      0.000    3.73e+05    6.18e+05\n",
      "parking          2.471e+05   6.04e+04      4.090      0.000    1.28e+05    3.66e+05\n",
      "prefarea         4.197e+05    5.9e+04      7.119      0.000    3.04e+05    5.36e+05\n",
      "unfurnished      -1.64e+05   5.87e+04     -2.792      0.006    -2.8e+05   -4.84e+04\n",
      "==============================================================================\n",
      "Omnibus:                       45.741   Durbin-Watson:                   2.065\n",
      "Prob(Omnibus):                  0.000   Jarque-Bera (JB):               91.781\n",
      "Skew:                           0.776   Prob(JB):                     1.18e-20\n",
      "Kurtosis:                       5.156   Cond. No.                         1.95\n",
      "==============================================================================\n",
      "\n",
      "Warnings:\n",
      "[1] Standard Errors assume that the covariance matrix of the errors is correctly specified.\n"
     ]
    }
   ],
   "source": [
    "print(limod1.summary())"
   ]
  },
  {
   "cell_type": "code",
   "execution_count": 51,
   "metadata": {},
   "outputs": [
    {
     "data": {
      "text/html": [
       "<div>\n",
       "<style scoped>\n",
       "    .dataframe tbody tr th:only-of-type {\n",
       "        vertical-align: middle;\n",
       "    }\n",
       "\n",
       "    .dataframe tbody tr th {\n",
       "        vertical-align: top;\n",
       "    }\n",
       "\n",
       "    .dataframe thead th {\n",
       "        text-align: right;\n",
       "    }\n",
       "</style>\n",
       "<table border=\"1\" class=\"dataframe\">\n",
       "  <thead>\n",
       "    <tr style=\"text-align: right;\">\n",
       "      <th></th>\n",
       "      <th>Features</th>\n",
       "      <th>VIF</th>\n",
       "    </tr>\n",
       "  </thead>\n",
       "  <tbody>\n",
       "    <tr>\n",
       "      <th>2</th>\n",
       "      <td>bathrooms</td>\n",
       "      <td>1.28</td>\n",
       "    </tr>\n",
       "    <tr>\n",
       "      <th>3</th>\n",
       "      <td>stories</td>\n",
       "      <td>1.24</td>\n",
       "    </tr>\n",
       "    <tr>\n",
       "      <th>1</th>\n",
       "      <td>area</td>\n",
       "      <td>1.21</td>\n",
       "    </tr>\n",
       "    <tr>\n",
       "      <th>5</th>\n",
       "      <td>airconditioning</td>\n",
       "      <td>1.20</td>\n",
       "    </tr>\n",
       "    <tr>\n",
       "      <th>6</th>\n",
       "      <td>parking</td>\n",
       "      <td>1.13</td>\n",
       "    </tr>\n",
       "    <tr>\n",
       "      <th>7</th>\n",
       "      <td>prefarea</td>\n",
       "      <td>1.07</td>\n",
       "    </tr>\n",
       "    <tr>\n",
       "      <th>8</th>\n",
       "      <td>unfurnished</td>\n",
       "      <td>1.07</td>\n",
       "    </tr>\n",
       "    <tr>\n",
       "      <th>4</th>\n",
       "      <td>guestroom</td>\n",
       "      <td>1.06</td>\n",
       "    </tr>\n",
       "    <tr>\n",
       "      <th>0</th>\n",
       "      <td>const</td>\n",
       "      <td>1.00</td>\n",
       "    </tr>\n",
       "  </tbody>\n",
       "</table>\n",
       "</div>"
      ],
      "text/plain": [
       "          Features   VIF\n",
       "2        bathrooms  1.28\n",
       "3          stories  1.24\n",
       "1             area  1.21\n",
       "5  airconditioning  1.20\n",
       "6          parking  1.13\n",
       "7         prefarea  1.07\n",
       "8      unfurnished  1.07\n",
       "4        guestroom  1.06\n",
       "0            const  1.00"
      ]
     },
     "execution_count": 51,
     "metadata": {},
     "output_type": "execute_result"
    }
   ],
   "source": [
    "#check for the VIF value of feature variables\n",
    "from statsmodels.stats.outliers_influence import variance_inflation_factor\n",
    "# create DF that vll contain all features variables and thier respective VIF\n",
    "vif=pd.DataFrame()\n",
    "vif['Features']=X_train_sc_df_rfe_sm.columns\n",
    "vif['VIF']=[variance_inflation_factor(X_train_sc_df_rfe_sm.values,i) for i in range(X_train_sc_df_rfe_sm.shape[1])]## shape(1) ---> for all coloumn\n",
    "vif['VIF']=round(vif['VIF'],2)\n",
    "vif=vif.sort_values(by='VIF',ascending=False)\n",
    "vif"
   ]
  },
  {
   "cell_type": "code",
   "execution_count": 52,
   "metadata": {},
   "outputs": [
    {
     "data": {
      "text/html": [
       "<div>\n",
       "<style scoped>\n",
       "    .dataframe tbody tr th:only-of-type {\n",
       "        vertical-align: middle;\n",
       "    }\n",
       "\n",
       "    .dataframe tbody tr th {\n",
       "        vertical-align: top;\n",
       "    }\n",
       "\n",
       "    .dataframe thead th {\n",
       "        text-align: right;\n",
       "    }\n",
       "</style>\n",
       "<table border=\"1\" class=\"dataframe\">\n",
       "  <thead>\n",
       "    <tr style=\"text-align: right;\">\n",
       "      <th></th>\n",
       "      <th>const</th>\n",
       "      <th>area</th>\n",
       "      <th>bedrooms</th>\n",
       "      <th>bathrooms</th>\n",
       "      <th>stories</th>\n",
       "      <th>mainroad</th>\n",
       "      <th>guestroom</th>\n",
       "      <th>basement</th>\n",
       "      <th>hotwaterheating</th>\n",
       "      <th>airconditioning</th>\n",
       "      <th>parking</th>\n",
       "      <th>prefarea</th>\n",
       "      <th>semi-furnished</th>\n",
       "      <th>unfurnished</th>\n",
       "    </tr>\n",
       "  </thead>\n",
       "  <tbody>\n",
       "    <tr>\n",
       "      <th>0</th>\n",
       "      <td>1.0</td>\n",
       "      <td>1.085803</td>\n",
       "      <td>0.149975</td>\n",
       "      <td>1.724831</td>\n",
       "      <td>0.095509</td>\n",
       "      <td>0.0</td>\n",
       "      <td>-0.488397</td>\n",
       "      <td>-0.803954</td>\n",
       "      <td>0.0</td>\n",
       "      <td>-0.718926</td>\n",
       "      <td>-0.851385</td>\n",
       "      <td>1.597696</td>\n",
       "      <td>1.169795</td>\n",
       "      <td>-0.534522</td>\n",
       "    </tr>\n",
       "    <tr>\n",
       "      <th>1</th>\n",
       "      <td>1.0</td>\n",
       "      <td>1.195414</td>\n",
       "      <td>0.149975</td>\n",
       "      <td>-0.535870</td>\n",
       "      <td>-0.978969</td>\n",
       "      <td>0.0</td>\n",
       "      <td>2.047513</td>\n",
       "      <td>1.243853</td>\n",
       "      <td>0.0</td>\n",
       "      <td>1.390965</td>\n",
       "      <td>0.264508</td>\n",
       "      <td>-0.625901</td>\n",
       "      <td>-0.854850</td>\n",
       "      <td>-0.534522</td>\n",
       "    </tr>\n",
       "    <tr>\n",
       "      <th>2</th>\n",
       "      <td>1.0</td>\n",
       "      <td>1.072650</td>\n",
       "      <td>-1.296214</td>\n",
       "      <td>-0.535870</td>\n",
       "      <td>-0.978969</td>\n",
       "      <td>0.0</td>\n",
       "      <td>-0.488397</td>\n",
       "      <td>-0.803954</td>\n",
       "      <td>0.0</td>\n",
       "      <td>-0.718926</td>\n",
       "      <td>0.264508</td>\n",
       "      <td>-0.625901</td>\n",
       "      <td>-0.854850</td>\n",
       "      <td>-0.534522</td>\n",
       "    </tr>\n",
       "    <tr>\n",
       "      <th>3</th>\n",
       "      <td>1.0</td>\n",
       "      <td>-0.817041</td>\n",
       "      <td>0.149975</td>\n",
       "      <td>1.724831</td>\n",
       "      <td>-0.978969</td>\n",
       "      <td>0.0</td>\n",
       "      <td>-0.488397</td>\n",
       "      <td>1.243853</td>\n",
       "      <td>0.0</td>\n",
       "      <td>1.390965</td>\n",
       "      <td>0.264508</td>\n",
       "      <td>-0.625901</td>\n",
       "      <td>-0.854850</td>\n",
       "      <td>-0.534522</td>\n",
       "    </tr>\n",
       "    <tr>\n",
       "      <th>4</th>\n",
       "      <td>1.0</td>\n",
       "      <td>-0.527668</td>\n",
       "      <td>-1.296214</td>\n",
       "      <td>-0.535870</td>\n",
       "      <td>-0.978969</td>\n",
       "      <td>0.0</td>\n",
       "      <td>-0.488397</td>\n",
       "      <td>1.243853</td>\n",
       "      <td>0.0</td>\n",
       "      <td>-0.718926</td>\n",
       "      <td>0.264508</td>\n",
       "      <td>-0.625901</td>\n",
       "      <td>1.169795</td>\n",
       "      <td>-0.534522</td>\n",
       "    </tr>\n",
       "  </tbody>\n",
       "</table>\n",
       "</div>"
      ],
      "text/plain": [
       "   const      area  bedrooms  bathrooms   stories  mainroad  guestroom  \\\n",
       "0    1.0  1.085803  0.149975   1.724831  0.095509       0.0  -0.488397   \n",
       "1    1.0  1.195414  0.149975  -0.535870 -0.978969       0.0   2.047513   \n",
       "2    1.0  1.072650 -1.296214  -0.535870 -0.978969       0.0  -0.488397   \n",
       "3    1.0 -0.817041  0.149975   1.724831 -0.978969       0.0  -0.488397   \n",
       "4    1.0 -0.527668 -1.296214  -0.535870 -0.978969       0.0  -0.488397   \n",
       "\n",
       "   basement  hotwaterheating  airconditioning   parking  prefarea  \\\n",
       "0 -0.803954              0.0        -0.718926 -0.851385  1.597696   \n",
       "1  1.243853              0.0         1.390965  0.264508 -0.625901   \n",
       "2 -0.803954              0.0        -0.718926  0.264508 -0.625901   \n",
       "3  1.243853              0.0         1.390965  0.264508 -0.625901   \n",
       "4  1.243853              0.0        -0.718926  0.264508 -0.625901   \n",
       "\n",
       "   semi-furnished  unfurnished  \n",
       "0        1.169795    -0.534522  \n",
       "1       -0.854850    -0.534522  \n",
       "2       -0.854850    -0.534522  \n",
       "3       -0.854850    -0.534522  \n",
       "4        1.169795    -0.534522  "
      ]
     },
     "execution_count": 52,
     "metadata": {},
     "output_type": "execute_result"
    }
   ],
   "source": [
    "# ADD CONSTANT TO TEST DATA\n",
    "X_test_sm=sm.add_constant(X_test_sc_df)\n",
    "X_test_sm.head()"
   ]
  },
  {
   "cell_type": "code",
   "execution_count": 53,
   "metadata": {},
   "outputs": [
    {
     "data": {
      "text/html": [
       "<div>\n",
       "<style scoped>\n",
       "    .dataframe tbody tr th:only-of-type {\n",
       "        vertical-align: middle;\n",
       "    }\n",
       "\n",
       "    .dataframe tbody tr th {\n",
       "        vertical-align: top;\n",
       "    }\n",
       "\n",
       "    .dataframe thead th {\n",
       "        text-align: right;\n",
       "    }\n",
       "</style>\n",
       "<table border=\"1\" class=\"dataframe\">\n",
       "  <thead>\n",
       "    <tr style=\"text-align: right;\">\n",
       "      <th></th>\n",
       "      <th>const</th>\n",
       "      <th>area</th>\n",
       "      <th>bathrooms</th>\n",
       "      <th>stories</th>\n",
       "      <th>guestroom</th>\n",
       "      <th>airconditioning</th>\n",
       "      <th>parking</th>\n",
       "      <th>prefarea</th>\n",
       "      <th>unfurnished</th>\n",
       "    </tr>\n",
       "  </thead>\n",
       "  <tbody>\n",
       "    <tr>\n",
       "      <th>0</th>\n",
       "      <td>1.0</td>\n",
       "      <td>1.085803</td>\n",
       "      <td>1.724831</td>\n",
       "      <td>0.095509</td>\n",
       "      <td>-0.488397</td>\n",
       "      <td>-0.718926</td>\n",
       "      <td>-0.851385</td>\n",
       "      <td>1.597696</td>\n",
       "      <td>-0.534522</td>\n",
       "    </tr>\n",
       "    <tr>\n",
       "      <th>1</th>\n",
       "      <td>1.0</td>\n",
       "      <td>1.195414</td>\n",
       "      <td>-0.535870</td>\n",
       "      <td>-0.978969</td>\n",
       "      <td>2.047513</td>\n",
       "      <td>1.390965</td>\n",
       "      <td>0.264508</td>\n",
       "      <td>-0.625901</td>\n",
       "      <td>-0.534522</td>\n",
       "    </tr>\n",
       "    <tr>\n",
       "      <th>2</th>\n",
       "      <td>1.0</td>\n",
       "      <td>1.072650</td>\n",
       "      <td>-0.535870</td>\n",
       "      <td>-0.978969</td>\n",
       "      <td>-0.488397</td>\n",
       "      <td>-0.718926</td>\n",
       "      <td>0.264508</td>\n",
       "      <td>-0.625901</td>\n",
       "      <td>-0.534522</td>\n",
       "    </tr>\n",
       "    <tr>\n",
       "      <th>3</th>\n",
       "      <td>1.0</td>\n",
       "      <td>-0.817041</td>\n",
       "      <td>1.724831</td>\n",
       "      <td>-0.978969</td>\n",
       "      <td>-0.488397</td>\n",
       "      <td>1.390965</td>\n",
       "      <td>0.264508</td>\n",
       "      <td>-0.625901</td>\n",
       "      <td>-0.534522</td>\n",
       "    </tr>\n",
       "    <tr>\n",
       "      <th>4</th>\n",
       "      <td>1.0</td>\n",
       "      <td>-0.527668</td>\n",
       "      <td>-0.535870</td>\n",
       "      <td>-0.978969</td>\n",
       "      <td>-0.488397</td>\n",
       "      <td>-0.718926</td>\n",
       "      <td>0.264508</td>\n",
       "      <td>-0.625901</td>\n",
       "      <td>-0.534522</td>\n",
       "    </tr>\n",
       "  </tbody>\n",
       "</table>\n",
       "</div>"
      ],
      "text/plain": [
       "   const      area  bathrooms   stories  guestroom  airconditioning   parking  \\\n",
       "0    1.0  1.085803   1.724831  0.095509  -0.488397        -0.718926 -0.851385   \n",
       "1    1.0  1.195414  -0.535870 -0.978969   2.047513         1.390965  0.264508   \n",
       "2    1.0  1.072650  -0.535870 -0.978969  -0.488397        -0.718926  0.264508   \n",
       "3    1.0 -0.817041   1.724831 -0.978969  -0.488397         1.390965  0.264508   \n",
       "4    1.0 -0.527668  -0.535870 -0.978969  -0.488397        -0.718926  0.264508   \n",
       "\n",
       "   prefarea  unfurnished  \n",
       "0  1.597696    -0.534522  \n",
       "1 -0.625901    -0.534522  \n",
       "2 -0.625901    -0.534522  \n",
       "3 -0.625901    -0.534522  \n",
       "4 -0.625901    -0.534522  "
      ]
     },
     "execution_count": 53,
     "metadata": {},
     "output_type": "execute_result"
    }
   ],
   "source": [
    "# IT CHOOSE COLUMN FROM TRAINED DATA FOR TEST DATA ANAYSIS\n",
    "X_test_sm=X_test_sm[X_train_sc_df_rfe_sm.columns]\n",
    "X_test_sm.head()"
   ]
  },
  {
   "cell_type": "code",
   "execution_count": 54,
   "metadata": {},
   "outputs": [],
   "source": [
    "y_train_sm_pred=limod1.predict(X_train_sc_df_rfe_sm)"
   ]
  },
  {
   "cell_type": "code",
   "execution_count": 55,
   "metadata": {},
   "outputs": [],
   "source": [
    "y_pred_test_sm=limod1.predict(X_test_sm)\n"
   ]
  },
  {
   "cell_type": "code",
   "execution_count": 56,
   "metadata": {},
   "outputs": [],
   "source": [
    "from sklearn.metrics import r2_score"
   ]
  },
  {
   "cell_type": "code",
   "execution_count": 57,
   "metadata": {},
   "outputs": [
    {
     "data": {
      "text/plain": [
       "0.721839815589142"
      ]
     },
     "execution_count": 57,
     "metadata": {},
     "output_type": "execute_result"
    }
   ],
   "source": [
    "r2_score(y_train,y_train_sm_pred)"
   ]
  },
  {
   "cell_type": "code",
   "execution_count": 58,
   "metadata": {},
   "outputs": [
    {
     "data": {
      "text/plain": [
       "0.5326026631669174"
      ]
     },
     "execution_count": 58,
     "metadata": {},
     "output_type": "execute_result"
    }
   ],
   "source": [
    "r2_score(y_test,y_pred_test_sm)"
   ]
  },
  {
   "cell_type": "markdown",
   "metadata": {},
   "source": [
    "## linear"
   ]
  },
  {
   "cell_type": "code",
   "execution_count": 59,
   "metadata": {},
   "outputs": [],
   "source": [
    "# from sklearn.linear_model import LinearRegression\n",
    "# lr.fit(X_train_sc_df_rfe_sm,y_train)\n",
    "# y_pred=lr.predict(X_test_sm)\n",
    "# y_pred_train=lr.predict(X_train_sc_df_rfe_sm)#check/predect for train data output "
   ]
  },
  {
   "cell_type": "code",
   "execution_count": 60,
   "metadata": {},
   "outputs": [],
   "source": [
    "# r2_score(y_test,y_pred)"
   ]
  },
  {
   "cell_type": "code",
   "execution_count": 61,
   "metadata": {},
   "outputs": [],
   "source": [
    "# r2_score(y_train,y_pred_train)"
   ]
  },
  {
   "cell_type": "code",
   "execution_count": 62,
   "metadata": {},
   "outputs": [],
   "source": [
    "# from sklearn.linear_model import LinearRegression\n",
    "# lr.fit(X_train_sc_df_rfe,y_train)\n",
    "# y_pred=lr.predict(X_test)\n",
    "# y_pred_train=lr.predict(X_train_sc_df_rfe)#check/predect for train data output "
   ]
  },
  {
   "cell_type": "code",
   "execution_count": 63,
   "metadata": {},
   "outputs": [],
   "source": [
    "# r2_score(y_test,y_pred)"
   ]
  },
  {
   "cell_type": "code",
   "execution_count": 64,
   "metadata": {},
   "outputs": [],
   "source": [
    "# r2_score(y_train,y_pred_train)"
   ]
  },
  {
   "cell_type": "code",
   "execution_count": 65,
   "metadata": {},
   "outputs": [],
   "source": [
    "from sklearn import metrics"
   ]
  },
  {
   "cell_type": "code",
   "execution_count": 73,
   "metadata": {},
   "outputs": [],
   "source": [
    "from sklearn.linear_model import LinearRegression\n",
    "lr.fit(X_train,y_train)\n",
    "y_pred=lr.predict(X_test)\n",
    "y_pred_train=lr.predict(X_train)#check/predect for train data output "
   ]
  },
  {
   "cell_type": "code",
   "execution_count": 74,
   "metadata": {},
   "outputs": [
    {
     "data": {
      "text/plain": [
       "0.5370415703628413"
      ]
     },
     "execution_count": 74,
     "metadata": {},
     "output_type": "execute_result"
    }
   ],
   "source": [
    "r2_score(y_test,y_pred)"
   ]
  },
  {
   "cell_type": "code",
   "execution_count": 75,
   "metadata": {},
   "outputs": [
    {
     "data": {
      "text/plain": [
       "0.7243248986441448"
      ]
     },
     "execution_count": 75,
     "metadata": {},
     "output_type": "execute_result"
    }
   ],
   "source": [
    "r2_score(y_train,y_pred_train)"
   ]
  },
  {
   "cell_type": "code",
   "execution_count": null,
   "metadata": {},
   "outputs": [],
   "source": []
  },
  {
   "cell_type": "code",
   "execution_count": 69,
   "metadata": {},
   "outputs": [
    {
     "name": "stdout",
     "output_type": "stream",
     "text": [
      "MAE 897956.7999225559\n",
      "MSE 1604973212511.0522\n",
      "RMSE 1266875.3737092896\n"
     ]
    }
   ],
   "source": [
    "print('MAE',metrics.mean_absolute_error(y_test,y_pred))\n",
    "print('MSE',metrics.mean_squared_error(y_test,y_pred))\n",
    "print('RMSE',np.sqrt(metrics.mean_squared_error(y_test,y_pred)))"
   ]
  }
 ],
 "metadata": {
  "kernelspec": {
   "display_name": "Python 3",
   "language": "python",
   "name": "python3"
  },
  "language_info": {
   "codemirror_mode": {
    "name": "ipython",
    "version": 3
   },
   "file_extension": ".py",
   "mimetype": "text/x-python",
   "name": "python",
   "nbconvert_exporter": "python",
   "pygments_lexer": "ipython3",
   "version": "3.7.3"
  }
 },
 "nbformat": 4,
 "nbformat_minor": 2
}
